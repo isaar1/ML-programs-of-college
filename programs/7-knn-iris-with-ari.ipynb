{
 "cells": [
  {
   "cell_type": "code",
   "execution_count": 1,
   "id": "5d6a54aa",
   "metadata": {
    "_cell_guid": "b1076dfc-b9ad-4769-8c92-a6c4dae69d19",
    "_uuid": "8f2839f25d086af736a60e9eeb907d3b93b6e0e5",
    "execution": {
     "iopub.execute_input": "2024-04-30T11:06:12.925234Z",
     "iopub.status.busy": "2024-04-30T11:06:12.924768Z",
     "iopub.status.idle": "2024-04-30T11:06:13.842440Z",
     "shell.execute_reply": "2024-04-30T11:06:13.841297Z"
    },
    "papermill": {
     "duration": 0.927109,
     "end_time": "2024-04-30T11:06:13.845110",
     "exception": false,
     "start_time": "2024-04-30T11:06:12.918001",
     "status": "completed"
    },
    "tags": []
   },
   "outputs": [],
   "source": [
    "# This Python 3 environment comes with many helpful analytics libraries installed\n",
    "# It is defined by the kaggle/python Docker image: https://github.com/kaggle/docker-python\n",
    "# For example, here's several helpful packages to load\n",
    "\n",
    "import numpy as np # linear algebra\n",
    "import pandas as pd # data processing, CSV file I/O (e.g. pd.read_csv)\n",
    "\n",
    "# Input data files are available in the read-only \"../input/\" directory\n",
    "# For example, running this (by clicking run or pressing Shift+Enter) will list all files under the input directory\n",
    "\n",
    "import os\n",
    "for dirname, _, filenames in os.walk('/kaggle/input'):\n",
    "    for filename in filenames:\n",
    "        print(os.path.join(dirname, filename))\n",
    "\n",
    "# You can write up to 20GB to the current directory (/kaggle/working/) that gets preserved as output when you create a version using \"Save & Run All\" \n",
    "# You can also write temporary files to /kaggle/temp/, but they won't be saved outside of the current session"
   ]
  },
  {
   "cell_type": "markdown",
   "id": "7fa29146",
   "metadata": {
    "execution": {
     "iopub.execute_input": "2024-04-28T18:00:26.244914Z",
     "iopub.status.busy": "2024-04-28T18:00:26.244182Z",
     "iopub.status.idle": "2024-04-28T18:00:26.250514Z",
     "shell.execute_reply": "2024-04-28T18:00:26.249481Z",
     "shell.execute_reply.started": "2024-04-28T18:00:26.244871Z"
    },
    "papermill": {
     "duration": 0.004253,
     "end_time": "2024-04-30T11:06:13.854194",
     "exception": false,
     "start_time": "2024-04-30T11:06:13.849941",
     "status": "completed"
    },
    "tags": []
   },
   "source": [
    "# > ***Iris dataset classification with K-Nearest Neighbours Algorithm with Adjusted Rand Index Evaluation***"
   ]
  },
  {
   "cell_type": "code",
   "execution_count": 2,
   "id": "9c46526d",
   "metadata": {
    "execution": {
     "iopub.execute_input": "2024-04-30T11:06:13.865026Z",
     "iopub.status.busy": "2024-04-30T11:06:13.864468Z",
     "iopub.status.idle": "2024-04-30T11:06:15.511087Z",
     "shell.execute_reply": "2024-04-30T11:06:15.509473Z"
    },
    "papermill": {
     "duration": 1.655651,
     "end_time": "2024-04-30T11:06:15.514262",
     "exception": false,
     "start_time": "2024-04-30T11:06:13.858611",
     "status": "completed"
    },
    "tags": []
   },
   "outputs": [],
   "source": [
    "from sklearn.datasets import load_iris\n",
    "from sklearn import tree\n",
    "from sklearn.model_selection import train_test_split\n",
    "from sklearn.neighbors import KNeighborsClassifier\n",
    "from sklearn.metrics import adjusted_rand_score\n",
    "import matplotlib.pyplot as plt"
   ]
  },
  {
   "cell_type": "code",
   "execution_count": 3,
   "id": "4e041c5b",
   "metadata": {
    "execution": {
     "iopub.execute_input": "2024-04-30T11:06:15.525375Z",
     "iopub.status.busy": "2024-04-30T11:06:15.524953Z",
     "iopub.status.idle": "2024-04-30T11:06:15.536795Z",
     "shell.execute_reply": "2024-04-30T11:06:15.535427Z"
    },
    "papermill": {
     "duration": 0.020436,
     "end_time": "2024-04-30T11:06:15.539529",
     "exception": false,
     "start_time": "2024-04-30T11:06:15.519093",
     "status": "completed"
    },
    "tags": []
   },
   "outputs": [],
   "source": [
    "iris = load_iris()\n",
    "# print(iris)"
   ]
  },
  {
   "cell_type": "code",
   "execution_count": 4,
   "id": "1e4f0d73",
   "metadata": {
    "execution": {
     "iopub.execute_input": "2024-04-30T11:06:15.549964Z",
     "iopub.status.busy": "2024-04-30T11:06:15.549574Z",
     "iopub.status.idle": "2024-04-30T11:06:15.554521Z",
     "shell.execute_reply": "2024-04-30T11:06:15.553548Z"
    },
    "papermill": {
     "duration": 0.012463,
     "end_time": "2024-04-30T11:06:15.556661",
     "exception": false,
     "start_time": "2024-04-30T11:06:15.544198",
     "status": "completed"
    },
    "tags": []
   },
   "outputs": [],
   "source": [
    "X, y = iris.data, iris.target"
   ]
  },
  {
   "cell_type": "code",
   "execution_count": 5,
   "id": "ba782c65",
   "metadata": {
    "execution": {
     "iopub.execute_input": "2024-04-30T11:06:15.566737Z",
     "iopub.status.busy": "2024-04-30T11:06:15.566390Z",
     "iopub.status.idle": "2024-04-30T11:06:15.575265Z",
     "shell.execute_reply": "2024-04-30T11:06:15.574296Z"
    },
    "papermill": {
     "duration": 0.016799,
     "end_time": "2024-04-30T11:06:15.577835",
     "exception": false,
     "start_time": "2024-04-30T11:06:15.561036",
     "status": "completed"
    },
    "tags": []
   },
   "outputs": [
    {
     "name": "stdout",
     "output_type": "stream",
     "text": [
      "(105, 4) (45, 4) 105 45\n"
     ]
    }
   ],
   "source": [
    "X_train, test_x, y_train, test_lab = train_test_split(X, y, test_size = 0.3, random_state = 42)\n",
    "\n",
    "print(X_train.shape, test_x.shape, len(y_train), len(test_lab))"
   ]
  },
  {
   "cell_type": "code",
   "execution_count": 6,
   "id": "acd4be56",
   "metadata": {
    "execution": {
     "iopub.execute_input": "2024-04-30T11:06:15.588813Z",
     "iopub.status.busy": "2024-04-30T11:06:15.588455Z",
     "iopub.status.idle": "2024-04-30T11:06:15.597367Z",
     "shell.execute_reply": "2024-04-30T11:06:15.596200Z"
    },
    "papermill": {
     "duration": 0.016977,
     "end_time": "2024-04-30T11:06:15.599890",
     "exception": false,
     "start_time": "2024-04-30T11:06:15.582913",
     "status": "completed"
    },
    "tags": []
   },
   "outputs": [],
   "source": [
    "clf = KNeighborsClassifier(n_neighbors = 3)\n",
    "\n",
    "clf = clf.fit(X_train, y_train)"
   ]
  },
  {
   "cell_type": "code",
   "execution_count": 7,
   "id": "d115e3eb",
   "metadata": {
    "execution": {
     "iopub.execute_input": "2024-04-30T11:06:15.610748Z",
     "iopub.status.busy": "2024-04-30T11:06:15.610415Z",
     "iopub.status.idle": "2024-04-30T11:06:15.623684Z",
     "shell.execute_reply": "2024-04-30T11:06:15.622640Z"
    },
    "papermill": {
     "duration": 0.021676,
     "end_time": "2024-04-30T11:06:15.626350",
     "exception": false,
     "start_time": "2024-04-30T11:06:15.604674",
     "status": "completed"
    },
    "tags": []
   },
   "outputs": [],
   "source": [
    "test_pred_deci_tree = clf.predict(test_x)"
   ]
  },
  {
   "cell_type": "code",
   "execution_count": 8,
   "id": "33bca9bd",
   "metadata": {
    "execution": {
     "iopub.execute_input": "2024-04-30T11:06:15.637042Z",
     "iopub.status.busy": "2024-04-30T11:06:15.636638Z",
     "iopub.status.idle": "2024-04-30T11:06:15.643271Z",
     "shell.execute_reply": "2024-04-30T11:06:15.642255Z"
    },
    "papermill": {
     "duration": 0.015173,
     "end_time": "2024-04-30T11:06:15.646115",
     "exception": false,
     "start_time": "2024-04-30T11:06:15.630942",
     "status": "completed"
    },
    "tags": []
   },
   "outputs": [
    {
     "name": "stdout",
     "output_type": "stream",
     "text": [
      "[1 0 2 1 1 0 1 2 1 1 2 0 0 0 0 1 2 1 1 2 0 2 0 2 2 2 2 2 0 0 0 0 1 0 0 2 1\n",
      " 0 0 0 2 1 1 0 0] 45\n"
     ]
    }
   ],
   "source": [
    "print(test_lab, len(test_lab))"
   ]
  },
  {
   "cell_type": "code",
   "execution_count": 9,
   "id": "0f43c752",
   "metadata": {
    "execution": {
     "iopub.execute_input": "2024-04-30T11:06:15.656836Z",
     "iopub.status.busy": "2024-04-30T11:06:15.656465Z",
     "iopub.status.idle": "2024-04-30T11:06:15.662049Z",
     "shell.execute_reply": "2024-04-30T11:06:15.661074Z"
    },
    "papermill": {
     "duration": 0.014034,
     "end_time": "2024-04-30T11:06:15.664772",
     "exception": false,
     "start_time": "2024-04-30T11:06:15.650738",
     "status": "completed"
    },
    "tags": []
   },
   "outputs": [
    {
     "name": "stdout",
     "output_type": "stream",
     "text": [
      "[1 0 2 1 1 0 1 2 1 1 2 0 0 0 0 1 2 1 1 2 0 2 0 2 2 2 2 2 0 0 0 0 1 0 0 2 1\n",
      " 0 0 0 2 1 1 0 0] 45\n"
     ]
    }
   ],
   "source": [
    "print(test_pred_deci_tree, len(test_pred_deci_tree))"
   ]
  },
  {
   "cell_type": "code",
   "execution_count": 10,
   "id": "0ed03e02",
   "metadata": {
    "execution": {
     "iopub.execute_input": "2024-04-30T11:06:15.676247Z",
     "iopub.status.busy": "2024-04-30T11:06:15.675841Z",
     "iopub.status.idle": "2024-04-30T11:06:15.690434Z",
     "shell.execute_reply": "2024-04-30T11:06:15.689412Z"
    },
    "papermill": {
     "duration": 0.023232,
     "end_time": "2024-04-30T11:06:15.692894",
     "exception": false,
     "start_time": "2024-04-30T11:06:15.669662",
     "status": "completed"
    },
    "tags": []
   },
   "outputs": [
    {
     "name": "stdout",
     "output_type": "stream",
     "text": [
      "ARI 1.0\n"
     ]
    }
   ],
   "source": [
    "print(\"ARI\",adjusted_rand_score(test_pred_deci_tree, test_lab))"
   ]
  }
 ],
 "metadata": {
  "kaggle": {
   "accelerator": "none",
   "dataSources": [],
   "dockerImageVersionId": 30698,
   "isGpuEnabled": false,
   "isInternetEnabled": true,
   "language": "python",
   "sourceType": "notebook"
  },
  "kernelspec": {
   "display_name": "Python 3",
   "language": "python",
   "name": "python3"
  },
  "language_info": {
   "codemirror_mode": {
    "name": "ipython",
    "version": 3
   },
   "file_extension": ".py",
   "mimetype": "text/x-python",
   "name": "python",
   "nbconvert_exporter": "python",
   "pygments_lexer": "ipython3",
   "version": "3.10.13"
  },
  "papermill": {
   "default_parameters": {},
   "duration": 6.363822,
   "end_time": "2024-04-30T11:06:16.320092",
   "environment_variables": {},
   "exception": null,
   "input_path": "__notebook__.ipynb",
   "output_path": "__notebook__.ipynb",
   "parameters": {},
   "start_time": "2024-04-30T11:06:09.956270",
   "version": "2.5.0"
  }
 },
 "nbformat": 4,
 "nbformat_minor": 5
}
