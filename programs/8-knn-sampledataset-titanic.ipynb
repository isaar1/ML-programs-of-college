{
 "cells": [
  {
   "cell_type": "code",
   "execution_count": 1,
   "id": "37dfcf63",
   "metadata": {
    "_cell_guid": "b1076dfc-b9ad-4769-8c92-a6c4dae69d19",
    "_uuid": "8f2839f25d086af736a60e9eeb907d3b93b6e0e5",
    "execution": {
     "iopub.execute_input": "2024-04-30T11:06:48.577650Z",
     "iopub.status.busy": "2024-04-30T11:06:48.576650Z",
     "iopub.status.idle": "2024-04-30T11:06:49.407854Z",
     "shell.execute_reply": "2024-04-30T11:06:49.405719Z"
    },
    "papermill": {
     "duration": 0.839242,
     "end_time": "2024-04-30T11:06:49.410429",
     "exception": false,
     "start_time": "2024-04-30T11:06:48.571187",
     "status": "completed"
    },
    "tags": []
   },
   "outputs": [
    {
     "name": "stdout",
     "output_type": "stream",
     "text": [
      "/kaggle/input/students-performance/StudentsPerformance_with_headers.csv\n",
      "/kaggle/input/students-performance/highereducationstudentsperformanceevaluation/DATA (1).csv\n"
     ]
    }
   ],
   "source": [
    "# This Python 3 environment comes with many helpful analytics libraries installed\n",
    "# It is defined by the kaggle/python Docker image: https://github.com/kaggle/docker-python\n",
    "# For example, here's several helpful packages to load\n",
    "\n",
    "import numpy as np # linear algebra\n",
    "import pandas as pd # data processing, CSV file I/O (e.g. pd.read_csv)\n",
    "\n",
    "# Input data files are available in the read-only \"../input/\" directory\n",
    "# For example, running this (by clicking run or pressing Shift+Enter) will list all files under the input directory\n",
    "\n",
    "import os\n",
    "for dirname, _, filenames in os.walk('/kaggle/input'):\n",
    "    for filename in filenames:\n",
    "        print(os.path.join(dirname, filename))\n",
    "\n",
    "# You can write up to 20GB to the current directory (/kaggle/working/) that gets preserved as output when you create a version using \"Save & Run All\" \n",
    "# You can also write temporary files to /kaggle/temp/, but they won't be saved outside of the current session"
   ]
  },
  {
   "cell_type": "markdown",
   "id": "c1478dda",
   "metadata": {
    "papermill": {
     "duration": 0.003435,
     "end_time": "2024-04-30T11:06:49.417906",
     "exception": false,
     "start_time": "2024-04-30T11:06:49.414471",
     "status": "completed"
    },
    "tags": []
   },
   "source": [
    "# > ***08)\tClassification of Sample Data Using K-Nearest Neighbours with Adjusted Rand Index Evaluation***"
   ]
  },
  {
   "cell_type": "code",
   "execution_count": 2,
   "id": "3005e432",
   "metadata": {
    "execution": {
     "iopub.execute_input": "2024-04-30T11:06:49.426386Z",
     "iopub.status.busy": "2024-04-30T11:06:49.425892Z",
     "iopub.status.idle": "2024-04-30T11:06:50.709387Z",
     "shell.execute_reply": "2024-04-30T11:06:50.708271Z"
    },
    "papermill": {
     "duration": 1.291223,
     "end_time": "2024-04-30T11:06:50.712544",
     "exception": false,
     "start_time": "2024-04-30T11:06:49.421321",
     "status": "completed"
    },
    "tags": []
   },
   "outputs": [],
   "source": [
    "from sklearn.model_selection import train_test_split\n",
    "from sklearn.neighbors import KNeighborsClassifier\n",
    "from sklearn.metrics.cluster import adjusted_rand_score\n",
    "import pandas as pd\n",
    "import numpy as np"
   ]
  },
  {
   "cell_type": "code",
   "execution_count": 3,
   "id": "f8042358",
   "metadata": {
    "execution": {
     "iopub.execute_input": "2024-04-30T11:06:50.721621Z",
     "iopub.status.busy": "2024-04-30T11:06:50.720672Z",
     "iopub.status.idle": "2024-04-30T11:06:50.756070Z",
     "shell.execute_reply": "2024-04-30T11:06:50.754945Z"
    },
    "papermill": {
     "duration": 0.04234,
     "end_time": "2024-04-30T11:06:50.758475",
     "exception": false,
     "start_time": "2024-04-30T11:06:50.716135",
     "status": "completed"
    },
    "tags": []
   },
   "outputs": [
    {
     "name": "stdout",
     "output_type": "stream",
     "text": [
      "  STUDENT ID  1  2  3  4  5  6  7  8  9  ...  23  24  25  26  27  28  29  30  \\\n",
      "0   STUDENT1  2  2  3  3  1  2  2  1  1  ...   1   1   3   2   1   2   1   1   \n",
      "1   STUDENT2  2  2  3  3  1  2  2  1  1  ...   1   1   3   2   3   2   2   3   \n",
      "2   STUDENT3  2  2  2  3  2  2  2  2  4  ...   1   1   2   2   1   1   2   2   \n",
      "3   STUDENT4  1  1  1  3  1  2  1  2  1  ...   1   2   3   2   2   1   3   2   \n",
      "4   STUDENT5  2  2  1  3  2  2  1  3  1  ...   2   1   2   2   2   1   2   2   \n",
      "\n",
      "   COURSE ID  GRADE  \n",
      "0          1      1  \n",
      "1          1      1  \n",
      "2          1      1  \n",
      "3          1      1  \n",
      "4          1      1  \n",
      "\n",
      "[5 rows x 33 columns]\n"
     ]
    }
   ],
   "source": [
    "file = pd.read_csv(\"/kaggle/input/students-performance/highereducationstudentsperformanceevaluation/DATA (1).csv\")\n",
    "print(file.head())"
   ]
  },
  {
   "cell_type": "code",
   "execution_count": 4,
   "id": "f2e20fc8",
   "metadata": {
    "execution": {
     "iopub.execute_input": "2024-04-30T11:06:50.767020Z",
     "iopub.status.busy": "2024-04-30T11:06:50.766659Z",
     "iopub.status.idle": "2024-04-30T11:06:50.790869Z",
     "shell.execute_reply": "2024-04-30T11:06:50.789943Z"
    },
    "papermill": {
     "duration": 0.030811,
     "end_time": "2024-04-30T11:06:50.792894",
     "exception": false,
     "start_time": "2024-04-30T11:06:50.762083",
     "status": "completed"
    },
    "tags": []
   },
   "outputs": [
    {
     "data": {
      "text/html": [
       "<div>\n",
       "<style scoped>\n",
       "    .dataframe tbody tr th:only-of-type {\n",
       "        vertical-align: middle;\n",
       "    }\n",
       "\n",
       "    .dataframe tbody tr th {\n",
       "        vertical-align: top;\n",
       "    }\n",
       "\n",
       "    .dataframe thead th {\n",
       "        text-align: right;\n",
       "    }\n",
       "</style>\n",
       "<table border=\"1\" class=\"dataframe\">\n",
       "  <thead>\n",
       "    <tr style=\"text-align: right;\">\n",
       "      <th></th>\n",
       "      <th>1</th>\n",
       "      <th>2</th>\n",
       "      <th>3</th>\n",
       "      <th>4</th>\n",
       "      <th>5</th>\n",
       "      <th>6</th>\n",
       "      <th>7</th>\n",
       "      <th>8</th>\n",
       "      <th>9</th>\n",
       "      <th>10</th>\n",
       "      <th>...</th>\n",
       "      <th>23</th>\n",
       "      <th>24</th>\n",
       "      <th>25</th>\n",
       "      <th>26</th>\n",
       "      <th>27</th>\n",
       "      <th>28</th>\n",
       "      <th>29</th>\n",
       "      <th>30</th>\n",
       "      <th>COURSE ID</th>\n",
       "      <th>GRADE</th>\n",
       "    </tr>\n",
       "  </thead>\n",
       "  <tbody>\n",
       "    <tr>\n",
       "      <th>104</th>\n",
       "      <td>1</td>\n",
       "      <td>1</td>\n",
       "      <td>2</td>\n",
       "      <td>3</td>\n",
       "      <td>2</td>\n",
       "      <td>2</td>\n",
       "      <td>2</td>\n",
       "      <td>1</td>\n",
       "      <td>2</td>\n",
       "      <td>2</td>\n",
       "      <td>...</td>\n",
       "      <td>1</td>\n",
       "      <td>1</td>\n",
       "      <td>2</td>\n",
       "      <td>3</td>\n",
       "      <td>2</td>\n",
       "      <td>2</td>\n",
       "      <td>1</td>\n",
       "      <td>1</td>\n",
       "      <td>7</td>\n",
       "      <td>3</td>\n",
       "    </tr>\n",
       "    <tr>\n",
       "      <th>8</th>\n",
       "      <td>2</td>\n",
       "      <td>1</td>\n",
       "      <td>3</td>\n",
       "      <td>3</td>\n",
       "      <td>2</td>\n",
       "      <td>1</td>\n",
       "      <td>1</td>\n",
       "      <td>1</td>\n",
       "      <td>1</td>\n",
       "      <td>3</td>\n",
       "      <td>...</td>\n",
       "      <td>1</td>\n",
       "      <td>1</td>\n",
       "      <td>3</td>\n",
       "      <td>2</td>\n",
       "      <td>2</td>\n",
       "      <td>2</td>\n",
       "      <td>4</td>\n",
       "      <td>3</td>\n",
       "      <td>1</td>\n",
       "      <td>5</td>\n",
       "    </tr>\n",
       "    <tr>\n",
       "      <th>144</th>\n",
       "      <td>1</td>\n",
       "      <td>1</td>\n",
       "      <td>1</td>\n",
       "      <td>5</td>\n",
       "      <td>2</td>\n",
       "      <td>2</td>\n",
       "      <td>2</td>\n",
       "      <td>3</td>\n",
       "      <td>1</td>\n",
       "      <td>1</td>\n",
       "      <td>...</td>\n",
       "      <td>2</td>\n",
       "      <td>1</td>\n",
       "      <td>3</td>\n",
       "      <td>2</td>\n",
       "      <td>3</td>\n",
       "      <td>1</td>\n",
       "      <td>5</td>\n",
       "      <td>4</td>\n",
       "      <td>9</td>\n",
       "      <td>3</td>\n",
       "    </tr>\n",
       "    <tr>\n",
       "      <th>95</th>\n",
       "      <td>1</td>\n",
       "      <td>2</td>\n",
       "      <td>3</td>\n",
       "      <td>5</td>\n",
       "      <td>1</td>\n",
       "      <td>1</td>\n",
       "      <td>1</td>\n",
       "      <td>1</td>\n",
       "      <td>2</td>\n",
       "      <td>3</td>\n",
       "      <td>...</td>\n",
       "      <td>1</td>\n",
       "      <td>1</td>\n",
       "      <td>3</td>\n",
       "      <td>2</td>\n",
       "      <td>2</td>\n",
       "      <td>1</td>\n",
       "      <td>4</td>\n",
       "      <td>3</td>\n",
       "      <td>7</td>\n",
       "      <td>5</td>\n",
       "    </tr>\n",
       "    <tr>\n",
       "      <th>57</th>\n",
       "      <td>2</td>\n",
       "      <td>2</td>\n",
       "      <td>2</td>\n",
       "      <td>3</td>\n",
       "      <td>1</td>\n",
       "      <td>1</td>\n",
       "      <td>2</td>\n",
       "      <td>1</td>\n",
       "      <td>1</td>\n",
       "      <td>1</td>\n",
       "      <td>...</td>\n",
       "      <td>1</td>\n",
       "      <td>1</td>\n",
       "      <td>3</td>\n",
       "      <td>2</td>\n",
       "      <td>3</td>\n",
       "      <td>1</td>\n",
       "      <td>5</td>\n",
       "      <td>4</td>\n",
       "      <td>1</td>\n",
       "      <td>4</td>\n",
       "    </tr>\n",
       "  </tbody>\n",
       "</table>\n",
       "<p>5 rows × 32 columns</p>\n",
       "</div>"
      ],
      "text/plain": [
       "     1  2  3  4  5  6  7  8  9  10  ...  23  24  25  26  27  28  29  30  \\\n",
       "104  1  1  2  3  2  2  2  1  2   2  ...   1   1   2   3   2   2   1   1   \n",
       "8    2  1  3  3  2  1  1  1  1   3  ...   1   1   3   2   2   2   4   3   \n",
       "144  1  1  1  5  2  2  2  3  1   1  ...   2   1   3   2   3   1   5   4   \n",
       "95   1  2  3  5  1  1  1  1  2   3  ...   1   1   3   2   2   1   4   3   \n",
       "57   2  2  2  3  1  1  2  1  1   1  ...   1   1   3   2   3   1   5   4   \n",
       "\n",
       "     COURSE ID  GRADE  \n",
       "104          7      3  \n",
       "8            1      5  \n",
       "144          9      3  \n",
       "95           7      5  \n",
       "57           1      4  \n",
       "\n",
       "[5 rows x 32 columns]"
      ]
     },
     "execution_count": 4,
     "metadata": {},
     "output_type": "execute_result"
    }
   ],
   "source": [
    "# Here, I've removed the column containing student IDs from the dataset.\n",
    "file.drop(\"STUDENT ID\",axis=1,inplace=True)\n",
    "file.sample(5)"
   ]
  },
  {
   "cell_type": "code",
   "execution_count": 5,
   "id": "9b62aaa1",
   "metadata": {
    "execution": {
     "iopub.execute_input": "2024-04-30T11:06:50.802542Z",
     "iopub.status.busy": "2024-04-30T11:06:50.801813Z",
     "iopub.status.idle": "2024-04-30T11:06:50.807019Z",
     "shell.execute_reply": "2024-04-30T11:06:50.806273Z"
    },
    "papermill": {
     "duration": 0.01216,
     "end_time": "2024-04-30T11:06:50.808940",
     "exception": false,
     "start_time": "2024-04-30T11:06:50.796780",
     "status": "completed"
    },
    "tags": []
   },
   "outputs": [],
   "source": [
    "f = np.array(file)\n",
    "X = file.iloc[:,:-1]\n",
    "y = list(file.iloc[:,-1])"
   ]
  },
  {
   "cell_type": "code",
   "execution_count": 6,
   "id": "ed7e5e13",
   "metadata": {
    "execution": {
     "iopub.execute_input": "2024-04-30T11:06:50.818905Z",
     "iopub.status.busy": "2024-04-30T11:06:50.817965Z",
     "iopub.status.idle": "2024-04-30T11:06:50.825354Z",
     "shell.execute_reply": "2024-04-30T11:06:50.824246Z"
    },
    "papermill": {
     "duration": 0.014484,
     "end_time": "2024-04-30T11:06:50.827299",
     "exception": false,
     "start_time": "2024-04-30T11:06:50.812815",
     "status": "completed"
    },
    "tags": []
   },
   "outputs": [
    {
     "name": "stdout",
     "output_type": "stream",
     "text": [
      "(101, 31) (44, 31) 101 44\n"
     ]
    }
   ],
   "source": [
    "X_train, test_x, y_train, test_lab = train_test_split(X, y, test_size = 0.3, random_state = 42)\n",
    "\n",
    "print(X_train.shape, test_x.shape, len(y_train), len(test_lab))"
   ]
  },
  {
   "cell_type": "code",
   "execution_count": 7,
   "id": "e4267096",
   "metadata": {
    "execution": {
     "iopub.execute_input": "2024-04-30T11:06:50.836524Z",
     "iopub.status.busy": "2024-04-30T11:06:50.836140Z",
     "iopub.status.idle": "2024-04-30T11:06:50.857074Z",
     "shell.execute_reply": "2024-04-30T11:06:50.856179Z"
    },
    "papermill": {
     "duration": 0.028369,
     "end_time": "2024-04-30T11:06:50.859460",
     "exception": false,
     "start_time": "2024-04-30T11:06:50.831091",
     "status": "completed"
    },
    "tags": []
   },
   "outputs": [],
   "source": [
    "clf = KNeighborsClassifier(n_neighbors = 3)\n",
    "\n",
    "clf.fit(X_train, y_train)\n",
    "\n",
    "test_pred_deci_tree = clf.predict(test_x)"
   ]
  },
  {
   "cell_type": "code",
   "execution_count": 8,
   "id": "3b900a36",
   "metadata": {
    "execution": {
     "iopub.execute_input": "2024-04-30T11:06:50.868741Z",
     "iopub.status.busy": "2024-04-30T11:06:50.868108Z",
     "iopub.status.idle": "2024-04-30T11:06:50.873376Z",
     "shell.execute_reply": "2024-04-30T11:06:50.872290Z"
    },
    "papermill": {
     "duration": 0.012676,
     "end_time": "2024-04-30T11:06:50.876046",
     "exception": false,
     "start_time": "2024-04-30T11:06:50.863370",
     "status": "completed"
    },
    "tags": []
   },
   "outputs": [
    {
     "name": "stdout",
     "output_type": "stream",
     "text": [
      "[5, 5, 1, 3, 1, 1, 3, 6, 7, 2, 0, 3, 0, 4, 6, 2, 2, 3, 6, 7, 6, 0, 0, 5, 3, 3, 4, 4, 2, 0, 1, 1, 1, 2, 1, 2, 1, 2, 1, 7, 2, 6, 2, 1] 44\n"
     ]
    }
   ],
   "source": [
    "print(test_lab, len(test_lab))"
   ]
  },
  {
   "cell_type": "code",
   "execution_count": 9,
   "id": "c8c1c362",
   "metadata": {
    "execution": {
     "iopub.execute_input": "2024-04-30T11:06:50.886099Z",
     "iopub.status.busy": "2024-04-30T11:06:50.885103Z",
     "iopub.status.idle": "2024-04-30T11:06:50.891137Z",
     "shell.execute_reply": "2024-04-30T11:06:50.890021Z"
    },
    "papermill": {
     "duration": 0.012914,
     "end_time": "2024-04-30T11:06:50.893107",
     "exception": false,
     "start_time": "2024-04-30T11:06:50.880193",
     "status": "completed"
    },
    "tags": []
   },
   "outputs": [
    {
     "name": "stdout",
     "output_type": "stream",
     "text": [
      "[1 1 1 1 1 1 3 7 3 1 4 5 0 3 5 1 1 2 7 7 3 0 2 5 1 5 1 7 2 1 1 1 0 1 1 2 1\n",
      " 2 1 7 7 1 1 3] 44\n"
     ]
    }
   ],
   "source": [
    "print(test_pred_deci_tree, len(test_pred_deci_tree))"
   ]
  },
  {
   "cell_type": "code",
   "execution_count": 10,
   "id": "644ea9a6",
   "metadata": {
    "execution": {
     "iopub.execute_input": "2024-04-30T11:06:50.902396Z",
     "iopub.status.busy": "2024-04-30T11:06:50.902024Z",
     "iopub.status.idle": "2024-04-30T11:06:50.916421Z",
     "shell.execute_reply": "2024-04-30T11:06:50.915142Z"
    },
    "papermill": {
     "duration": 0.022077,
     "end_time": "2024-04-30T11:06:50.919138",
     "exception": false,
     "start_time": "2024-04-30T11:06:50.897061",
     "status": "completed"
    },
    "tags": []
   },
   "outputs": [
    {
     "name": "stdout",
     "output_type": "stream",
     "text": [
      "ARI 0.10822655577452564\n"
     ]
    }
   ],
   "source": [
    "print(\"ARI\", adjusted_rand_score(test_pred_deci_tree, test_lab))"
   ]
  }
 ],
 "metadata": {
  "kaggle": {
   "accelerator": "none",
   "dataSources": [
    {
     "datasetId": 3684241,
     "sourceId": 6715567,
     "sourceType": "datasetVersion"
    }
   ],
   "dockerImageVersionId": 30698,
   "isGpuEnabled": false,
   "isInternetEnabled": true,
   "language": "python",
   "sourceType": "notebook"
  },
  "kernelspec": {
   "display_name": "Python 3",
   "language": "python",
   "name": "python3"
  },
  "language_info": {
   "codemirror_mode": {
    "name": "ipython",
    "version": 3
   },
   "file_extension": ".py",
   "mimetype": "text/x-python",
   "name": "python",
   "nbconvert_exporter": "python",
   "pygments_lexer": "ipython3",
   "version": "3.10.13"
  },
  "papermill": {
   "default_parameters": {},
   "duration": 5.5935,
   "end_time": "2024-04-30T11:06:51.544968",
   "environment_variables": {},
   "exception": null,
   "input_path": "__notebook__.ipynb",
   "output_path": "__notebook__.ipynb",
   "parameters": {},
   "start_time": "2024-04-30T11:06:45.951468",
   "version": "2.5.0"
  }
 },
 "nbformat": 4,
 "nbformat_minor": 5
}
