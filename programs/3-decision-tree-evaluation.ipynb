{
 "cells": [
  {
   "cell_type": "code",
   "execution_count": 1,
   "id": "12cc6296",
   "metadata": {
    "_cell_guid": "b1076dfc-b9ad-4769-8c92-a6c4dae69d19",
    "_uuid": "8f2839f25d086af736a60e9eeb907d3b93b6e0e5",
    "execution": {
     "iopub.execute_input": "2024-04-30T10:41:31.186623Z",
     "iopub.status.busy": "2024-04-30T10:41:31.186164Z",
     "iopub.status.idle": "2024-04-30T10:41:32.036132Z",
     "shell.execute_reply": "2024-04-30T10:41:32.035104Z"
    },
    "papermill": {
     "duration": 0.858267,
     "end_time": "2024-04-30T10:41:32.038865",
     "exception": false,
     "start_time": "2024-04-30T10:41:31.180598",
     "status": "completed"
    },
    "tags": []
   },
   "outputs": [],
   "source": [
    "# This Python 3 environment comes with many helpful analytics libraries installed\n",
    "# It is defined by the kaggle/python Docker image: https://github.com/kaggle/docker-python\n",
    "# For example, here's several helpful packages to load\n",
    "\n",
    "import numpy as np # linear algebra\n",
    "import pandas as pd # data processing, CSV file I/O (e.g. pd.read_csv)\n",
    "\n",
    "# Input data files are available in the read-only \"../input/\" directory\n",
    "# For example, running this (by clicking run or pressing Shift+Enter) will list all files under the input directory\n",
    "\n",
    "import os\n",
    "for dirname, _, filenames in os.walk('/kaggle/input'):\n",
    "    for filename in filenames:\n",
    "        print(os.path.join(dirname, filename))\n",
    "\n",
    "# You can write up to 20GB to the current directory (/kaggle/working/) that gets preserved as output when you create a version using \"Save & Run All\" \n",
    "# You can also write temporary files to /kaggle/temp/, but they won't be saved outside of the current session"
   ]
  },
  {
   "cell_type": "markdown",
   "id": "ff7de262",
   "metadata": {
    "papermill": {
     "duration": 0.003021,
     "end_time": "2024-04-30T10:41:32.045879",
     "exception": false,
     "start_time": "2024-04-30T10:41:32.042858",
     "status": "completed"
    },
    "tags": []
   },
   "source": [
    "# > ***Decision Tree Classifier Evaluation on Iris Dataset with Train-Test Split***"
   ]
  },
  {
   "cell_type": "code",
   "execution_count": 2,
   "id": "5476aab3",
   "metadata": {
    "execution": {
     "iopub.execute_input": "2024-04-30T10:41:32.053732Z",
     "iopub.status.busy": "2024-04-30T10:41:32.053140Z",
     "iopub.status.idle": "2024-04-30T10:41:33.719778Z",
     "shell.execute_reply": "2024-04-30T10:41:33.718671Z"
    },
    "papermill": {
     "duration": 1.6737,
     "end_time": "2024-04-30T10:41:33.722606",
     "exception": false,
     "start_time": "2024-04-30T10:41:32.048906",
     "status": "completed"
    },
    "tags": []
   },
   "outputs": [],
   "source": [
    "from sklearn.datasets import load_iris\n",
    "from sklearn.model_selection import train_test_split\n",
    "from sklearn import tree\n",
    "from sklearn.metrics.cluster import adjusted_rand_score"
   ]
  },
  {
   "cell_type": "code",
   "execution_count": 3,
   "id": "c9ffbfb2",
   "metadata": {
    "execution": {
     "iopub.execute_input": "2024-04-30T10:41:33.730180Z",
     "iopub.status.busy": "2024-04-30T10:41:33.729796Z",
     "iopub.status.idle": "2024-04-30T10:41:33.740419Z",
     "shell.execute_reply": "2024-04-30T10:41:33.739436Z"
    },
    "papermill": {
     "duration": 0.017147,
     "end_time": "2024-04-30T10:41:33.742833",
     "exception": false,
     "start_time": "2024-04-30T10:41:33.725686",
     "status": "completed"
    },
    "tags": []
   },
   "outputs": [],
   "source": [
    "iris = load_iris()\n",
    "# print(iris)"
   ]
  },
  {
   "cell_type": "code",
   "execution_count": 4,
   "id": "bcd243a6",
   "metadata": {
    "execution": {
     "iopub.execute_input": "2024-04-30T10:41:33.750951Z",
     "iopub.status.busy": "2024-04-30T10:41:33.750333Z",
     "iopub.status.idle": "2024-04-30T10:41:33.755334Z",
     "shell.execute_reply": "2024-04-30T10:41:33.754365Z"
    },
    "papermill": {
     "duration": 0.011928,
     "end_time": "2024-04-30T10:41:33.757780",
     "exception": false,
     "start_time": "2024-04-30T10:41:33.745852",
     "status": "completed"
    },
    "tags": []
   },
   "outputs": [
    {
     "name": "stdout",
     "output_type": "stream",
     "text": [
      "(150, 4) 150\n"
     ]
    }
   ],
   "source": [
    "X, y = iris.data, iris.target\n",
    "print(X.shape, len(y))"
   ]
  },
  {
   "cell_type": "code",
   "execution_count": 5,
   "id": "38d5e31d",
   "metadata": {
    "execution": {
     "iopub.execute_input": "2024-04-30T10:41:33.765784Z",
     "iopub.status.busy": "2024-04-30T10:41:33.765373Z",
     "iopub.status.idle": "2024-04-30T10:41:33.773403Z",
     "shell.execute_reply": "2024-04-30T10:41:33.772368Z"
    },
    "papermill": {
     "duration": 0.015751,
     "end_time": "2024-04-30T10:41:33.776731",
     "exception": false,
     "start_time": "2024-04-30T10:41:33.760980",
     "status": "completed"
    },
    "tags": []
   },
   "outputs": [
    {
     "name": "stdout",
     "output_type": "stream",
     "text": [
      "(75, 4) (75, 4) 75 75\n"
     ]
    }
   ],
   "source": [
    "X_train, test_x, y_train, test_lab = train_test_split(X, y, test_size = 0.5, random_state = 42)\n",
    "print(X_train.shape, test_x.shape, len(y_train), len(test_lab))"
   ]
  },
  {
   "cell_type": "code",
   "execution_count": 6,
   "id": "d2d3b9a0",
   "metadata": {
    "execution": {
     "iopub.execute_input": "2024-04-30T10:41:33.784367Z",
     "iopub.status.busy": "2024-04-30T10:41:33.783993Z",
     "iopub.status.idle": "2024-04-30T10:41:33.794764Z",
     "shell.execute_reply": "2024-04-30T10:41:33.793757Z"
    },
    "papermill": {
     "duration": 0.016972,
     "end_time": "2024-04-30T10:41:33.796829",
     "exception": false,
     "start_time": "2024-04-30T10:41:33.779857",
     "status": "completed"
    },
    "tags": []
   },
   "outputs": [],
   "source": [
    "clf = tree.DecisionTreeClassifier()\n",
    "clf = clf.fit(X_train,y_train)"
   ]
  },
  {
   "cell_type": "code",
   "execution_count": 7,
   "id": "74461897",
   "metadata": {
    "execution": {
     "iopub.execute_input": "2024-04-30T10:41:33.804992Z",
     "iopub.status.busy": "2024-04-30T10:41:33.804580Z",
     "iopub.status.idle": "2024-04-30T10:41:33.813226Z",
     "shell.execute_reply": "2024-04-30T10:41:33.811840Z"
    },
    "papermill": {
     "duration": 0.015403,
     "end_time": "2024-04-30T10:41:33.815432",
     "exception": false,
     "start_time": "2024-04-30T10:41:33.800029",
     "status": "completed"
    },
    "tags": []
   },
   "outputs": [
    {
     "name": "stdout",
     "output_type": "stream",
     "text": [
      "[1 0 2 1 1 0 1 2 1 1 2 0 0 0 0 1 2 1 1 2 0 2 0 2 2 2 2 2 0 0 0 0 1 0 0 2 1\n",
      " 0 0 0 2 1 1 0 0 1 2 2 1 2 1 2 1 0 2 1 0 0 0 1 2 0 0 0 1 0 1 2 0 1 2 0 2 2\n",
      " 1] [1 0 2 1 1 0 1 2 1 1 2 0 0 0 0 1 2 1 1 2 0 1 0 2 2 2 2 2 0 0 0 0 1 0 0 2 1\n",
      " 0 0 0 2 1 1 0 0 1 2 2 1 2 1 2 1 0 2 1 0 0 0 1 2 0 0 0 1 0 1 2 0 1 2 0 1 2\n",
      " 1]\n"
     ]
    }
   ],
   "source": [
    "test_pred_deci_tree = clf.predict(test_x)\n",
    "print(test_lab, test_pred_deci_tree)"
   ]
  },
  {
   "cell_type": "code",
   "execution_count": 8,
   "id": "ccf5627e",
   "metadata": {
    "execution": {
     "iopub.execute_input": "2024-04-30T10:41:33.823631Z",
     "iopub.status.busy": "2024-04-30T10:41:33.823243Z",
     "iopub.status.idle": "2024-04-30T10:41:33.838015Z",
     "shell.execute_reply": "2024-04-30T10:41:33.836768Z"
    },
    "papermill": {
     "duration": 0.021738,
     "end_time": "2024-04-30T10:41:33.840435",
     "exception": false,
     "start_time": "2024-04-30T10:41:33.818697",
     "status": "completed"
    },
    "tags": []
   },
   "outputs": [
    {
     "name": "stdout",
     "output_type": "stream",
     "text": [
      "ARI 0.928216922463694\n"
     ]
    }
   ],
   "source": [
    "# Adjusted Rand Index is a useful measure the quality of algorithms\n",
    "print(\"ARI\", adjusted_rand_score(test_pred_deci_tree, test_lab))  #ARI = adjusted rand index"
   ]
  }
 ],
 "metadata": {
  "kaggle": {
   "accelerator": "none",
   "dataSources": [],
   "dockerImageVersionId": 30698,
   "isGpuEnabled": false,
   "isInternetEnabled": true,
   "language": "python",
   "sourceType": "notebook"
  },
  "kernelspec": {
   "display_name": "Python 3",
   "language": "python",
   "name": "python3"
  },
  "language_info": {
   "codemirror_mode": {
    "name": "ipython",
    "version": 3
   },
   "file_extension": ".py",
   "mimetype": "text/x-python",
   "name": "python",
   "nbconvert_exporter": "python",
   "pygments_lexer": "ipython3",
   "version": "3.10.13"
  },
  "papermill": {
   "default_parameters": {},
   "duration": 8.054563,
   "end_time": "2024-04-30T10:41:36.472693",
   "environment_variables": {},
   "exception": null,
   "input_path": "__notebook__.ipynb",
   "output_path": "__notebook__.ipynb",
   "parameters": {},
   "start_time": "2024-04-30T10:41:28.418130",
   "version": "2.5.0"
  }
 },
 "nbformat": 4,
 "nbformat_minor": 5
}
