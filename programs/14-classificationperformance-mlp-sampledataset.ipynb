{
 "cells": [
  {
   "cell_type": "code",
   "execution_count": 1,
   "id": "c1e9f717",
   "metadata": {
    "_cell_guid": "b1076dfc-b9ad-4769-8c92-a6c4dae69d19",
    "_uuid": "8f2839f25d086af736a60e9eeb907d3b93b6e0e5",
    "execution": {
     "iopub.execute_input": "2024-04-30T12:08:20.698322Z",
     "iopub.status.busy": "2024-04-30T12:08:20.697901Z",
     "iopub.status.idle": "2024-04-30T12:08:21.674507Z",
     "shell.execute_reply": "2024-04-30T12:08:21.673261Z"
    },
    "papermill": {
     "duration": 0.986494,
     "end_time": "2024-04-30T12:08:21.678208",
     "exception": false,
     "start_time": "2024-04-30T12:08:20.691714",
     "status": "completed"
    },
    "tags": []
   },
   "outputs": [
    {
     "name": "stdout",
     "output_type": "stream",
     "text": [
      "/kaggle/input/students-performance/StudentsPerformance_with_headers.csv\n",
      "/kaggle/input/students-performance/highereducationstudentsperformanceevaluation/DATA (1).csv\n"
     ]
    }
   ],
   "source": [
    "# This Python 3 environment comes with many helpful analytics libraries installed\n",
    "# It is defined by the kaggle/python Docker image: https://github.com/kaggle/docker-python\n",
    "# For example, here's several helpful packages to load\n",
    "\n",
    "import numpy as np # linear algebra\n",
    "import pandas as pd # data processing, CSV file I/O (e.g. pd.read_csv)\n",
    "\n",
    "# Input data files are available in the read-only \"../input/\" directory\n",
    "# For example, running this (by clicking run or pressing Shift+Enter) will list all files under the input directory\n",
    "\n",
    "import os\n",
    "for dirname, _, filenames in os.walk('/kaggle/input'):\n",
    "    for filename in filenames:\n",
    "        print(os.path.join(dirname, filename))\n",
    "\n",
    "# You can write up to 20GB to the current directory (/kaggle/working/) that gets preserved as output when you create a version using \"Save & Run All\" \n",
    "# You can also write temporary files to /kaggle/temp/, but they won't be saved outside of the current session"
   ]
  },
  {
   "cell_type": "markdown",
   "id": "b6d2218e",
   "metadata": {
    "papermill": {
     "duration": 0.003896,
     "end_time": "2024-04-30T12:08:21.686570",
     "exception": false,
     "start_time": "2024-04-30T12:08:21.682674",
     "status": "completed"
    },
    "tags": []
   },
   "source": [
    "# > ***Classification Performance Analysis using Neural Networks, MLP [Multi-layer Perceptron] on sample dataset***"
   ]
  },
  {
   "cell_type": "code",
   "execution_count": 2,
   "id": "5e06c874",
   "metadata": {
    "execution": {
     "iopub.execute_input": "2024-04-30T12:08:21.697374Z",
     "iopub.status.busy": "2024-04-30T12:08:21.695990Z",
     "iopub.status.idle": "2024-04-30T12:08:23.063517Z",
     "shell.execute_reply": "2024-04-30T12:08:23.062061Z"
    },
    "papermill": {
     "duration": 1.375673,
     "end_time": "2024-04-30T12:08:23.066182",
     "exception": false,
     "start_time": "2024-04-30T12:08:21.690509",
     "status": "completed"
    },
    "tags": []
   },
   "outputs": [],
   "source": [
    "from sklearn.datasets import load_iris\n",
    "from sklearn.neural_network import MLPClassifier\n",
    "from sklearn.model_selection import train_test_split\n",
    "from sklearn.metrics.cluster import adjusted_rand_score\n",
    "from sklearn.metrics import confusion_matrix \n",
    "import pandas as pd\n",
    "import numpy as np\n",
    "import matplotlib.pyplot as plt"
   ]
  },
  {
   "cell_type": "code",
   "execution_count": 3,
   "id": "fa9f4de8",
   "metadata": {
    "execution": {
     "iopub.execute_input": "2024-04-30T12:08:23.075659Z",
     "iopub.status.busy": "2024-04-30T12:08:23.075276Z",
     "iopub.status.idle": "2024-04-30T12:08:23.120618Z",
     "shell.execute_reply": "2024-04-30T12:08:23.119363Z"
    },
    "papermill": {
     "duration": 0.053173,
     "end_time": "2024-04-30T12:08:23.123205",
     "exception": false,
     "start_time": "2024-04-30T12:08:23.070032",
     "status": "completed"
    },
    "tags": []
   },
   "outputs": [
    {
     "data": {
      "text/html": [
       "<div>\n",
       "<style scoped>\n",
       "    .dataframe tbody tr th:only-of-type {\n",
       "        vertical-align: middle;\n",
       "    }\n",
       "\n",
       "    .dataframe tbody tr th {\n",
       "        vertical-align: top;\n",
       "    }\n",
       "\n",
       "    .dataframe thead th {\n",
       "        text-align: right;\n",
       "    }\n",
       "</style>\n",
       "<table border=\"1\" class=\"dataframe\">\n",
       "  <thead>\n",
       "    <tr style=\"text-align: right;\">\n",
       "      <th></th>\n",
       "      <th>STUDENT ID</th>\n",
       "      <th>1</th>\n",
       "      <th>2</th>\n",
       "      <th>3</th>\n",
       "      <th>4</th>\n",
       "      <th>5</th>\n",
       "      <th>6</th>\n",
       "      <th>7</th>\n",
       "      <th>8</th>\n",
       "      <th>9</th>\n",
       "      <th>...</th>\n",
       "      <th>23</th>\n",
       "      <th>24</th>\n",
       "      <th>25</th>\n",
       "      <th>26</th>\n",
       "      <th>27</th>\n",
       "      <th>28</th>\n",
       "      <th>29</th>\n",
       "      <th>30</th>\n",
       "      <th>COURSE ID</th>\n",
       "      <th>GRADE</th>\n",
       "    </tr>\n",
       "  </thead>\n",
       "  <tbody>\n",
       "    <tr>\n",
       "      <th>0</th>\n",
       "      <td>STUDENT1</td>\n",
       "      <td>2</td>\n",
       "      <td>2</td>\n",
       "      <td>3</td>\n",
       "      <td>3</td>\n",
       "      <td>1</td>\n",
       "      <td>2</td>\n",
       "      <td>2</td>\n",
       "      <td>1</td>\n",
       "      <td>1</td>\n",
       "      <td>...</td>\n",
       "      <td>1</td>\n",
       "      <td>1</td>\n",
       "      <td>3</td>\n",
       "      <td>2</td>\n",
       "      <td>1</td>\n",
       "      <td>2</td>\n",
       "      <td>1</td>\n",
       "      <td>1</td>\n",
       "      <td>1</td>\n",
       "      <td>1</td>\n",
       "    </tr>\n",
       "    <tr>\n",
       "      <th>1</th>\n",
       "      <td>STUDENT2</td>\n",
       "      <td>2</td>\n",
       "      <td>2</td>\n",
       "      <td>3</td>\n",
       "      <td>3</td>\n",
       "      <td>1</td>\n",
       "      <td>2</td>\n",
       "      <td>2</td>\n",
       "      <td>1</td>\n",
       "      <td>1</td>\n",
       "      <td>...</td>\n",
       "      <td>1</td>\n",
       "      <td>1</td>\n",
       "      <td>3</td>\n",
       "      <td>2</td>\n",
       "      <td>3</td>\n",
       "      <td>2</td>\n",
       "      <td>2</td>\n",
       "      <td>3</td>\n",
       "      <td>1</td>\n",
       "      <td>1</td>\n",
       "    </tr>\n",
       "    <tr>\n",
       "      <th>2</th>\n",
       "      <td>STUDENT3</td>\n",
       "      <td>2</td>\n",
       "      <td>2</td>\n",
       "      <td>2</td>\n",
       "      <td>3</td>\n",
       "      <td>2</td>\n",
       "      <td>2</td>\n",
       "      <td>2</td>\n",
       "      <td>2</td>\n",
       "      <td>4</td>\n",
       "      <td>...</td>\n",
       "      <td>1</td>\n",
       "      <td>1</td>\n",
       "      <td>2</td>\n",
       "      <td>2</td>\n",
       "      <td>1</td>\n",
       "      <td>1</td>\n",
       "      <td>2</td>\n",
       "      <td>2</td>\n",
       "      <td>1</td>\n",
       "      <td>1</td>\n",
       "    </tr>\n",
       "    <tr>\n",
       "      <th>3</th>\n",
       "      <td>STUDENT4</td>\n",
       "      <td>1</td>\n",
       "      <td>1</td>\n",
       "      <td>1</td>\n",
       "      <td>3</td>\n",
       "      <td>1</td>\n",
       "      <td>2</td>\n",
       "      <td>1</td>\n",
       "      <td>2</td>\n",
       "      <td>1</td>\n",
       "      <td>...</td>\n",
       "      <td>1</td>\n",
       "      <td>2</td>\n",
       "      <td>3</td>\n",
       "      <td>2</td>\n",
       "      <td>2</td>\n",
       "      <td>1</td>\n",
       "      <td>3</td>\n",
       "      <td>2</td>\n",
       "      <td>1</td>\n",
       "      <td>1</td>\n",
       "    </tr>\n",
       "    <tr>\n",
       "      <th>4</th>\n",
       "      <td>STUDENT5</td>\n",
       "      <td>2</td>\n",
       "      <td>2</td>\n",
       "      <td>1</td>\n",
       "      <td>3</td>\n",
       "      <td>2</td>\n",
       "      <td>2</td>\n",
       "      <td>1</td>\n",
       "      <td>3</td>\n",
       "      <td>1</td>\n",
       "      <td>...</td>\n",
       "      <td>2</td>\n",
       "      <td>1</td>\n",
       "      <td>2</td>\n",
       "      <td>2</td>\n",
       "      <td>2</td>\n",
       "      <td>1</td>\n",
       "      <td>2</td>\n",
       "      <td>2</td>\n",
       "      <td>1</td>\n",
       "      <td>1</td>\n",
       "    </tr>\n",
       "  </tbody>\n",
       "</table>\n",
       "<p>5 rows × 33 columns</p>\n",
       "</div>"
      ],
      "text/plain": [
       "  STUDENT ID  1  2  3  4  5  6  7  8  9  ...  23  24  25  26  27  28  29  30  \\\n",
       "0   STUDENT1  2  2  3  3  1  2  2  1  1  ...   1   1   3   2   1   2   1   1   \n",
       "1   STUDENT2  2  2  3  3  1  2  2  1  1  ...   1   1   3   2   3   2   2   3   \n",
       "2   STUDENT3  2  2  2  3  2  2  2  2  4  ...   1   1   2   2   1   1   2   2   \n",
       "3   STUDENT4  1  1  1  3  1  2  1  2  1  ...   1   2   3   2   2   1   3   2   \n",
       "4   STUDENT5  2  2  1  3  2  2  1  3  1  ...   2   1   2   2   2   1   2   2   \n",
       "\n",
       "   COURSE ID  GRADE  \n",
       "0          1      1  \n",
       "1          1      1  \n",
       "2          1      1  \n",
       "3          1      1  \n",
       "4          1      1  \n",
       "\n",
       "[5 rows x 33 columns]"
      ]
     },
     "execution_count": 3,
     "metadata": {},
     "output_type": "execute_result"
    }
   ],
   "source": [
    "file = pd.read_csv(\"/kaggle/input/students-performance/highereducationstudentsperformanceevaluation/DATA (1).csv\")\n",
    "file.head()"
   ]
  },
  {
   "cell_type": "code",
   "execution_count": 4,
   "id": "dd4dbc00",
   "metadata": {
    "execution": {
     "iopub.execute_input": "2024-04-30T12:08:23.133711Z",
     "iopub.status.busy": "2024-04-30T12:08:23.132741Z",
     "iopub.status.idle": "2024-04-30T12:08:23.157032Z",
     "shell.execute_reply": "2024-04-30T12:08:23.155899Z"
    },
    "papermill": {
     "duration": 0.032185,
     "end_time": "2024-04-30T12:08:23.159529",
     "exception": false,
     "start_time": "2024-04-30T12:08:23.127344",
     "status": "completed"
    },
    "tags": []
   },
   "outputs": [
    {
     "data": {
      "text/html": [
       "<div>\n",
       "<style scoped>\n",
       "    .dataframe tbody tr th:only-of-type {\n",
       "        vertical-align: middle;\n",
       "    }\n",
       "\n",
       "    .dataframe tbody tr th {\n",
       "        vertical-align: top;\n",
       "    }\n",
       "\n",
       "    .dataframe thead th {\n",
       "        text-align: right;\n",
       "    }\n",
       "</style>\n",
       "<table border=\"1\" class=\"dataframe\">\n",
       "  <thead>\n",
       "    <tr style=\"text-align: right;\">\n",
       "      <th></th>\n",
       "      <th>1</th>\n",
       "      <th>2</th>\n",
       "      <th>3</th>\n",
       "      <th>4</th>\n",
       "      <th>5</th>\n",
       "      <th>6</th>\n",
       "      <th>7</th>\n",
       "      <th>8</th>\n",
       "      <th>9</th>\n",
       "      <th>10</th>\n",
       "      <th>...</th>\n",
       "      <th>23</th>\n",
       "      <th>24</th>\n",
       "      <th>25</th>\n",
       "      <th>26</th>\n",
       "      <th>27</th>\n",
       "      <th>28</th>\n",
       "      <th>29</th>\n",
       "      <th>30</th>\n",
       "      <th>COURSE ID</th>\n",
       "      <th>GRADE</th>\n",
       "    </tr>\n",
       "  </thead>\n",
       "  <tbody>\n",
       "    <tr>\n",
       "      <th>79</th>\n",
       "      <td>2</td>\n",
       "      <td>2</td>\n",
       "      <td>2</td>\n",
       "      <td>4</td>\n",
       "      <td>2</td>\n",
       "      <td>2</td>\n",
       "      <td>2</td>\n",
       "      <td>1</td>\n",
       "      <td>1</td>\n",
       "      <td>1</td>\n",
       "      <td>...</td>\n",
       "      <td>1</td>\n",
       "      <td>1</td>\n",
       "      <td>3</td>\n",
       "      <td>3</td>\n",
       "      <td>3</td>\n",
       "      <td>2</td>\n",
       "      <td>4</td>\n",
       "      <td>4</td>\n",
       "      <td>4</td>\n",
       "      <td>3</td>\n",
       "    </tr>\n",
       "    <tr>\n",
       "      <th>48</th>\n",
       "      <td>1</td>\n",
       "      <td>2</td>\n",
       "      <td>2</td>\n",
       "      <td>3</td>\n",
       "      <td>2</td>\n",
       "      <td>1</td>\n",
       "      <td>1</td>\n",
       "      <td>1</td>\n",
       "      <td>1</td>\n",
       "      <td>2</td>\n",
       "      <td>...</td>\n",
       "      <td>1</td>\n",
       "      <td>1</td>\n",
       "      <td>3</td>\n",
       "      <td>2</td>\n",
       "      <td>3</td>\n",
       "      <td>2</td>\n",
       "      <td>2</td>\n",
       "      <td>2</td>\n",
       "      <td>1</td>\n",
       "      <td>1</td>\n",
       "    </tr>\n",
       "    <tr>\n",
       "      <th>30</th>\n",
       "      <td>2</td>\n",
       "      <td>2</td>\n",
       "      <td>2</td>\n",
       "      <td>5</td>\n",
       "      <td>1</td>\n",
       "      <td>1</td>\n",
       "      <td>1</td>\n",
       "      <td>1</td>\n",
       "      <td>1</td>\n",
       "      <td>2</td>\n",
       "      <td>...</td>\n",
       "      <td>2</td>\n",
       "      <td>1</td>\n",
       "      <td>2</td>\n",
       "      <td>3</td>\n",
       "      <td>3</td>\n",
       "      <td>3</td>\n",
       "      <td>5</td>\n",
       "      <td>4</td>\n",
       "      <td>1</td>\n",
       "      <td>5</td>\n",
       "    </tr>\n",
       "    <tr>\n",
       "      <th>117</th>\n",
       "      <td>3</td>\n",
       "      <td>1</td>\n",
       "      <td>1</td>\n",
       "      <td>3</td>\n",
       "      <td>2</td>\n",
       "      <td>1</td>\n",
       "      <td>2</td>\n",
       "      <td>1</td>\n",
       "      <td>1</td>\n",
       "      <td>2</td>\n",
       "      <td>...</td>\n",
       "      <td>1</td>\n",
       "      <td>1</td>\n",
       "      <td>2</td>\n",
       "      <td>3</td>\n",
       "      <td>2</td>\n",
       "      <td>1</td>\n",
       "      <td>2</td>\n",
       "      <td>3</td>\n",
       "      <td>8</td>\n",
       "      <td>1</td>\n",
       "    </tr>\n",
       "    <tr>\n",
       "      <th>86</th>\n",
       "      <td>2</td>\n",
       "      <td>2</td>\n",
       "      <td>2</td>\n",
       "      <td>4</td>\n",
       "      <td>2</td>\n",
       "      <td>2</td>\n",
       "      <td>2</td>\n",
       "      <td>1</td>\n",
       "      <td>4</td>\n",
       "      <td>2</td>\n",
       "      <td>...</td>\n",
       "      <td>1</td>\n",
       "      <td>1</td>\n",
       "      <td>3</td>\n",
       "      <td>2</td>\n",
       "      <td>3</td>\n",
       "      <td>2</td>\n",
       "      <td>5</td>\n",
       "      <td>4</td>\n",
       "      <td>5</td>\n",
       "      <td>5</td>\n",
       "    </tr>\n",
       "  </tbody>\n",
       "</table>\n",
       "<p>5 rows × 32 columns</p>\n",
       "</div>"
      ],
      "text/plain": [
       "     1  2  3  4  5  6  7  8  9  10  ...  23  24  25  26  27  28  29  30  \\\n",
       "79   2  2  2  4  2  2  2  1  1   1  ...   1   1   3   3   3   2   4   4   \n",
       "48   1  2  2  3  2  1  1  1  1   2  ...   1   1   3   2   3   2   2   2   \n",
       "30   2  2  2  5  1  1  1  1  1   2  ...   2   1   2   3   3   3   5   4   \n",
       "117  3  1  1  3  2  1  2  1  1   2  ...   1   1   2   3   2   1   2   3   \n",
       "86   2  2  2  4  2  2  2  1  4   2  ...   1   1   3   2   3   2   5   4   \n",
       "\n",
       "     COURSE ID  GRADE  \n",
       "79           4      3  \n",
       "48           1      1  \n",
       "30           1      5  \n",
       "117          8      1  \n",
       "86           5      5  \n",
       "\n",
       "[5 rows x 32 columns]"
      ]
     },
     "execution_count": 4,
     "metadata": {},
     "output_type": "execute_result"
    }
   ],
   "source": [
    "# Here, I've removed the column containing student IDs from the dataset.\n",
    "file.drop(\"STUDENT ID\",axis=1,inplace=True)\n",
    "file.sample(5)"
   ]
  },
  {
   "cell_type": "code",
   "execution_count": 5,
   "id": "3cd28ab0",
   "metadata": {
    "execution": {
     "iopub.execute_input": "2024-04-30T12:08:23.170004Z",
     "iopub.status.busy": "2024-04-30T12:08:23.169571Z",
     "iopub.status.idle": "2024-04-30T12:08:23.176511Z",
     "shell.execute_reply": "2024-04-30T12:08:23.175398Z"
    },
    "papermill": {
     "duration": 0.015294,
     "end_time": "2024-04-30T12:08:23.179199",
     "exception": false,
     "start_time": "2024-04-30T12:08:23.163905",
     "status": "completed"
    },
    "tags": []
   },
   "outputs": [
    {
     "name": "stdout",
     "output_type": "stream",
     "text": [
      "(145, 31) 145\n"
     ]
    }
   ],
   "source": [
    "f = np.array(file)\n",
    "X = file.iloc[:,:-1]\n",
    "y = list(file.iloc[:,-1])\n",
    "\n",
    "print(X.shape, len(y))"
   ]
  },
  {
   "cell_type": "code",
   "execution_count": 6,
   "id": "a6531288",
   "metadata": {
    "execution": {
     "iopub.execute_input": "2024-04-30T12:08:23.189905Z",
     "iopub.status.busy": "2024-04-30T12:08:23.189503Z",
     "iopub.status.idle": "2024-04-30T12:08:23.198214Z",
     "shell.execute_reply": "2024-04-30T12:08:23.196963Z"
    },
    "papermill": {
     "duration": 0.016819,
     "end_time": "2024-04-30T12:08:23.200580",
     "exception": false,
     "start_time": "2024-04-30T12:08:23.183761",
     "status": "completed"
    },
    "tags": []
   },
   "outputs": [
    {
     "name": "stdout",
     "output_type": "stream",
     "text": [
      "(101, 31) (44, 31) 101 44\n"
     ]
    }
   ],
   "source": [
    "X_train, test_x, y_train, test_lab = train_test_split(X, y, test_size = 0.3, random_state = 42)\n",
    "print(X_train.shape, test_x.shape, len(y_train), len(test_lab))"
   ]
  },
  {
   "cell_type": "code",
   "execution_count": 7,
   "id": "8b184338",
   "metadata": {
    "execution": {
     "iopub.execute_input": "2024-04-30T12:08:23.211676Z",
     "iopub.status.busy": "2024-04-30T12:08:23.211290Z",
     "iopub.status.idle": "2024-04-30T12:08:23.414952Z",
     "shell.execute_reply": "2024-04-30T12:08:23.413641Z"
    },
    "papermill": {
     "duration": 0.212169,
     "end_time": "2024-04-30T12:08:23.417580",
     "exception": false,
     "start_time": "2024-04-30T12:08:23.205411",
     "status": "completed"
    },
    "tags": []
   },
   "outputs": [
    {
     "data": {
      "text/html": [
       "<style>#sk-container-id-1 {color: black;background-color: white;}#sk-container-id-1 pre{padding: 0;}#sk-container-id-1 div.sk-toggleable {background-color: white;}#sk-container-id-1 label.sk-toggleable__label {cursor: pointer;display: block;width: 100%;margin-bottom: 0;padding: 0.3em;box-sizing: border-box;text-align: center;}#sk-container-id-1 label.sk-toggleable__label-arrow:before {content: \"▸\";float: left;margin-right: 0.25em;color: #696969;}#sk-container-id-1 label.sk-toggleable__label-arrow:hover:before {color: black;}#sk-container-id-1 div.sk-estimator:hover label.sk-toggleable__label-arrow:before {color: black;}#sk-container-id-1 div.sk-toggleable__content {max-height: 0;max-width: 0;overflow: hidden;text-align: left;background-color: #f0f8ff;}#sk-container-id-1 div.sk-toggleable__content pre {margin: 0.2em;color: black;border-radius: 0.25em;background-color: #f0f8ff;}#sk-container-id-1 input.sk-toggleable__control:checked~div.sk-toggleable__content {max-height: 200px;max-width: 100%;overflow: auto;}#sk-container-id-1 input.sk-toggleable__control:checked~label.sk-toggleable__label-arrow:before {content: \"▾\";}#sk-container-id-1 div.sk-estimator input.sk-toggleable__control:checked~label.sk-toggleable__label {background-color: #d4ebff;}#sk-container-id-1 div.sk-label input.sk-toggleable__control:checked~label.sk-toggleable__label {background-color: #d4ebff;}#sk-container-id-1 input.sk-hidden--visually {border: 0;clip: rect(1px 1px 1px 1px);clip: rect(1px, 1px, 1px, 1px);height: 1px;margin: -1px;overflow: hidden;padding: 0;position: absolute;width: 1px;}#sk-container-id-1 div.sk-estimator {font-family: monospace;background-color: #f0f8ff;border: 1px dotted black;border-radius: 0.25em;box-sizing: border-box;margin-bottom: 0.5em;}#sk-container-id-1 div.sk-estimator:hover {background-color: #d4ebff;}#sk-container-id-1 div.sk-parallel-item::after {content: \"\";width: 100%;border-bottom: 1px solid gray;flex-grow: 1;}#sk-container-id-1 div.sk-label:hover label.sk-toggleable__label {background-color: #d4ebff;}#sk-container-id-1 div.sk-serial::before {content: \"\";position: absolute;border-left: 1px solid gray;box-sizing: border-box;top: 0;bottom: 0;left: 50%;z-index: 0;}#sk-container-id-1 div.sk-serial {display: flex;flex-direction: column;align-items: center;background-color: white;padding-right: 0.2em;padding-left: 0.2em;position: relative;}#sk-container-id-1 div.sk-item {position: relative;z-index: 1;}#sk-container-id-1 div.sk-parallel {display: flex;align-items: stretch;justify-content: center;background-color: white;position: relative;}#sk-container-id-1 div.sk-item::before, #sk-container-id-1 div.sk-parallel-item::before {content: \"\";position: absolute;border-left: 1px solid gray;box-sizing: border-box;top: 0;bottom: 0;left: 50%;z-index: -1;}#sk-container-id-1 div.sk-parallel-item {display: flex;flex-direction: column;z-index: 1;position: relative;background-color: white;}#sk-container-id-1 div.sk-parallel-item:first-child::after {align-self: flex-end;width: 50%;}#sk-container-id-1 div.sk-parallel-item:last-child::after {align-self: flex-start;width: 50%;}#sk-container-id-1 div.sk-parallel-item:only-child::after {width: 0;}#sk-container-id-1 div.sk-dashed-wrapped {border: 1px dashed gray;margin: 0 0.4em 0.5em 0.4em;box-sizing: border-box;padding-bottom: 0.4em;background-color: white;}#sk-container-id-1 div.sk-label label {font-family: monospace;font-weight: bold;display: inline-block;line-height: 1.2em;}#sk-container-id-1 div.sk-label-container {text-align: center;}#sk-container-id-1 div.sk-container {/* jupyter's `normalize.less` sets `[hidden] { display: none; }` but bootstrap.min.css set `[hidden] { display: none !important; }` so we also need the `!important` here to be able to override the default hidden behavior on the sphinx rendered scikit-learn.org. See: https://github.com/scikit-learn/scikit-learn/issues/21755 */display: inline-block !important;position: relative;}#sk-container-id-1 div.sk-text-repr-fallback {display: none;}</style><div id=\"sk-container-id-1\" class=\"sk-top-container\"><div class=\"sk-text-repr-fallback\"><pre>MLPClassifier(alpha=1e-05, hidden_layer_sizes=(15,), max_iter=1000,\n",
       "              random_state=1, solver=&#x27;lbfgs&#x27;)</pre><b>In a Jupyter environment, please rerun this cell to show the HTML representation or trust the notebook. <br />On GitHub, the HTML representation is unable to render, please try loading this page with nbviewer.org.</b></div><div class=\"sk-container\" hidden><div class=\"sk-item\"><div class=\"sk-estimator sk-toggleable\"><input class=\"sk-toggleable__control sk-hidden--visually\" id=\"sk-estimator-id-1\" type=\"checkbox\" checked><label for=\"sk-estimator-id-1\" class=\"sk-toggleable__label sk-toggleable__label-arrow\">MLPClassifier</label><div class=\"sk-toggleable__content\"><pre>MLPClassifier(alpha=1e-05, hidden_layer_sizes=(15,), max_iter=1000,\n",
       "              random_state=1, solver=&#x27;lbfgs&#x27;)</pre></div></div></div></div></div>"
      ],
      "text/plain": [
       "MLPClassifier(alpha=1e-05, hidden_layer_sizes=(15,), max_iter=1000,\n",
       "              random_state=1, solver='lbfgs')"
      ]
     },
     "execution_count": 7,
     "metadata": {},
     "output_type": "execute_result"
    }
   ],
   "source": [
    "clf = MLPClassifier(solver=\"lbfgs\", alpha=1e-5, hidden_layer_sizes=(15,), random_state=1, max_iter=1000)\n",
    "clf.fit(X_train, y_train)"
   ]
  },
  {
   "cell_type": "code",
   "execution_count": 8,
   "id": "fb5a8bb7",
   "metadata": {
    "execution": {
     "iopub.execute_input": "2024-04-30T12:08:23.429802Z",
     "iopub.status.busy": "2024-04-30T12:08:23.429421Z",
     "iopub.status.idle": "2024-04-30T12:08:23.437332Z",
     "shell.execute_reply": "2024-04-30T12:08:23.436215Z"
    },
    "papermill": {
     "duration": 0.017291,
     "end_time": "2024-04-30T12:08:23.440316",
     "exception": false,
     "start_time": "2024-04-30T12:08:23.423025",
     "status": "completed"
    },
    "tags": []
   },
   "outputs": [
    {
     "name": "stdout",
     "output_type": "stream",
     "text": [
      "[1 3 1 2 2 2 6 1 7 2 5 7 1 1 1 2 4 1 7 3 6 6 2 5 1 5 1 7 3 1 2 5 4 1 5 2 4\n",
      " 2 2 1 7 6 0 1]\n"
     ]
    }
   ],
   "source": [
    "y_pred = clf.predict(test_x)\n",
    "print(y_pred)"
   ]
  },
  {
   "cell_type": "code",
   "execution_count": 9,
   "id": "d7afb2da",
   "metadata": {
    "execution": {
     "iopub.execute_input": "2024-04-30T12:08:23.451862Z",
     "iopub.status.busy": "2024-04-30T12:08:23.451419Z",
     "iopub.status.idle": "2024-04-30T12:08:23.457203Z",
     "shell.execute_reply": "2024-04-30T12:08:23.456151Z"
    },
    "papermill": {
     "duration": 0.014148,
     "end_time": "2024-04-30T12:08:23.459360",
     "exception": false,
     "start_time": "2024-04-30T12:08:23.445212",
     "status": "completed"
    },
    "tags": []
   },
   "outputs": [
    {
     "name": "stdout",
     "output_type": "stream",
     "text": [
      "Original [5, 5, 1, 3, 1, 1, 3, 6, 7, 2, 0, 3, 0, 4, 6, 2, 2, 3, 6, 7, 6, 0, 0, 5, 3, 3, 4, 4, 2, 0, 1, 1, 1, 2, 1, 2, 1, 2, 1, 7, 2, 6, 2, 1] 44\n"
     ]
    }
   ],
   "source": [
    "print(\"Original\", test_lab, len(test_lab))"
   ]
  },
  {
   "cell_type": "code",
   "execution_count": 10,
   "id": "ea7d3c4a",
   "metadata": {
    "execution": {
     "iopub.execute_input": "2024-04-30T12:08:23.470855Z",
     "iopub.status.busy": "2024-04-30T12:08:23.470422Z",
     "iopub.status.idle": "2024-04-30T12:08:23.479529Z",
     "shell.execute_reply": "2024-04-30T12:08:23.478268Z"
    },
    "papermill": {
     "duration": 0.018093,
     "end_time": "2024-04-30T12:08:23.482331",
     "exception": false,
     "start_time": "2024-04-30T12:08:23.464238",
     "status": "completed"
    },
    "tags": []
   },
   "outputs": [
    {
     "name": "stdout",
     "output_type": "stream",
     "text": [
      "for class 2: True Positive = 2 True Negative = 0 False Positive = 2 False Negative = 0\n"
     ]
    }
   ],
   "source": [
    "# Compute confusion matrix\n",
    "cm = confusion_matrix(test_lab, y_pred)\n",
    "\n",
    "# Extract TP, TN, FP, FN values\n",
    "TP = cm[1, 1]  # True Positive\n",
    "TN = cm[0, 0]  # True Negative\n",
    "FP = cm[0, 1]  # False Positive\n",
    "FN = cm[1, 0]  # False Negative\n",
    "\n",
    "print(f'for class 2: True Positive = {TP} True Negative = {TN} False Positive = {FP} False Negative = {FN}')"
   ]
  },
  {
   "cell_type": "code",
   "execution_count": 11,
   "id": "1bef767c",
   "metadata": {
    "execution": {
     "iopub.execute_input": "2024-04-30T12:08:23.494899Z",
     "iopub.status.busy": "2024-04-30T12:08:23.493930Z",
     "iopub.status.idle": "2024-04-30T12:08:23.500738Z",
     "shell.execute_reply": "2024-04-30T12:08:23.499463Z"
    },
    "papermill": {
     "duration": 0.015577,
     "end_time": "2024-04-30T12:08:23.503154",
     "exception": false,
     "start_time": "2024-04-30T12:08:23.487577",
     "status": "completed"
    },
    "tags": []
   },
   "outputs": [
    {
     "name": "stdout",
     "output_type": "stream",
     "text": [
      "True Positive Rate: 1.0, False Positive Rate: 1.0, Precision Value: 0.5, Recall Value: 1.0\n"
     ]
    }
   ],
   "source": [
    "TPR = TP/(TP+FN)\n",
    "FPR = FP/(FP+TN)\n",
    "Prec = TP/(TP+FP)\n",
    "Rec = TP/(TP+FN)\n",
    "\n",
    "print(f'True Positive Rate: {TPR}, False Positive Rate: {FPR}, Precision Value: {Prec}, Recall Value: {Rec}')"
   ]
  }
 ],
 "metadata": {
  "kaggle": {
   "accelerator": "none",
   "dataSources": [
    {
     "datasetId": 3684241,
     "sourceId": 6715567,
     "sourceType": "datasetVersion"
    }
   ],
   "dockerImageVersionId": 30698,
   "isGpuEnabled": false,
   "isInternetEnabled": true,
   "language": "python",
   "sourceType": "notebook"
  },
  "kernelspec": {
   "display_name": "Python 3",
   "language": "python",
   "name": "python3"
  },
  "language_info": {
   "codemirror_mode": {
    "name": "ipython",
    "version": 3
   },
   "file_extension": ".py",
   "mimetype": "text/x-python",
   "name": "python",
   "nbconvert_exporter": "python",
   "pygments_lexer": "ipython3",
   "version": "3.10.13"
  },
  "papermill": {
   "default_parameters": {},
   "duration": 6.616703,
   "end_time": "2024-04-30T12:08:24.129776",
   "environment_variables": {},
   "exception": null,
   "input_path": "__notebook__.ipynb",
   "output_path": "__notebook__.ipynb",
   "parameters": {},
   "start_time": "2024-04-30T12:08:17.513073",
   "version": "2.5.0"
  }
 },
 "nbformat": 4,
 "nbformat_minor": 5
}
