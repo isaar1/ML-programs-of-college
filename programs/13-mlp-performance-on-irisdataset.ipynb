{
 "cells": [
  {
   "cell_type": "code",
   "execution_count": 1,
   "id": "63d662c3",
   "metadata": {
    "_cell_guid": "b1076dfc-b9ad-4769-8c92-a6c4dae69d19",
    "_uuid": "8f2839f25d086af736a60e9eeb907d3b93b6e0e5",
    "execution": {
     "iopub.execute_input": "2024-04-30T12:06:10.629040Z",
     "iopub.status.busy": "2024-04-30T12:06:10.628534Z",
     "iopub.status.idle": "2024-04-30T12:06:11.618635Z",
     "shell.execute_reply": "2024-04-30T12:06:11.617439Z"
    },
    "papermill": {
     "duration": 1.001114,
     "end_time": "2024-04-30T12:06:11.621266",
     "exception": false,
     "start_time": "2024-04-30T12:06:10.620152",
     "status": "completed"
    },
    "tags": []
   },
   "outputs": [
    {
     "name": "stdout",
     "output_type": "stream",
     "text": [
      "/kaggle/input/iris-dataset/iris.csv\n"
     ]
    }
   ],
   "source": [
    "# This Python 3 environment comes with many helpful analytics libraries installed\n",
    "# It is defined by the kaggle/python Docker image: https://github.com/kaggle/docker-python\n",
    "# For example, here's several helpful packages to load\n",
    "\n",
    "import numpy as np # linear algebra\n",
    "import pandas as pd # data processing, CSV file I/O (e.g. pd.read_csv)\n",
    "\n",
    "# Input data files are available in the read-only \"../input/\" directory\n",
    "# For example, running this (by clicking run or pressing Shift+Enter) will list all files under the input directory\n",
    "\n",
    "import os\n",
    "for dirname, _, filenames in os.walk('/kaggle/input'):\n",
    "    for filename in filenames:\n",
    "        print(os.path.join(dirname, filename))\n",
    "\n",
    "# You can write up to 20GB to the current directory (/kaggle/working/) that gets preserved as output when you create a version using \"Save & Run All\" \n",
    "# You can also write temporary files to /kaggle/temp/, but they won't be saved outside of the current session"
   ]
  },
  {
   "cell_type": "markdown",
   "id": "a7f4e763",
   "metadata": {
    "papermill": {
     "duration": 0.004453,
     "end_time": "2024-04-30T12:06:11.630736",
     "exception": false,
     "start_time": "2024-04-30T12:06:11.626283",
     "status": "completed"
    },
    "tags": []
   },
   "source": [
    "# > ***Evaluation of MLP [Multi-layer Perceptron] Classifier Performance on Iris Dataset***"
   ]
  },
  {
   "cell_type": "code",
   "execution_count": 2,
   "id": "5932130b",
   "metadata": {
    "execution": {
     "iopub.execute_input": "2024-04-30T12:06:11.642064Z",
     "iopub.status.busy": "2024-04-30T12:06:11.641528Z",
     "iopub.status.idle": "2024-04-30T12:06:13.005884Z",
     "shell.execute_reply": "2024-04-30T12:06:13.004903Z"
    },
    "papermill": {
     "duration": 1.373609,
     "end_time": "2024-04-30T12:06:13.009040",
     "exception": false,
     "start_time": "2024-04-30T12:06:11.635431",
     "status": "completed"
    },
    "tags": []
   },
   "outputs": [],
   "source": [
    "from sklearn.datasets import load_iris\n",
    "from sklearn.neural_network import MLPClassifier\n",
    "from sklearn.model_selection import train_test_split\n",
    "from sklearn.metrics.cluster import adjusted_rand_score\n",
    "from sklearn.metrics import confusion_matrix \n",
    "import numpy as np\n",
    "import matplotlib.pyplot as plt"
   ]
  },
  {
   "cell_type": "code",
   "execution_count": 3,
   "id": "079423ad",
   "metadata": {
    "execution": {
     "iopub.execute_input": "2024-04-30T12:06:13.021106Z",
     "iopub.status.busy": "2024-04-30T12:06:13.020492Z",
     "iopub.status.idle": "2024-04-30T12:06:13.032612Z",
     "shell.execute_reply": "2024-04-30T12:06:13.031029Z"
    },
    "papermill": {
     "duration": 0.021811,
     "end_time": "2024-04-30T12:06:13.035675",
     "exception": false,
     "start_time": "2024-04-30T12:06:13.013864",
     "status": "completed"
    },
    "tags": []
   },
   "outputs": [],
   "source": [
    "iris = load_iris()\n",
    "#print(iris)"
   ]
  },
  {
   "cell_type": "code",
   "execution_count": 4,
   "id": "c7184599",
   "metadata": {
    "execution": {
     "iopub.execute_input": "2024-04-30T12:06:13.046831Z",
     "iopub.status.busy": "2024-04-30T12:06:13.046425Z",
     "iopub.status.idle": "2024-04-30T12:06:13.056286Z",
     "shell.execute_reply": "2024-04-30T12:06:13.055167Z"
    },
    "papermill": {
     "duration": 0.018011,
     "end_time": "2024-04-30T12:06:13.058592",
     "exception": false,
     "start_time": "2024-04-30T12:06:13.040581",
     "status": "completed"
    },
    "tags": []
   },
   "outputs": [
    {
     "name": "stdout",
     "output_type": "stream",
     "text": [
      "(105, 4) (45, 4) 105 45\n"
     ]
    }
   ],
   "source": [
    "X, y = iris.data, iris.target\n",
    "\n",
    "X_train, test_x, y_train, test_lab = train_test_split(X, y, test_size = 0.3, random_state = 42)\n",
    "print(X_train.shape, test_x.shape, len(y_train), len(test_lab))"
   ]
  },
  {
   "cell_type": "code",
   "execution_count": 5,
   "id": "9dd13093",
   "metadata": {
    "execution": {
     "iopub.execute_input": "2024-04-30T12:06:13.070338Z",
     "iopub.status.busy": "2024-04-30T12:06:13.069556Z",
     "iopub.status.idle": "2024-04-30T12:06:13.159115Z",
     "shell.execute_reply": "2024-04-30T12:06:13.157946Z"
    },
    "papermill": {
     "duration": 0.098477,
     "end_time": "2024-04-30T12:06:13.161818",
     "exception": false,
     "start_time": "2024-04-30T12:06:13.063341",
     "status": "completed"
    },
    "tags": []
   },
   "outputs": [
    {
     "data": {
      "text/html": [
       "<style>#sk-container-id-1 {color: black;background-color: white;}#sk-container-id-1 pre{padding: 0;}#sk-container-id-1 div.sk-toggleable {background-color: white;}#sk-container-id-1 label.sk-toggleable__label {cursor: pointer;display: block;width: 100%;margin-bottom: 0;padding: 0.3em;box-sizing: border-box;text-align: center;}#sk-container-id-1 label.sk-toggleable__label-arrow:before {content: \"▸\";float: left;margin-right: 0.25em;color: #696969;}#sk-container-id-1 label.sk-toggleable__label-arrow:hover:before {color: black;}#sk-container-id-1 div.sk-estimator:hover label.sk-toggleable__label-arrow:before {color: black;}#sk-container-id-1 div.sk-toggleable__content {max-height: 0;max-width: 0;overflow: hidden;text-align: left;background-color: #f0f8ff;}#sk-container-id-1 div.sk-toggleable__content pre {margin: 0.2em;color: black;border-radius: 0.25em;background-color: #f0f8ff;}#sk-container-id-1 input.sk-toggleable__control:checked~div.sk-toggleable__content {max-height: 200px;max-width: 100%;overflow: auto;}#sk-container-id-1 input.sk-toggleable__control:checked~label.sk-toggleable__label-arrow:before {content: \"▾\";}#sk-container-id-1 div.sk-estimator input.sk-toggleable__control:checked~label.sk-toggleable__label {background-color: #d4ebff;}#sk-container-id-1 div.sk-label input.sk-toggleable__control:checked~label.sk-toggleable__label {background-color: #d4ebff;}#sk-container-id-1 input.sk-hidden--visually {border: 0;clip: rect(1px 1px 1px 1px);clip: rect(1px, 1px, 1px, 1px);height: 1px;margin: -1px;overflow: hidden;padding: 0;position: absolute;width: 1px;}#sk-container-id-1 div.sk-estimator {font-family: monospace;background-color: #f0f8ff;border: 1px dotted black;border-radius: 0.25em;box-sizing: border-box;margin-bottom: 0.5em;}#sk-container-id-1 div.sk-estimator:hover {background-color: #d4ebff;}#sk-container-id-1 div.sk-parallel-item::after {content: \"\";width: 100%;border-bottom: 1px solid gray;flex-grow: 1;}#sk-container-id-1 div.sk-label:hover label.sk-toggleable__label {background-color: #d4ebff;}#sk-container-id-1 div.sk-serial::before {content: \"\";position: absolute;border-left: 1px solid gray;box-sizing: border-box;top: 0;bottom: 0;left: 50%;z-index: 0;}#sk-container-id-1 div.sk-serial {display: flex;flex-direction: column;align-items: center;background-color: white;padding-right: 0.2em;padding-left: 0.2em;position: relative;}#sk-container-id-1 div.sk-item {position: relative;z-index: 1;}#sk-container-id-1 div.sk-parallel {display: flex;align-items: stretch;justify-content: center;background-color: white;position: relative;}#sk-container-id-1 div.sk-item::before, #sk-container-id-1 div.sk-parallel-item::before {content: \"\";position: absolute;border-left: 1px solid gray;box-sizing: border-box;top: 0;bottom: 0;left: 50%;z-index: -1;}#sk-container-id-1 div.sk-parallel-item {display: flex;flex-direction: column;z-index: 1;position: relative;background-color: white;}#sk-container-id-1 div.sk-parallel-item:first-child::after {align-self: flex-end;width: 50%;}#sk-container-id-1 div.sk-parallel-item:last-child::after {align-self: flex-start;width: 50%;}#sk-container-id-1 div.sk-parallel-item:only-child::after {width: 0;}#sk-container-id-1 div.sk-dashed-wrapped {border: 1px dashed gray;margin: 0 0.4em 0.5em 0.4em;box-sizing: border-box;padding-bottom: 0.4em;background-color: white;}#sk-container-id-1 div.sk-label label {font-family: monospace;font-weight: bold;display: inline-block;line-height: 1.2em;}#sk-container-id-1 div.sk-label-container {text-align: center;}#sk-container-id-1 div.sk-container {/* jupyter's `normalize.less` sets `[hidden] { display: none; }` but bootstrap.min.css set `[hidden] { display: none !important; }` so we also need the `!important` here to be able to override the default hidden behavior on the sphinx rendered scikit-learn.org. See: https://github.com/scikit-learn/scikit-learn/issues/21755 */display: inline-block !important;position: relative;}#sk-container-id-1 div.sk-text-repr-fallback {display: none;}</style><div id=\"sk-container-id-1\" class=\"sk-top-container\"><div class=\"sk-text-repr-fallback\"><pre>MLPClassifier(alpha=1e-05, hidden_layer_sizes=(15,), random_state=1,\n",
       "              solver=&#x27;lbfgs&#x27;)</pre><b>In a Jupyter environment, please rerun this cell to show the HTML representation or trust the notebook. <br />On GitHub, the HTML representation is unable to render, please try loading this page with nbviewer.org.</b></div><div class=\"sk-container\" hidden><div class=\"sk-item\"><div class=\"sk-estimator sk-toggleable\"><input class=\"sk-toggleable__control sk-hidden--visually\" id=\"sk-estimator-id-1\" type=\"checkbox\" checked><label for=\"sk-estimator-id-1\" class=\"sk-toggleable__label sk-toggleable__label-arrow\">MLPClassifier</label><div class=\"sk-toggleable__content\"><pre>MLPClassifier(alpha=1e-05, hidden_layer_sizes=(15,), random_state=1,\n",
       "              solver=&#x27;lbfgs&#x27;)</pre></div></div></div></div></div>"
      ],
      "text/plain": [
       "MLPClassifier(alpha=1e-05, hidden_layer_sizes=(15,), random_state=1,\n",
       "              solver='lbfgs')"
      ]
     },
     "execution_count": 5,
     "metadata": {},
     "output_type": "execute_result"
    }
   ],
   "source": [
    "clf = MLPClassifier(solver=\"lbfgs\", alpha=1e-5, hidden_layer_sizes=(15, ), random_state=1)\n",
    "clf.fit(X_train, y_train)\n"
   ]
  },
  {
   "cell_type": "code",
   "execution_count": 6,
   "id": "2d269517",
   "metadata": {
    "execution": {
     "iopub.execute_input": "2024-04-30T12:06:13.174197Z",
     "iopub.status.busy": "2024-04-30T12:06:13.173472Z",
     "iopub.status.idle": "2024-04-30T12:06:13.180303Z",
     "shell.execute_reply": "2024-04-30T12:06:13.179126Z"
    },
    "papermill": {
     "duration": 0.01574,
     "end_time": "2024-04-30T12:06:13.182545",
     "exception": false,
     "start_time": "2024-04-30T12:06:13.166805",
     "status": "completed"
    },
    "tags": []
   },
   "outputs": [
    {
     "name": "stdout",
     "output_type": "stream",
     "text": [
      "[1 0 2 1 1 0 1 2 1 1 2 0 0 0 0 1 2 1 1 2 0 2 0 2 2 2 2 2 0 0 0 0 1 0 0 2 1\n",
      " 0 0 0 2 1 1 0 0]\n"
     ]
    }
   ],
   "source": [
    "y_pred = clf.predict(test_x)\n",
    "print(y_pred)"
   ]
  },
  {
   "cell_type": "code",
   "execution_count": 7,
   "id": "bc23dbbb",
   "metadata": {
    "execution": {
     "iopub.execute_input": "2024-04-30T12:06:13.195285Z",
     "iopub.status.busy": "2024-04-30T12:06:13.194574Z",
     "iopub.status.idle": "2024-04-30T12:06:13.201143Z",
     "shell.execute_reply": "2024-04-30T12:06:13.200044Z"
    },
    "papermill": {
     "duration": 0.015525,
     "end_time": "2024-04-30T12:06:13.203464",
     "exception": false,
     "start_time": "2024-04-30T12:06:13.187939",
     "status": "completed"
    },
    "tags": []
   },
   "outputs": [
    {
     "name": "stdout",
     "output_type": "stream",
     "text": [
      "Original [1 0 2 1 1 0 1 2 1 1 2 0 0 0 0 1 2 1 1 2 0 2 0 2 2 2 2 2 0 0 0 0 1 0 0 2 1\n",
      " 0 0 0 2 1 1 0 0] 45\n"
     ]
    }
   ],
   "source": [
    "print(\"Original\", test_lab, len(test_lab))"
   ]
  },
  {
   "cell_type": "code",
   "execution_count": 8,
   "id": "771eb7f4",
   "metadata": {
    "execution": {
     "iopub.execute_input": "2024-04-30T12:06:13.216260Z",
     "iopub.status.busy": "2024-04-30T12:06:13.215458Z",
     "iopub.status.idle": "2024-04-30T12:06:13.223275Z",
     "shell.execute_reply": "2024-04-30T12:06:13.222048Z"
    },
    "papermill": {
     "duration": 0.017006,
     "end_time": "2024-04-30T12:06:13.225653",
     "exception": false,
     "start_time": "2024-04-30T12:06:13.208647",
     "status": "completed"
    },
    "tags": []
   },
   "outputs": [
    {
     "name": "stdout",
     "output_type": "stream",
     "text": [
      "[[19  0  0]\n",
      " [ 0 13  0]\n",
      " [ 0  0 13]]\n"
     ]
    }
   ],
   "source": [
    "y_pred = np.asarray(y_pred)\n",
    "y_true = np.asarray(test_lab)\n",
    "\n",
    "print(confusion_matrix(y_pred, y_true))"
   ]
  },
  {
   "cell_type": "code",
   "execution_count": 9,
   "id": "8e248ec2",
   "metadata": {
    "execution": {
     "iopub.execute_input": "2024-04-30T12:06:13.238486Z",
     "iopub.status.busy": "2024-04-30T12:06:13.237695Z",
     "iopub.status.idle": "2024-04-30T12:06:13.246328Z",
     "shell.execute_reply": "2024-04-30T12:06:13.245116Z"
    },
    "papermill": {
     "duration": 0.017716,
     "end_time": "2024-04-30T12:06:13.248744",
     "exception": false,
     "start_time": "2024-04-30T12:06:13.231028",
     "status": "completed"
    },
    "tags": []
   },
   "outputs": [
    {
     "name": "stdout",
     "output_type": "stream",
     "text": [
      "for class 2: True Positive = 13 True Negative = 19 False Positive = 0 False Negative = 0\n"
     ]
    }
   ],
   "source": [
    "# Compute confusion matrix\n",
    "cm = confusion_matrix(test_lab, y_pred)\n",
    "\n",
    "# Extract TP, TN, FP, FN values\n",
    "TP = cm[1, 1]  # True Positive\n",
    "TN = cm[0, 0]  # True Negative\n",
    "FP = cm[0, 1]  # False Positive\n",
    "FN = cm[1, 0]  # False Negative\n",
    "\n",
    "print(f'for class 2: True Positive = {TP} True Negative = {TN} False Positive = {FP} False Negative = {FN}')"
   ]
  },
  {
   "cell_type": "code",
   "execution_count": 10,
   "id": "7ccd9f25",
   "metadata": {
    "execution": {
     "iopub.execute_input": "2024-04-30T12:06:13.261507Z",
     "iopub.status.busy": "2024-04-30T12:06:13.261090Z",
     "iopub.status.idle": "2024-04-30T12:06:13.267621Z",
     "shell.execute_reply": "2024-04-30T12:06:13.266346Z"
    },
    "papermill": {
     "duration": 0.016236,
     "end_time": "2024-04-30T12:06:13.270392",
     "exception": false,
     "start_time": "2024-04-30T12:06:13.254156",
     "status": "completed"
    },
    "tags": []
   },
   "outputs": [
    {
     "name": "stdout",
     "output_type": "stream",
     "text": [
      "True Positive Rate: 1.0, False Positive Rate: 0.0, Precision Value: 1.0, Recall Value: 1.0\n"
     ]
    }
   ],
   "source": [
    "TPR = TP/(TP+FN)\n",
    "FPR = FP/(FP+TN)\n",
    "Prec = TP/(TP+FP)\n",
    "Rec = TP/(TP+FN)\n",
    "\n",
    "print(f'True Positive Rate: {TPR}, False Positive Rate: {FPR}, Precision Value: {Prec}, Recall Value: {Rec}')"
   ]
  }
 ],
 "metadata": {
  "kaggle": {
   "accelerator": "none",
   "dataSources": [
    {
     "datasetId": 2354152,
     "sourceId": 3966491,
     "sourceType": "datasetVersion"
    }
   ],
   "dockerImageVersionId": 30698,
   "isGpuEnabled": false,
   "isInternetEnabled": true,
   "language": "python",
   "sourceType": "notebook"
  },
  "kernelspec": {
   "display_name": "Python 3",
   "language": "python",
   "name": "python3"
  },
  "language_info": {
   "codemirror_mode": {
    "name": "ipython",
    "version": 3
   },
   "file_extension": ".py",
   "mimetype": "text/x-python",
   "name": "python",
   "nbconvert_exporter": "python",
   "pygments_lexer": "ipython3",
   "version": "3.10.13"
  },
  "papermill": {
   "default_parameters": {},
   "duration": 6.344301,
   "end_time": "2024-04-30T12:06:13.897338",
   "environment_variables": {},
   "exception": null,
   "input_path": "__notebook__.ipynb",
   "output_path": "__notebook__.ipynb",
   "parameters": {},
   "start_time": "2024-04-30T12:06:07.553037",
   "version": "2.5.0"
  }
 },
 "nbformat": 4,
 "nbformat_minor": 5
}
