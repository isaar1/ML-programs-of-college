{
 "cells": [
  {
   "cell_type": "code",
   "execution_count": 1,
   "id": "de86f304",
   "metadata": {
    "_cell_guid": "b1076dfc-b9ad-4769-8c92-a6c4dae69d19",
    "_uuid": "8f2839f25d086af736a60e9eeb907d3b93b6e0e5",
    "execution": {
     "iopub.execute_input": "2024-04-29T07:39:51.109350Z",
     "iopub.status.busy": "2024-04-29T07:39:51.108902Z",
     "iopub.status.idle": "2024-04-29T07:39:52.365747Z",
     "shell.execute_reply": "2024-04-29T07:39:52.363766Z"
    },
    "papermill": {
     "duration": 1.268251,
     "end_time": "2024-04-29T07:39:52.369170",
     "exception": false,
     "start_time": "2024-04-29T07:39:51.100919",
     "status": "completed"
    },
    "tags": []
   },
   "outputs": [
    {
     "name": "stdout",
     "output_type": "stream",
     "text": [
      "/kaggle/input/iris-dataset/iris.csv\n"
     ]
    }
   ],
   "source": [
    "# This Python 3 environment comes with many helpful analytics libraries installed\n",
    "# It is defined by the kaggle/python Docker image: https://github.com/kaggle/docker-python\n",
    "# For example, here's several helpful packages to load\n",
    "\n",
    "import numpy as np # linear algebra\n",
    "import pandas as pd # data processing, CSV file I/O (e.g. pd.read_csv)\n",
    "\n",
    "# Input data files are available in the read-only \"../input/\" directory\n",
    "# For example, running this (by clicking run or pressing Shift+Enter) will list all files under the input directory\n",
    "\n",
    "import os\n",
    "for dirname, _, filenames in os.walk('/kaggle/input'):\n",
    "    for filename in filenames:\n",
    "        print(os.path.join(dirname, filename))\n",
    "\n",
    "# You can write up to 20GB to the current directory (/kaggle/working/) that gets preserved as output when you create a version using \"Save & Run All\" \n",
    "# You can also write temporary files to /kaggle/temp/, but they won't be saved outside of the current session"
   ]
  },
  {
   "cell_type": "markdown",
   "id": "2c01b14b",
   "metadata": {
    "papermill": {
     "duration": 0.004219,
     "end_time": "2024-04-29T07:39:52.378395",
     "exception": false,
     "start_time": "2024-04-29T07:39:52.374176",
     "status": "completed"
    },
    "tags": []
   },
   "source": [
    "# > ***09)\tEvaluation of K-Nearest Neighbours classifier performance on Iris Dataset with varying test size***"
   ]
  },
  {
   "cell_type": "code",
   "execution_count": 2,
   "id": "5fdfb2cd",
   "metadata": {
    "execution": {
     "iopub.execute_input": "2024-04-29T07:39:52.390519Z",
     "iopub.status.busy": "2024-04-29T07:39:52.389766Z",
     "iopub.status.idle": "2024-04-29T07:39:54.559550Z",
     "shell.execute_reply": "2024-04-29T07:39:54.558052Z"
    },
    "papermill": {
     "duration": 2.180073,
     "end_time": "2024-04-29T07:39:54.563058",
     "exception": false,
     "start_time": "2024-04-29T07:39:52.382985",
     "status": "completed"
    },
    "tags": []
   },
   "outputs": [],
   "source": [
    "from sklearn.datasets import load_iris\n",
    "from sklearn.model_selection import train_test_split\n",
    "from sklearn.metrics.cluster import adjusted_rand_score\n",
    "from sklearn.neighbors import KNeighborsClassifier\n",
    "import matplotlib.pyplot as plt"
   ]
  },
  {
   "cell_type": "code",
   "execution_count": 3,
   "id": "77a224c6",
   "metadata": {
    "execution": {
     "iopub.execute_input": "2024-04-29T07:39:54.574811Z",
     "iopub.status.busy": "2024-04-29T07:39:54.574344Z",
     "iopub.status.idle": "2024-04-29T07:39:54.589935Z",
     "shell.execute_reply": "2024-04-29T07:39:54.588243Z"
    },
    "papermill": {
     "duration": 0.02534,
     "end_time": "2024-04-29T07:39:54.593096",
     "exception": false,
     "start_time": "2024-04-29T07:39:54.567756",
     "status": "completed"
    },
    "tags": []
   },
   "outputs": [],
   "source": [
    "iris = load_iris()\n",
    "# print(iris)"
   ]
  },
  {
   "cell_type": "code",
   "execution_count": 4,
   "id": "ea1477eb",
   "metadata": {
    "execution": {
     "iopub.execute_input": "2024-04-29T07:39:54.605249Z",
     "iopub.status.busy": "2024-04-29T07:39:54.603823Z",
     "iopub.status.idle": "2024-04-29T07:39:54.611906Z",
     "shell.execute_reply": "2024-04-29T07:39:54.610367Z"
    },
    "papermill": {
     "duration": 0.017177,
     "end_time": "2024-04-29T07:39:54.614936",
     "exception": false,
     "start_time": "2024-04-29T07:39:54.597759",
     "status": "completed"
    },
    "tags": []
   },
   "outputs": [
    {
     "name": "stdout",
     "output_type": "stream",
     "text": [
      "(150, 4) 150\n"
     ]
    }
   ],
   "source": [
    "X, y = iris.data, iris.target\n",
    "\n",
    "print(X.shape, len(y))"
   ]
  },
  {
   "cell_type": "code",
   "execution_count": 5,
   "id": "3539fad3",
   "metadata": {
    "execution": {
     "iopub.execute_input": "2024-04-29T07:39:54.626564Z",
     "iopub.status.busy": "2024-04-29T07:39:54.626032Z",
     "iopub.status.idle": "2024-04-29T07:39:54.631823Z",
     "shell.execute_reply": "2024-04-29T07:39:54.630613Z"
    },
    "papermill": {
     "duration": 0.015099,
     "end_time": "2024-04-29T07:39:54.634458",
     "exception": false,
     "start_time": "2024-04-29T07:39:54.619359",
     "status": "completed"
    },
    "tags": []
   },
   "outputs": [],
   "source": [
    "clf = KNeighborsClassifier(n_neighbors = 3)\n",
    "aris= []\n",
    "j = [0.2,0.3,0.4,0.5]"
   ]
  },
  {
   "cell_type": "code",
   "execution_count": 6,
   "id": "eac8a623",
   "metadata": {
    "execution": {
     "iopub.execute_input": "2024-04-29T07:39:54.646781Z",
     "iopub.status.busy": "2024-04-29T07:39:54.645685Z",
     "iopub.status.idle": "2024-04-29T07:39:54.720207Z",
     "shell.execute_reply": "2024-04-29T07:39:54.718641Z"
    },
    "papermill": {
     "duration": 0.085281,
     "end_time": "2024-04-29T07:39:54.724718",
     "exception": false,
     "start_time": "2024-04-29T07:39:54.639437",
     "status": "completed"
    },
    "tags": []
   },
   "outputs": [
    {
     "name": "stdout",
     "output_type": "stream",
     "text": [
      "(120, 4) (30, 4) 120 30\n",
      "[1 0 2 1 1 0 1 2 1 1 2 0 0 0 0 1 2 1 1 2 0 2 0 2 2 2 2 2 0 0] 30\n",
      "[1 0 2 1 1 0 1 2 1 1 2 0 0 0 0 1 2 1 1 2 0 2 0 2 2 2 2 2 0 0] 30\n",
      "ARI for 3 1.0\n",
      "*************************************\n",
      "(105, 4) (45, 4) 105 45\n",
      "[1 0 2 1 1 0 1 2 1 1 2 0 0 0 0 1 2 1 1 2 0 2 0 2 2 2 2 2 0 0 0 0 1 0 0 2 1\n",
      " 0 0 0 2 1 1 0 0] 45\n",
      "[1 0 2 1 1 0 1 2 1 1 2 0 0 0 0 1 2 1 1 2 0 2 0 2 2 2 2 2 0 0 0 0 1 0 0 2 1\n",
      " 0 0 0 2 1 1 0 0] 45\n",
      "ARI for 3 1.0\n",
      "*************************************\n",
      "(90, 4) (60, 4) 90 60\n",
      "[1 0 2 1 1 0 1 2 1 1 2 0 0 0 0 1 2 1 1 2 0 2 0 2 2 2 2 2 0 0 0 0 1 0 0 2 1\n",
      " 0 0 0 2 1 1 0 0 1 2 2 1 2 1 2 1 0 2 1 0 0 0 1] 60\n",
      "[1 0 2 1 1 0 1 2 1 1 2 0 0 0 0 1 2 1 1 2 0 2 0 2 2 2 2 2 0 0 0 0 1 0 0 2 1\n",
      " 0 0 0 2 1 1 0 0 1 1 2 1 2 1 2 1 0 2 1 0 0 0 1] 60\n",
      "ARI for 3 0.9537575274646324\n",
      "*************************************\n",
      "(75, 4) (75, 4) 75 75\n",
      "[1 0 2 1 1 0 1 2 1 1 2 0 0 0 0 1 2 1 1 2 0 2 0 2 2 2 2 2 0 0 0 0 1 0 0 2 1\n",
      " 0 0 0 2 1 1 0 0 1 2 2 1 2 1 2 1 0 2 1 0 0 0 1 2 0 0 0 1 0 1 2 0 1 2 0 2 2\n",
      " 1] 75\n",
      "[1 0 2 1 1 0 1 2 1 1 2 0 0 0 0 1 2 1 1 2 0 2 0 2 2 2 2 2 0 0 0 0 1 0 0 2 1\n",
      " 0 0 0 2 1 1 0 0 1 1 2 1 2 1 2 1 0 2 1 0 0 0 1 1 0 0 0 1 0 1 2 0 1 2 0 2 2\n",
      " 1] 75\n",
      "ARI for 3 0.928216922463694\n",
      "*************************************\n"
     ]
    }
   ],
   "source": [
    "for i in j:\n",
    "    X_train, test_x, y_train, test_lab = train_test_split(X, y, test_size = i, random_state = 42)\n",
    "    print(X_train.shape, test_x.shape, len(y_train), len(test_lab))\n",
    "    clf = clf.fit(X_train, y_train)\n",
    "    test_pred_deci_tree = clf.predict(test_x)\n",
    "    print(test_lab, len(test_lab))\n",
    "    print(test_pred_deci_tree, len(test_pred_deci_tree))\n",
    "    print(\"ARI for 3\", adjusted_rand_score(test_pred_deci_tree, test_lab))\n",
    "    print(\"*************************************\")\n",
    "    aris.append(adjusted_rand_score(test_pred_deci_tree, test_lab))"
   ]
  },
  {
   "cell_type": "code",
   "execution_count": 7,
   "id": "099fd1be",
   "metadata": {
    "execution": {
     "iopub.execute_input": "2024-04-29T07:39:54.738320Z",
     "iopub.status.busy": "2024-04-29T07:39:54.737662Z",
     "iopub.status.idle": "2024-04-29T07:39:54.745788Z",
     "shell.execute_reply": "2024-04-29T07:39:54.743948Z"
    },
    "papermill": {
     "duration": 0.018747,
     "end_time": "2024-04-29T07:39:54.749122",
     "exception": false,
     "start_time": "2024-04-29T07:39:54.730375",
     "status": "completed"
    },
    "tags": []
   },
   "outputs": [
    {
     "name": "stdout",
     "output_type": "stream",
     "text": [
      "[1.0, 1.0, 0.9537575274646324, 0.928216922463694]\n",
      "[0.2, 0.3, 0.4, 0.5]\n"
     ]
    }
   ],
   "source": [
    "j1 = [\"0.2\", \"0.3\", \"0.4\", \"0.5\"]\n",
    "print(aris)\n",
    "print(j)"
   ]
  },
  {
   "cell_type": "code",
   "execution_count": 8,
   "id": "1649469c",
   "metadata": {
    "execution": {
     "iopub.execute_input": "2024-04-29T07:39:54.761501Z",
     "iopub.status.busy": "2024-04-29T07:39:54.761029Z",
     "iopub.status.idle": "2024-04-29T07:39:55.088711Z",
     "shell.execute_reply": "2024-04-29T07:39:55.087597Z"
    },
    "papermill": {
     "duration": 0.33727,
     "end_time": "2024-04-29T07:39:55.091378",
     "exception": false,
     "start_time": "2024-04-29T07:39:54.754108",
     "status": "completed"
    },
    "tags": []
   },
   "outputs": [
    {
     "data": {
      "image/png": "[encoded data removed]",
      "text/plain": [
       "<Figure size 640x480 with 1 Axes>"
      ]
     },
     "metadata": {},
     "output_type": "display_data"
    }
   ],
   "source": [
    "fig = plt.figure()\n",
    "plt.bar(j1,aris)\n",
    "plt.xlabel(\"Test Size\")\n",
    "plt.ylabel(\"Adjusted Rand Index [ARI]\")\n",
    "plt.title(\"Adjusted Rand Index vs. Test Size for K-Nearest Neighbors Classifier\")\n",
    "plt.show()"
   ]
  }
 ],
 "metadata": {
  "kaggle": {
   "accelerator": "none",
   "dataSources": [
    {
     "datasetId": 2354152,
     "sourceId": 3966491,
     "sourceType": "datasetVersion"
    }
   ],
   "dockerImageVersionId": 30698,
   "isGpuEnabled": false,
   "isInternetEnabled": true,
   "language": "python",
   "sourceType": "notebook"
  },
  "kernelspec": {
   "display_name": "Python 3",
   "language": "python",
   "name": "python3"
  },
  "language_info": {
   "codemirror_mode": {
    "name": "ipython",
    "version": 3
   },
   "file_extension": ".py",
   "mimetype": "text/x-python",
   "name": "python",
   "nbconvert_exporter": "python",
   "pygments_lexer": "ipython3",
   "version": "3.10.13"
  },
  "papermill": {
   "default_parameters": {},
   "duration": 8.481846,
   "end_time": "2024-04-29T07:39:56.025882",
   "environment_variables": {},
   "exception": null,
   "input_path": "__notebook__.ipynb",
   "output_path": "__notebook__.ipynb",
   "parameters": {},
   "start_time": "2024-04-29T07:39:47.544036",
   "version": "2.5.0"
  }
 },
 "nbformat": 4,
 "nbformat_minor": 5
}
