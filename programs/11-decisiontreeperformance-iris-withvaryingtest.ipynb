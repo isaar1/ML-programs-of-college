{
 "cells": [
  {
   "cell_type": "code",
   "execution_count": 1,
   "id": "7d3c3164",
   "metadata": {
    "_cell_guid": "b1076dfc-b9ad-4769-8c92-a6c4dae69d19",
    "_uuid": "8f2839f25d086af736a60e9eeb907d3b93b6e0e5",
    "execution": {
     "iopub.execute_input": "2024-04-30T11:58:51.968444Z",
     "iopub.status.busy": "2024-04-30T11:58:51.967279Z",
     "iopub.status.idle": "2024-04-30T11:58:53.194225Z",
     "shell.execute_reply": "2024-04-30T11:58:53.192573Z"
    },
    "papermill": {
     "duration": 1.238618,
     "end_time": "2024-04-30T11:58:53.197478",
     "exception": false,
     "start_time": "2024-04-30T11:58:51.958860",
     "status": "completed"
    },
    "tags": []
   },
   "outputs": [
    {
     "name": "stdout",
     "output_type": "stream",
     "text": [
      "/kaggle/input/iris-dataset/iris.csv\n"
     ]
    }
   ],
   "source": [
    "# This Python 3 environment comes with many helpful analytics libraries installed\n",
    "# It is defined by the kaggle/python Docker image: https://github.com/kaggle/docker-python\n",
    "# For example, here's several helpful packages to load\n",
    "\n",
    "import numpy as np # linear algebra\n",
    "import pandas as pd # data processing, CSV file I/O (e.g. pd.read_csv)\n",
    "\n",
    "# Input data files are available in the read-only \"../input/\" directory\n",
    "# For example, running this (by clicking run or pressing Shift+Enter) will list all files under the input directory\n",
    "\n",
    "import os\n",
    "for dirname, _, filenames in os.walk('/kaggle/input'):\n",
    "    for filename in filenames:\n",
    "        print(os.path.join(dirname, filename))\n",
    "\n",
    "# You can write up to 20GB to the current directory (/kaggle/working/) that gets preserved as output when you create a version using \"Save & Run All\" \n",
    "# You can also write temporary files to /kaggle/temp/, but they won't be saved outside of the current session"
   ]
  },
  {
   "cell_type": "markdown",
   "id": "a76fea91",
   "metadata": {
    "papermill": {
     "duration": 0.005614,
     "end_time": "2024-04-30T11:58:53.208734",
     "exception": false,
     "start_time": "2024-04-30T11:58:53.203120",
     "status": "completed"
    },
    "tags": []
   },
   "source": [
    "# > ***Evaluation of Decision Tree Classifier Performance on Iris Dataset with Varying Test Sizes***"
   ]
  },
  {
   "cell_type": "code",
   "execution_count": 2,
   "id": "6d04038c",
   "metadata": {
    "execution": {
     "iopub.execute_input": "2024-04-30T11:58:53.221699Z",
     "iopub.status.busy": "2024-04-30T11:58:53.220829Z",
     "iopub.status.idle": "2024-04-30T11:58:55.463452Z",
     "shell.execute_reply": "2024-04-30T11:58:55.462025Z"
    },
    "papermill": {
     "duration": 2.253191,
     "end_time": "2024-04-30T11:58:55.467071",
     "exception": false,
     "start_time": "2024-04-30T11:58:53.213880",
     "status": "completed"
    },
    "tags": []
   },
   "outputs": [],
   "source": [
    "from sklearn.datasets import load_iris\n",
    "from sklearn.model_selection import train_test_split\n",
    "from sklearn import tree\n",
    "from sklearn.metrics.cluster import adjusted_rand_score\n",
    "from sklearn.metrics import precision_score\n",
    "from sklearn.metrics import f1_score\n",
    "from sklearn.metrics import confusion_matrix\n",
    "import matplotlib.pyplot as plt"
   ]
  },
  {
   "cell_type": "code",
   "execution_count": 3,
   "id": "8ee57e9b",
   "metadata": {
    "execution": {
     "iopub.execute_input": "2024-04-30T11:58:55.480625Z",
     "iopub.status.busy": "2024-04-30T11:58:55.479168Z",
     "iopub.status.idle": "2024-04-30T11:58:55.493422Z",
     "shell.execute_reply": "2024-04-30T11:58:55.491975Z"
    },
    "papermill": {
     "duration": 0.024928,
     "end_time": "2024-04-30T11:58:55.497172",
     "exception": false,
     "start_time": "2024-04-30T11:58:55.472244",
     "status": "completed"
    },
    "tags": []
   },
   "outputs": [],
   "source": [
    "iris = load_iris()\n",
    "# print(iris)"
   ]
  },
  {
   "cell_type": "code",
   "execution_count": 4,
   "id": "fd24e4b8",
   "metadata": {
    "execution": {
     "iopub.execute_input": "2024-04-30T11:58:55.510365Z",
     "iopub.status.busy": "2024-04-30T11:58:55.508716Z",
     "iopub.status.idle": "2024-04-30T11:58:55.516972Z",
     "shell.execute_reply": "2024-04-30T11:58:55.515455Z"
    },
    "papermill": {
     "duration": 0.017623,
     "end_time": "2024-04-30T11:58:55.519933",
     "exception": false,
     "start_time": "2024-04-30T11:58:55.502310",
     "status": "completed"
    },
    "tags": []
   },
   "outputs": [
    {
     "name": "stdout",
     "output_type": "stream",
     "text": [
      "(150, 4) 150\n"
     ]
    }
   ],
   "source": [
    "X, y = iris.data, iris.target\n",
    "\n",
    "print(X.shape, len(y))"
   ]
  },
  {
   "cell_type": "code",
   "execution_count": 5,
   "id": "8cf36826",
   "metadata": {
    "execution": {
     "iopub.execute_input": "2024-04-30T11:58:55.533694Z",
     "iopub.status.busy": "2024-04-30T11:58:55.532165Z",
     "iopub.status.idle": "2024-04-30T11:58:55.539099Z",
     "shell.execute_reply": "2024-04-30T11:58:55.537778Z"
    },
    "papermill": {
     "duration": 0.016792,
     "end_time": "2024-04-30T11:58:55.542056",
     "exception": false,
     "start_time": "2024-04-30T11:58:55.525264",
     "status": "completed"
    },
    "tags": []
   },
   "outputs": [],
   "source": [
    "clf = tree.DecisionTreeClassifier()\n",
    "\n",
    "aris = []   #adjusted rand index score for each test size\n",
    "precision_scores = []\n",
    "f1_scores = []\n",
    "j = [0.2, 0.3, 0.4, 0.5]"
   ]
  },
  {
   "cell_type": "code",
   "execution_count": 6,
   "id": "2503fccb",
   "metadata": {
    "execution": {
     "iopub.execute_input": "2024-04-30T11:58:55.555310Z",
     "iopub.status.busy": "2024-04-30T11:58:55.554833Z",
     "iopub.status.idle": "2024-04-30T11:58:55.640318Z",
     "shell.execute_reply": "2024-04-30T11:58:55.638936Z"
    },
    "papermill": {
     "duration": 0.09629,
     "end_time": "2024-04-30T11:58:55.643759",
     "exception": false,
     "start_time": "2024-04-30T11:58:55.547469",
     "status": "completed"
    },
    "tags": []
   },
   "outputs": [
    {
     "name": "stdout",
     "output_type": "stream",
     "text": [
      "(120, 4) (30, 4) 120 30\n",
      "[1 0 2 1 1 0 1 2 1 1 2 0 0 0 0 1 2 1 1 2 0 2 0 2 2 2 2 2 0 0] 30\n",
      "[1 0 2 1 1 0 1 2 1 1 2 0 0 0 0 1 2 1 1 2 0 2 0 2 2 2 2 2 0 0] 30\n",
      "ARI 1.0\n",
      "precision score 1.0\n",
      "f1 score 1.0\n",
      "confusion matrix: \n",
      " [[10  0  0]\n",
      " [ 0  9  0]\n",
      " [ 0  0 11]]\n",
      "*********************************************************\n",
      "\n",
      "(105, 4) (45, 4) 105 45\n",
      "[1 0 2 1 1 0 1 2 1 1 2 0 0 0 0 1 2 1 1 2 0 2 0 2 2 2 2 2 0 0 0 0 1 0 0 2 1\n",
      " 0 0 0 2 1 1 0 0] 45\n",
      "[1 0 2 1 1 0 1 2 1 1 2 0 0 0 0 1 2 1 1 2 0 2 0 2 2 2 2 2 0 0 0 0 1 0 0 2 1\n",
      " 0 0 0 2 1 1 0 0] 45\n",
      "ARI 1.0\n",
      "precision score 1.0\n",
      "f1 score 1.0\n",
      "confusion matrix: \n",
      " [[19  0  0]\n",
      " [ 0 13  0]\n",
      " [ 0  0 13]]\n",
      "*********************************************************\n",
      "\n",
      "(90, 4) (60, 4) 90 60\n",
      "[1 0 2 1 1 0 1 2 2 1 2 0 0 0 0 1 2 1 1 2 0 2 0 2 2 2 2 2 0 0 0 0 1 0 0 2 1\n",
      " 0 0 0 2 1 1 0 0 1 1 2 1 2 1 2 1 0 2 1 0 0 0 1] 60\n",
      "[1 0 2 1 1 0 1 2 1 1 2 0 0 0 0 1 2 1 1 2 0 2 0 2 2 2 2 2 0 0 0 0 1 0 0 2 1\n",
      " 0 0 0 2 1 1 0 0 1 2 2 1 2 1 2 1 0 2 1 0 0 0 1] 60\n",
      "ARI 0.9100036172880218\n",
      "precision score 0.9666666666666667\n",
      "f1 score 0.9666666666666667\n",
      "confusion matrix: \n",
      " [[23  0  0]\n",
      " [ 0 18  1]\n",
      " [ 0  1 17]]\n",
      "*********************************************************\n",
      "\n",
      "(75, 4) (75, 4) 75 75\n",
      "[1 0 2 1 1 0 1 2 2 1 2 0 0 0 0 1 2 1 1 2 0 2 0 2 2 2 2 2 0 0 0 0 1 0 0 2 1\n",
      " 0 0 0 2 1 1 0 0 1 1 2 1 2 1 2 1 0 2 1 0 0 0 2 2 0 0 0 1 0 1 2 0 1 2 0 2 2\n",
      " 2] 75\n",
      "[1 0 2 1 1 0 1 2 1 1 2 0 0 0 0 1 2 1 1 2 0 2 0 2 2 2 2 2 0 0 0 0 1 0 0 2 1\n",
      " 0 0 0 2 1 1 0 0 1 2 2 1 2 1 2 1 0 2 1 0 0 0 1 2 0 0 0 1 0 1 2 0 1 2 0 2 2\n",
      " 1] 75\n",
      "ARI 0.8629595792488703\n",
      "precision score 0.9489855072463769\n",
      "f1 score 0.9467676767676767\n",
      "confusion matrix: \n",
      " [[29  0  0]\n",
      " [ 0 20  1]\n",
      " [ 0  3 22]]\n",
      "*********************************************************\n",
      "\n"
     ]
    }
   ],
   "source": [
    "for i in j:\n",
    "    X_train, test_x, y_train, test_lab = train_test_split(X, y, test_size = i, random_state = 42)\n",
    "    print(X_train.shape, test_x.shape, len(y_train), len(test_lab))\n",
    "    \n",
    "    clg = clf.fit(X_train, y_train)\n",
    "    test_pred_deci_tree = clf.predict(test_x)\n",
    "    \n",
    "    print(test_pred_deci_tree, len(test_pred_deci_tree))\n",
    "    print(test_lab, len(test_lab))\n",
    "    \n",
    "    print(\"ARI\", adjusted_rand_score(test_pred_deci_tree, test_lab))\n",
    "    aris.append(adjusted_rand_score(test_pred_deci_tree, test_lab))\n",
    "    \n",
    "    print(\"precision score\", precision_score(test_pred_deci_tree, test_lab, average = \"weighted\"))\n",
    "    precision_scores.append(precision_score(test_pred_deci_tree, test_lab, average = \"weighted\"))\n",
    "    \n",
    "    print(\"f1 score\", f1_score(test_pred_deci_tree, test_lab, average = \"weighted\"))\n",
    "    f1_scores.append(f1_score(test_pred_deci_tree, test_lab, average = \"weighted\"))\n",
    "    \n",
    "    print(\"confusion matrix: \\n\", confusion_matrix(test_pred_deci_tree, test_lab, labels=[0, 1, 2]))\n",
    "    print(\"*********************************************************\")\n",
    "    print(\"\")"
   ]
  },
  {
   "cell_type": "code",
   "execution_count": 7,
   "id": "993c45dc",
   "metadata": {
    "execution": {
     "iopub.execute_input": "2024-04-30T11:58:55.656283Z",
     "iopub.status.busy": "2024-04-30T11:58:55.655832Z",
     "iopub.status.idle": "2024-04-30T11:58:55.662983Z",
     "shell.execute_reply": "2024-04-30T11:58:55.661581Z"
    },
    "papermill": {
     "duration": 0.017213,
     "end_time": "2024-04-30T11:58:55.666250",
     "exception": false,
     "start_time": "2024-04-30T11:58:55.649037",
     "status": "completed"
    },
    "tags": []
   },
   "outputs": [
    {
     "name": "stdout",
     "output_type": "stream",
     "text": [
      "[1.0, 1.0, 0.9100036172880218, 0.8629595792488703]\n",
      "[1.0, 1.0, 0.9666666666666667, 0.9489855072463769]\n",
      "[1.0, 1.0, 0.9666666666666667, 0.9467676767676767]\n"
     ]
    }
   ],
   "source": [
    "j1 = [\"0.2\", \"0.3\", \"0.4\", \"0.5\"]\n",
    "print(aris)\n",
    "print(precision_scores)\n",
    "print(f1_scores)"
   ]
  },
  {
   "cell_type": "code",
   "execution_count": 8,
   "id": "661afffb",
   "metadata": {
    "execution": {
     "iopub.execute_input": "2024-04-30T11:58:55.679863Z",
     "iopub.status.busy": "2024-04-30T11:58:55.679371Z",
     "iopub.status.idle": "2024-04-30T11:58:56.006094Z",
     "shell.execute_reply": "2024-04-30T11:58:56.004718Z"
    },
    "papermill": {
     "duration": 0.337004,
     "end_time": "2024-04-30T11:58:56.009124",
     "exception": false,
     "start_time": "2024-04-30T11:58:55.672120",
     "status": "completed"
    },
    "tags": []
   },
   "outputs": [
    {
     "data": {
      "image/png": "[encoded data removed]",
      "text/plain": [
       "<Figure size 640x480 with 1 Axes>"
      ]
     },
     "metadata": {},
     "output_type": "display_data"
    }
   ],
   "source": [
    "# plotting ari scores\n",
    "\n",
    "fig = plt.figure()\n",
    "plt.bar(j1, aris)\n",
    "plt.xlabel(\"Test Size\")\n",
    "plt.ylabel(\"ARI Scores\")\n",
    "plt.title(\"Adjusted Rand Index Score of different test size\")\n",
    "plt.show()"
   ]
  },
  {
   "cell_type": "code",
   "execution_count": 9,
   "id": "7ce23271",
   "metadata": {
    "execution": {
     "iopub.execute_input": "2024-04-30T11:58:56.023518Z",
     "iopub.status.busy": "2024-04-30T11:58:56.022769Z",
     "iopub.status.idle": "2024-04-30T11:58:56.294080Z",
     "shell.execute_reply": "2024-04-30T11:58:56.292592Z"
    },
    "papermill": {
     "duration": 0.281594,
     "end_time": "2024-04-30T11:58:56.296746",
     "exception": false,
     "start_time": "2024-04-30T11:58:56.015152",
     "status": "completed"
    },
    "tags": []
   },
   "outputs": [
    {
     "data": {
      "image/png": "[encoded data removed]",
      "text/plain": [
       "<Figure size 640x480 with 1 Axes>"
      ]
     },
     "metadata": {},
     "output_type": "display_data"
    }
   ],
   "source": [
    "# plotting precision scores\n",
    "\n",
    "fig = plt.figure()\n",
    "plt.bar(j1, precision_scores)\n",
    "plt.xlabel(\"Test Size\")\n",
    "plt.ylabel(\"precision scores\")\n",
    "plt.title(\"precision Scores of different test size\")\n",
    "plt.show()"
   ]
  },
  {
   "cell_type": "code",
   "execution_count": 10,
   "id": "cf1facda",
   "metadata": {
    "execution": {
     "iopub.execute_input": "2024-04-30T11:58:56.311926Z",
     "iopub.status.busy": "2024-04-30T11:58:56.311466Z",
     "iopub.status.idle": "2024-04-30T11:58:56.579053Z",
     "shell.execute_reply": "2024-04-30T11:58:56.577261Z"
    },
    "papermill": {
     "duration": 0.278953,
     "end_time": "2024-04-30T11:58:56.582127",
     "exception": false,
     "start_time": "2024-04-30T11:58:56.303174",
     "status": "completed"
    },
    "tags": []
   },
   "outputs": [
    {
     "data": {
      "image/png": "[encoded data removed]",
      "text/plain": [
       "<Figure size 640x480 with 1 Axes>"
      ]
     },
     "metadata": {},
     "output_type": "display_data"
    }
   ],
   "source": [
    "# plotting f1 scores\n",
    "\n",
    "fig = plt.figure()\n",
    "plt.bar(j1, f1_scores)\n",
    "plt.xlabel(\"Test Size\")\n",
    "plt.ylabel(\"f1 scores\")\n",
    "plt.title(\"f1 Scores of different test size\")\n",
    "plt.show()"
   ]
  }
 ],
 "metadata": {
  "kaggle": {
   "accelerator": "none",
   "dataSources": [
    {
     "datasetId": 2354152,
     "sourceId": 3966491,
     "sourceType": "datasetVersion"
    }
   ],
   "dockerImageVersionId": 30698,
   "isGpuEnabled": false,
   "isInternetEnabled": true,
   "language": "python",
   "sourceType": "notebook"
  },
  "kernelspec": {
   "display_name": "Python 3",
   "language": "python",
   "name": "python3"
  },
  "language_info": {
   "codemirror_mode": {
    "name": "ipython",
    "version": 3
   },
   "file_extension": ".py",
   "mimetype": "text/x-python",
   "name": "python",
   "nbconvert_exporter": "python",
   "pygments_lexer": "ipython3",
   "version": "3.10.13"
  },
  "papermill": {
   "default_parameters": {},
   "duration": 9.01484,
   "end_time": "2024-04-30T11:58:57.416236",
   "environment_variables": {},
   "exception": null,
   "input_path": "__notebook__.ipynb",
   "output_path": "__notebook__.ipynb",
   "parameters": {},
   "start_time": "2024-04-30T11:58:48.401396",
   "version": "2.5.0"
  }
 },
 "nbformat": 4,
 "nbformat_minor": 5
}
