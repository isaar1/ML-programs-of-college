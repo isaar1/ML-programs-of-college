{
 "cells": [
  {
   "cell_type": "code",
   "execution_count": 1,
   "id": "2d2b4b8f",
   "metadata": {
    "_cell_guid": "b1076dfc-b9ad-4769-8c92-a6c4dae69d19",
    "_uuid": "8f2839f25d086af736a60e9eeb907d3b93b6e0e5",
    "execution": {
     "iopub.execute_input": "2024-04-30T10:54:43.474510Z",
     "iopub.status.busy": "2024-04-30T10:54:43.474029Z",
     "iopub.status.idle": "2024-04-30T10:54:44.498581Z",
     "shell.execute_reply": "2024-04-30T10:54:44.497443Z"
    },
    "papermill": {
     "duration": 1.034589,
     "end_time": "2024-04-30T10:54:44.502241",
     "exception": false,
     "start_time": "2024-04-30T10:54:43.467652",
     "status": "completed"
    },
    "tags": []
   },
   "outputs": [],
   "source": [
    "# This Python 3 environment comes with many helpful analytics libraries installed\n",
    "# It is defined by the kaggle/python Docker image: https://github.com/kaggle/docker-python\n",
    "# For example, here's several helpful packages to load\n",
    "\n",
    "import numpy as np # linear algebra\n",
    "import pandas as pd # data processing, CSV file I/O (e.g. pd.read_csv)\n",
    "\n",
    "# Input data files are available in the read-only \"../input/\" directory\n",
    "# For example, running this (by clicking run or pressing Shift+Enter) will list all files under the input directory\n",
    "\n",
    "import os\n",
    "for dirname, _, filenames in os.walk('/kaggle/input'):\n",
    "    for filename in filenames:\n",
    "        print(os.path.join(dirname, filename))\n",
    "\n",
    "# You can write up to 20GB to the current directory (/kaggle/working/) that gets preserved as output when you create a version using \"Save & Run All\" \n",
    "# You can also write temporary files to /kaggle/temp/, but they won't be saved outside of the current session"
   ]
  },
  {
   "cell_type": "markdown",
   "id": "ead0fc4d",
   "metadata": {
    "papermill": {
     "duration": 0.003609,
     "end_time": "2024-04-30T10:54:44.510424",
     "exception": false,
     "start_time": "2024-04-30T10:54:44.506815",
     "status": "completed"
    },
    "tags": []
   },
   "source": [
    "# > ***Exploring Test Size Impact on Decision Tree Performance Using Adjusted Rand Index***"
   ]
  },
  {
   "cell_type": "code",
   "execution_count": 2,
   "id": "edc48ce3",
   "metadata": {
    "execution": {
     "iopub.execute_input": "2024-04-30T10:54:44.520251Z",
     "iopub.status.busy": "2024-04-30T10:54:44.519691Z",
     "iopub.status.idle": "2024-04-30T10:54:46.500006Z",
     "shell.execute_reply": "2024-04-30T10:54:46.498556Z"
    },
    "papermill": {
     "duration": 1.989053,
     "end_time": "2024-04-30T10:54:46.503410",
     "exception": false,
     "start_time": "2024-04-30T10:54:44.514357",
     "status": "completed"
    },
    "tags": []
   },
   "outputs": [],
   "source": [
    "from sklearn.datasets import load_iris\n",
    "from sklearn.model_selection import train_test_split\n",
    "from sklearn import tree\n",
    "from sklearn.metrics.cluster import adjusted_rand_score\n",
    "import matplotlib.pyplot as plt"
   ]
  },
  {
   "cell_type": "code",
   "execution_count": 3,
   "id": "4c5e2290",
   "metadata": {
    "execution": {
     "iopub.execute_input": "2024-04-30T10:54:46.513410Z",
     "iopub.status.busy": "2024-04-30T10:54:46.512846Z",
     "iopub.status.idle": "2024-04-30T10:54:46.526861Z",
     "shell.execute_reply": "2024-04-30T10:54:46.525512Z"
    },
    "papermill": {
     "duration": 0.022648,
     "end_time": "2024-04-30T10:54:46.530017",
     "exception": false,
     "start_time": "2024-04-30T10:54:46.507369",
     "status": "completed"
    },
    "tags": []
   },
   "outputs": [],
   "source": [
    "iris = load_iris()\n",
    "# print(iris)"
   ]
  },
  {
   "cell_type": "code",
   "execution_count": 4,
   "id": "deaf9861",
   "metadata": {
    "execution": {
     "iopub.execute_input": "2024-04-30T10:54:46.539871Z",
     "iopub.status.busy": "2024-04-30T10:54:46.539381Z",
     "iopub.status.idle": "2024-04-30T10:54:46.546113Z",
     "shell.execute_reply": "2024-04-30T10:54:46.544930Z"
    },
    "papermill": {
     "duration": 0.014829,
     "end_time": "2024-04-30T10:54:46.548844",
     "exception": false,
     "start_time": "2024-04-30T10:54:46.534015",
     "status": "completed"
    },
    "tags": []
   },
   "outputs": [
    {
     "name": "stdout",
     "output_type": "stream",
     "text": [
      "(150, 4) 150\n"
     ]
    }
   ],
   "source": [
    "X, y = iris.data, iris.target\n",
    "\n",
    "print(X.shape, len(y))"
   ]
  },
  {
   "cell_type": "code",
   "execution_count": 5,
   "id": "f98924e1",
   "metadata": {
    "execution": {
     "iopub.execute_input": "2024-04-30T10:54:46.558844Z",
     "iopub.status.busy": "2024-04-30T10:54:46.558287Z",
     "iopub.status.idle": "2024-04-30T10:54:46.565096Z",
     "shell.execute_reply": "2024-04-30T10:54:46.563590Z"
    },
    "papermill": {
     "duration": 0.015355,
     "end_time": "2024-04-30T10:54:46.568015",
     "exception": false,
     "start_time": "2024-04-30T10:54:46.552660",
     "status": "completed"
    },
    "tags": []
   },
   "outputs": [],
   "source": [
    "clf = tree.DecisionTreeClassifier()\n",
    "\n",
    "j = [0.2,0.3,0.4,0.5]\n",
    "j1 = [\"0.2\",\"0.3\",\"0.4\",\"0.5\"]\n",
    "l2 = []\n"
   ]
  },
  {
   "cell_type": "code",
   "execution_count": 6,
   "id": "5ae5d6fb",
   "metadata": {
    "execution": {
     "iopub.execute_input": "2024-04-30T10:54:46.578320Z",
     "iopub.status.busy": "2024-04-30T10:54:46.577916Z",
     "iopub.status.idle": "2024-04-30T10:54:46.625468Z",
     "shell.execute_reply": "2024-04-30T10:54:46.623691Z"
    },
    "papermill": {
     "duration": 0.05664,
     "end_time": "2024-04-30T10:54:46.628730",
     "exception": false,
     "start_time": "2024-04-30T10:54:46.572090",
     "status": "completed"
    },
    "tags": []
   },
   "outputs": [
    {
     "name": "stdout",
     "output_type": "stream",
     "text": [
      "(120, 4) (30, 4)\n",
      "ARI for the iteration 1 for test size of 0.2 is:  1.0\n",
      "[1.0]\n",
      "\n",
      "(105, 4) (45, 4)\n",
      "ARI for the iteration 1 for test size of 0.3 is:  1.0\n",
      "[1.0, 1.0]\n",
      "\n",
      "(90, 4) (60, 4)\n",
      "ARI for the iteration 1 for test size of 0.4 is:  0.9100036172880218\n",
      "[1.0, 1.0, 0.9100036172880218]\n",
      "\n",
      "(75, 4) (75, 4)\n",
      "ARI for the iteration 1 for test size of 0.5 is:  0.8326377004486236\n",
      "[1.0, 1.0, 0.9100036172880218, 0.8326377004486236]\n",
      "\n"
     ]
    }
   ],
   "source": [
    "for i in j:\n",
    "    X_train, test_x, y_train, y_test = train_test_split(X, y, test_size = i, random_state = 42)\n",
    "    print(X_train.shape, test_x.shape)\n",
    "    \n",
    "    clf = clf.fit(X_train, y_train)\n",
    "    y_pred = clf.predict(test_x)\n",
    "    \n",
    "    l2.append(adjusted_rand_score(y_test, y_pred), )\n",
    "    \n",
    "    print(\"ARI for the iteration\",1 , \"for test size of\", i, \"is: \", adjusted_rand_score(y_test,y_pred))\n",
    "    print(l2)\n",
    "    print(\"\")"
   ]
  },
  {
   "cell_type": "code",
   "execution_count": 7,
   "id": "c43a2f2b",
   "metadata": {
    "execution": {
     "iopub.execute_input": "2024-04-30T10:54:46.639128Z",
     "iopub.status.busy": "2024-04-30T10:54:46.638720Z",
     "iopub.status.idle": "2024-04-30T10:54:46.920025Z",
     "shell.execute_reply": "2024-04-30T10:54:46.918538Z"
    },
    "papermill": {
     "duration": 0.289863,
     "end_time": "2024-04-30T10:54:46.922979",
     "exception": false,
     "start_time": "2024-04-30T10:54:46.633116",
     "status": "completed"
    },
    "tags": []
   },
   "outputs": [
    {
     "data": {
      "text/plain": [
       "<function matplotlib.pyplot.show(close=None, block=None)>"
      ]
     },
     "execution_count": 7,
     "metadata": {},
     "output_type": "execute_result"
    },
    {
     "data": {
      "image/png": "[encoded data removed]",
      "text/plain": [
       "<Figure size 640x480 with 1 Axes>"
      ]
     },
     "metadata": {},
     "output_type": "display_data"
    }
   ],
   "source": [
    "fig = plt.figure()\n",
    "plt.bar(j1,l2)\n",
    "plt.title(\"Adjusted Rand Index Scores for different Test Sizes\")\n",
    "plt.xlabel(\"Test Size\")\n",
    "plt.ylabel(\"Adjusted Rand Score\")\n",
    "plt.show"
   ]
  }
 ],
 "metadata": {
  "kaggle": {
   "accelerator": "none",
   "dataSources": [],
   "dockerImageVersionId": 30698,
   "isGpuEnabled": false,
   "isInternetEnabled": true,
   "language": "python",
   "sourceType": "notebook"
  },
  "kernelspec": {
   "display_name": "Python 3",
   "language": "python",
   "name": "python3"
  },
  "language_info": {
   "codemirror_mode": {
    "name": "ipython",
    "version": 3
   },
   "file_extension": ".py",
   "mimetype": "text/x-python",
   "name": "python",
   "nbconvert_exporter": "python",
   "pygments_lexer": "ipython3",
   "version": "3.10.13"
  },
  "papermill": {
   "default_parameters": {},
   "duration": 7.837883,
   "end_time": "2024-04-30T10:54:47.857332",
   "environment_variables": {},
   "exception": null,
   "input_path": "__notebook__.ipynb",
   "output_path": "__notebook__.ipynb",
   "parameters": {},
   "start_time": "2024-04-30T10:54:40.019449",
   "version": "2.5.0"
  }
 },
 "nbformat": 4,
 "nbformat_minor": 5
}
