{
 "cells": [
  {
   "cell_type": "code",
   "execution_count": 1,
   "id": "1b3cb8a7",
   "metadata": {
    "_cell_guid": "b1076dfc-b9ad-4769-8c92-a6c4dae69d19",
    "_uuid": "8f2839f25d086af736a60e9eeb907d3b93b6e0e5",
    "execution": {
     "iopub.execute_input": "2024-04-30T12:01:10.892028Z",
     "iopub.status.busy": "2024-04-30T12:01:10.891570Z",
     "iopub.status.idle": "2024-04-30T12:01:11.673626Z",
     "shell.execute_reply": "2024-04-30T12:01:11.672263Z"
    },
    "papermill": {
     "duration": 0.790229,
     "end_time": "2024-04-30T12:01:11.676449",
     "exception": false,
     "start_time": "2024-04-30T12:01:10.886220",
     "status": "completed"
    },
    "tags": []
   },
   "outputs": [
    {
     "name": "stdout",
     "output_type": "stream",
     "text": [
      "/kaggle/input/students-performance/StudentsPerformance_with_headers.csv\n",
      "/kaggle/input/students-performance/highereducationstudentsperformanceevaluation/DATA (1).csv\n"
     ]
    }
   ],
   "source": [
    "# This Python 3 environment comes with many helpful analytics libraries installed\n",
    "# It is defined by the kaggle/python Docker image: https://github.com/kaggle/docker-python\n",
    "# For example, here's several helpful packages to load\n",
    "\n",
    "import numpy as np # linear algebra\n",
    "import pandas as pd # data processing, CSV file I/O (e.g. pd.read_csv)\n",
    "\n",
    "# Input data files are available in the read-only \"../input/\" directory\n",
    "# For example, running this (by clicking run or pressing Shift+Enter) will list all files under the input directory\n",
    "\n",
    "import os\n",
    "for dirname, _, filenames in os.walk('/kaggle/input'):\n",
    "    for filename in filenames:\n",
    "        print(os.path.join(dirname, filename))\n",
    "\n",
    "# You can write up to 20GB to the current directory (/kaggle/working/) that gets preserved as output when you create a version using \"Save & Run All\" \n",
    "# You can also write temporary files to /kaggle/temp/, but they won't be saved outside of the current session"
   ]
  },
  {
   "cell_type": "markdown",
   "id": "391c9ac8",
   "metadata": {
    "papermill": {
     "duration": 0.00313,
     "end_time": "2024-04-30T12:01:11.684008",
     "exception": false,
     "start_time": "2024-04-30T12:01:11.680878",
     "status": "completed"
    },
    "tags": []
   },
   "source": [
    "# > ***Evaluation of Decision Tree Classifier Performance on Sample Dataset with Varying Test Sizes***"
   ]
  },
  {
   "cell_type": "code",
   "execution_count": 2,
   "id": "64ca0cfb",
   "metadata": {
    "execution": {
     "iopub.execute_input": "2024-04-30T12:01:11.693525Z",
     "iopub.status.busy": "2024-04-30T12:01:11.692328Z",
     "iopub.status.idle": "2024-04-30T12:01:12.908676Z",
     "shell.execute_reply": "2024-04-30T12:01:12.907570Z"
    },
    "papermill": {
     "duration": 1.22382,
     "end_time": "2024-04-30T12:01:12.911521",
     "exception": false,
     "start_time": "2024-04-30T12:01:11.687701",
     "status": "completed"
    },
    "tags": []
   },
   "outputs": [],
   "source": [
    "from sklearn.model_selection import train_test_split\n",
    "from sklearn import tree\n",
    "from sklearn.metrics.cluster import adjusted_rand_score\n",
    "from sklearn.metrics import f1_score\n",
    "from sklearn.metrics import precision_score\n",
    "from sklearn.metrics import confusion_matrix\n",
    "import pandas as pd\n",
    "import numpy as np\n",
    "import matplotlib.pyplot as plt"
   ]
  },
  {
   "cell_type": "code",
   "execution_count": 3,
   "id": "4f53b8a8",
   "metadata": {
    "execution": {
     "iopub.execute_input": "2024-04-30T12:01:12.924019Z",
     "iopub.status.busy": "2024-04-30T12:01:12.923607Z",
     "iopub.status.idle": "2024-04-30T12:01:12.972103Z",
     "shell.execute_reply": "2024-04-30T12:01:12.971056Z"
    },
    "papermill": {
     "duration": 0.059591,
     "end_time": "2024-04-30T12:01:12.974600",
     "exception": false,
     "start_time": "2024-04-30T12:01:12.915009",
     "status": "completed"
    },
    "tags": []
   },
   "outputs": [
    {
     "data": {
      "text/html": [
       "<div>\n",
       "<style scoped>\n",
       "    .dataframe tbody tr th:only-of-type {\n",
       "        vertical-align: middle;\n",
       "    }\n",
       "\n",
       "    .dataframe tbody tr th {\n",
       "        vertical-align: top;\n",
       "    }\n",
       "\n",
       "    .dataframe thead th {\n",
       "        text-align: right;\n",
       "    }\n",
       "</style>\n",
       "<table border=\"1\" class=\"dataframe\">\n",
       "  <thead>\n",
       "    <tr style=\"text-align: right;\">\n",
       "      <th></th>\n",
       "      <th>1</th>\n",
       "      <th>2</th>\n",
       "      <th>3</th>\n",
       "      <th>4</th>\n",
       "      <th>5</th>\n",
       "      <th>6</th>\n",
       "      <th>7</th>\n",
       "      <th>8</th>\n",
       "      <th>9</th>\n",
       "      <th>10</th>\n",
       "      <th>...</th>\n",
       "      <th>23</th>\n",
       "      <th>24</th>\n",
       "      <th>25</th>\n",
       "      <th>26</th>\n",
       "      <th>27</th>\n",
       "      <th>28</th>\n",
       "      <th>29</th>\n",
       "      <th>30</th>\n",
       "      <th>COURSE ID</th>\n",
       "      <th>GRADE</th>\n",
       "    </tr>\n",
       "  </thead>\n",
       "  <tbody>\n",
       "    <tr>\n",
       "      <th>66</th>\n",
       "      <td>2</td>\n",
       "      <td>2</td>\n",
       "      <td>2</td>\n",
       "      <td>3</td>\n",
       "      <td>2</td>\n",
       "      <td>2</td>\n",
       "      <td>1</td>\n",
       "      <td>1</td>\n",
       "      <td>1</td>\n",
       "      <td>1</td>\n",
       "      <td>...</td>\n",
       "      <td>1</td>\n",
       "      <td>1</td>\n",
       "      <td>3</td>\n",
       "      <td>2</td>\n",
       "      <td>2</td>\n",
       "      <td>3</td>\n",
       "      <td>5</td>\n",
       "      <td>4</td>\n",
       "      <td>2</td>\n",
       "      <td>5</td>\n",
       "    </tr>\n",
       "    <tr>\n",
       "      <th>96</th>\n",
       "      <td>1</td>\n",
       "      <td>2</td>\n",
       "      <td>2</td>\n",
       "      <td>4</td>\n",
       "      <td>2</td>\n",
       "      <td>1</td>\n",
       "      <td>1</td>\n",
       "      <td>1</td>\n",
       "      <td>2</td>\n",
       "      <td>3</td>\n",
       "      <td>...</td>\n",
       "      <td>1</td>\n",
       "      <td>1</td>\n",
       "      <td>3</td>\n",
       "      <td>2</td>\n",
       "      <td>3</td>\n",
       "      <td>2</td>\n",
       "      <td>2</td>\n",
       "      <td>3</td>\n",
       "      <td>7</td>\n",
       "      <td>7</td>\n",
       "    </tr>\n",
       "    <tr>\n",
       "      <th>69</th>\n",
       "      <td>2</td>\n",
       "      <td>1</td>\n",
       "      <td>2</td>\n",
       "      <td>4</td>\n",
       "      <td>2</td>\n",
       "      <td>2</td>\n",
       "      <td>1</td>\n",
       "      <td>1</td>\n",
       "      <td>1</td>\n",
       "      <td>1</td>\n",
       "      <td>...</td>\n",
       "      <td>2</td>\n",
       "      <td>1</td>\n",
       "      <td>3</td>\n",
       "      <td>2</td>\n",
       "      <td>3</td>\n",
       "      <td>1</td>\n",
       "      <td>3</td>\n",
       "      <td>2</td>\n",
       "      <td>3</td>\n",
       "      <td>5</td>\n",
       "    </tr>\n",
       "    <tr>\n",
       "      <th>17</th>\n",
       "      <td>2</td>\n",
       "      <td>2</td>\n",
       "      <td>2</td>\n",
       "      <td>3</td>\n",
       "      <td>2</td>\n",
       "      <td>2</td>\n",
       "      <td>2</td>\n",
       "      <td>1</td>\n",
       "      <td>1</td>\n",
       "      <td>1</td>\n",
       "      <td>...</td>\n",
       "      <td>1</td>\n",
       "      <td>1</td>\n",
       "      <td>2</td>\n",
       "      <td>2</td>\n",
       "      <td>2</td>\n",
       "      <td>2</td>\n",
       "      <td>2</td>\n",
       "      <td>2</td>\n",
       "      <td>1</td>\n",
       "      <td>2</td>\n",
       "    </tr>\n",
       "    <tr>\n",
       "      <th>119</th>\n",
       "      <td>2</td>\n",
       "      <td>1</td>\n",
       "      <td>2</td>\n",
       "      <td>4</td>\n",
       "      <td>2</td>\n",
       "      <td>1</td>\n",
       "      <td>2</td>\n",
       "      <td>1</td>\n",
       "      <td>1</td>\n",
       "      <td>2</td>\n",
       "      <td>...</td>\n",
       "      <td>1</td>\n",
       "      <td>2</td>\n",
       "      <td>2</td>\n",
       "      <td>2</td>\n",
       "      <td>3</td>\n",
       "      <td>1</td>\n",
       "      <td>3</td>\n",
       "      <td>3</td>\n",
       "      <td>8</td>\n",
       "      <td>2</td>\n",
       "    </tr>\n",
       "  </tbody>\n",
       "</table>\n",
       "<p>5 rows × 32 columns</p>\n",
       "</div>"
      ],
      "text/plain": [
       "     1  2  3  4  5  6  7  8  9  10  ...  23  24  25  26  27  28  29  30  \\\n",
       "66   2  2  2  3  2  2  1  1  1   1  ...   1   1   3   2   2   3   5   4   \n",
       "96   1  2  2  4  2  1  1  1  2   3  ...   1   1   3   2   3   2   2   3   \n",
       "69   2  1  2  4  2  2  1  1  1   1  ...   2   1   3   2   3   1   3   2   \n",
       "17   2  2  2  3  2  2  2  1  1   1  ...   1   1   2   2   2   2   2   2   \n",
       "119  2  1  2  4  2  1  2  1  1   2  ...   1   2   2   2   3   1   3   3   \n",
       "\n",
       "     COURSE ID  GRADE  \n",
       "66           2      5  \n",
       "96           7      7  \n",
       "69           3      5  \n",
       "17           1      2  \n",
       "119          8      2  \n",
       "\n",
       "[5 rows x 32 columns]"
      ]
     },
     "execution_count": 3,
     "metadata": {},
     "output_type": "execute_result"
    }
   ],
   "source": [
    "file = pd.read_csv(\"/kaggle/input/students-performance/highereducationstudentsperformanceevaluation/DATA (1).csv\")\n",
    "file.drop(\"STUDENT ID\",axis=1,inplace=True)\n",
    "file.sample(5)"
   ]
  },
  {
   "cell_type": "code",
   "execution_count": 4,
   "id": "9de584f9",
   "metadata": {
    "execution": {
     "iopub.execute_input": "2024-04-30T12:01:12.984611Z",
     "iopub.status.busy": "2024-04-30T12:01:12.983973Z",
     "iopub.status.idle": "2024-04-30T12:01:12.992232Z",
     "shell.execute_reply": "2024-04-30T12:01:12.990774Z"
    },
    "papermill": {
     "duration": 0.016049,
     "end_time": "2024-04-30T12:01:12.994560",
     "exception": false,
     "start_time": "2024-04-30T12:01:12.978511",
     "status": "completed"
    },
    "tags": []
   },
   "outputs": [
    {
     "name": "stdout",
     "output_type": "stream",
     "text": [
      "(145, 31) 145\n"
     ]
    }
   ],
   "source": [
    "f = np.array(file)\n",
    "X = file.iloc[:,:-1]\n",
    "y = list(file.iloc[:,-1])\n",
    "\n",
    "print(X.shape, len(y))"
   ]
  },
  {
   "cell_type": "code",
   "execution_count": 5,
   "id": "be374eaa",
   "metadata": {
    "execution": {
     "iopub.execute_input": "2024-04-30T12:01:13.004090Z",
     "iopub.status.busy": "2024-04-30T12:01:13.003664Z",
     "iopub.status.idle": "2024-04-30T12:01:13.009102Z",
     "shell.execute_reply": "2024-04-30T12:01:13.008036Z"
    },
    "papermill": {
     "duration": 0.012743,
     "end_time": "2024-04-30T12:01:13.011347",
     "exception": false,
     "start_time": "2024-04-30T12:01:12.998604",
     "status": "completed"
    },
    "tags": []
   },
   "outputs": [],
   "source": [
    "clf = tree.DecisionTreeClassifier()\n",
    "\n",
    "aris = []\n",
    "precision_scores = []\n",
    "f1_scores = []\n",
    "j = [0.2,0.3,0.4,0.5]"
   ]
  },
  {
   "cell_type": "code",
   "execution_count": 6,
   "id": "eff3921c",
   "metadata": {
    "execution": {
     "iopub.execute_input": "2024-04-30T12:01:13.020654Z",
     "iopub.status.busy": "2024-04-30T12:01:13.020275Z",
     "iopub.status.idle": "2024-04-30T12:01:13.175524Z",
     "shell.execute_reply": "2024-04-30T12:01:13.174272Z"
    },
    "papermill": {
     "duration": 0.16311,
     "end_time": "2024-04-30T12:01:13.178275",
     "exception": false,
     "start_time": "2024-04-30T12:01:13.015165",
     "status": "completed"
    },
    "tags": []
   },
   "outputs": [
    {
     "name": "stdout",
     "output_type": "stream",
     "text": [
      "(116, 31) (29, 31) 116 29\n",
      "[7 2 3 1 2 1 3 3 6 1 5 3 1 3 7 5 2 4 6 4 4 1 2 3 1 2 1 6 1] 29\n",
      "[5, 5, 1, 3, 1, 1, 3, 6, 7, 2, 0, 3, 0, 4, 6, 2, 2, 3, 6, 7, 6, 0, 0, 5, 3, 3, 4, 4, 2] 29\n",
      "ARI -0.054032127210773974\n",
      "precision score:  0.22988505747126434\n",
      "f1 score:  0.1869930835448077\n",
      "confusion matrix: \n",
      " [[0 0 0]\n",
      " [2 1 2]\n",
      " [1 1 1]]\n",
      "*****************************************************************\n",
      "\n",
      "(101, 31) (44, 31) 101 44\n",
      "[6 2 1 1 2 1 1 3 6 3 2 3 1 3 5 2 3 1 7 6 5 1 1 3 5 1 5 6 5 1 2 1 1 1 4 2 2\n",
      " 2 2 7 1 7 1 1] 44\n",
      "[5, 5, 1, 3, 1, 1, 3, 6, 7, 2, 0, 3, 0, 4, 6, 2, 2, 3, 6, 7, 6, 0, 0, 5, 3, 3, 4, 4, 2, 0, 1, 1, 1, 2, 1, 2, 1, 2, 1, 7, 2, 6, 2, 1] 44\n",
      "ARI 0.09739310950536947\n",
      "precision score:  0.29545454545454547\n",
      "f1 score:  0.2534965034965035\n",
      "confusion matrix: \n",
      " [[0 0 0]\n",
      " [4 5 3]\n",
      " [1 4 3]]\n",
      "*****************************************************************\n",
      "\n",
      "(87, 31) (58, 31) 87 58\n",
      "[7 2 2 2 1 2 0 3 6 3 1 4 0 3 5 4 2 5 7 7 6 0 1 5 1 3 1 7 2 1 2 5 0 1 1 1 3\n",
      " 1 1 7 1 7 1 3 5 4 2 7 5 5 4 4 6 5 4 7 5 3] 58\n",
      "[5, 5, 1, 3, 1, 1, 3, 6, 7, 2, 0, 3, 0, 4, 6, 2, 2, 3, 6, 7, 6, 0, 0, 5, 3, 3, 4, 4, 2, 0, 1, 1, 1, 2, 1, 2, 1, 2, 1, 7, 2, 6, 2, 1, 2, 3, 1, 4, 2, 3, 1, 4, 5, 1, 2, 7, 1, 5] 58\n",
      "ARI 0.0360428149513723\n",
      "precision score:  0.2792077175697866\n",
      "f1 score:  0.24701074787281685\n",
      "confusion matrix: \n",
      " [[2 1 0]\n",
      " [3 3 5]\n",
      " [0 4 2]]\n",
      "*****************************************************************\n",
      "\n",
      "(72, 31) (73, 31) 72 73\n",
      "[7 1 1 2 2 3 3 6 3 2 1 1 3 6 5 5 0 5 7 3 6 3 2 5 1 2 1 7 1 1 2 5 3 3 1 2 3\n",
      " 1 1 7 1 7 2 2 2 1 2 7 2 5 1 6 7 5 2 7 5 2 2 1 3 1 5 5 7 2 1 3 6 2 6 3 1] 73\n",
      "[5, 5, 1, 3, 1, 1, 3, 6, 7, 2, 0, 3, 0, 4, 6, 2, 2, 3, 6, 7, 6, 0, 0, 5, 3, 3, 4, 4, 2, 0, 1, 1, 1, 2, 1, 2, 1, 2, 1, 7, 2, 6, 2, 1, 2, 3, 1, 4, 2, 3, 1, 4, 5, 1, 2, 7, 1, 5, 3, 3, 3, 1, 3, 5, 6, 3, 2, 7, 4, 3, 5, 2, 5] 73\n",
      "ARI 0.05316496420815572\n",
      "precision score:  0.3164383561643836\n",
      "f1 score:  0.2832191130909646\n",
      "confusion matrix: \n",
      " [[0 0 1]\n",
      " [2 5 4]\n",
      " [1 4 6]]\n",
      "*****************************************************************\n",
      "\n"
     ]
    }
   ],
   "source": [
    "for i in j:\n",
    "    X_train, test_x, y_train, test_lab = train_test_split(X, y, test_size = i, random_state = 42)\n",
    "    print(X_train.shape, test_x.shape, len(y_train), len(test_lab))\n",
    "    \n",
    "    clf = clf.fit(X_train, y_train)\n",
    "    test_pred_deci_tree = clf.predict(test_x)\n",
    "    \n",
    "    print(test_pred_deci_tree, len(test_pred_deci_tree))\n",
    "    print(test_lab, len(test_lab))\n",
    "    \n",
    "    print(\"ARI\", adjusted_rand_score(test_pred_deci_tree, test_lab))\n",
    "    aris.append(adjusted_rand_score(test_pred_deci_tree, test_lab))\n",
    "    \n",
    "    print(\"precision score: \", precision_score(test_pred_deci_tree, test_lab, average=\"weighted\", zero_division=1))\n",
    "    precision_scores.append(precision_score(test_pred_deci_tree, test_lab, average=\"weighted\", zero_division=1))\n",
    "    \n",
    "    print(\"f1 score: \", f1_score(test_pred_deci_tree, test_lab, average=\"weighted\", zero_division=1))\n",
    "    f1_scores.append(f1_score(test_pred_deci_tree, test_lab, average=\"weighted\", zero_division=1))\n",
    "    \n",
    "    print(\"confusion matrix: \\n\", confusion_matrix(test_pred_deci_tree, test_lab, labels=[0,1,2]))\n",
    "    print(\"*****************************************************************\")\n",
    "    print(\"\")"
   ]
  },
  {
   "cell_type": "code",
   "execution_count": 7,
   "id": "94c604ba",
   "metadata": {
    "execution": {
     "iopub.execute_input": "2024-04-30T12:01:13.187556Z",
     "iopub.status.busy": "2024-04-30T12:01:13.187191Z",
     "iopub.status.idle": "2024-04-30T12:01:13.192232Z",
     "shell.execute_reply": "2024-04-30T12:01:13.191224Z"
    },
    "papermill": {
     "duration": 0.012674,
     "end_time": "2024-04-30T12:01:13.194930",
     "exception": false,
     "start_time": "2024-04-30T12:01:13.182256",
     "status": "completed"
    },
    "tags": []
   },
   "outputs": [
    {
     "name": "stdout",
     "output_type": "stream",
     "text": [
      "[-0.054032127210773974, 0.09739310950536947, 0.0360428149513723, 0.05316496420815572]\n",
      "[0.22988505747126434, 0.29545454545454547, 0.2792077175697866, 0.3164383561643836]\n",
      "[0.1869930835448077, 0.2534965034965035, 0.24701074787281685, 0.2832191130909646]\n"
     ]
    }
   ],
   "source": [
    "j1 = [\"0.2\",\"0.3\",\"0.4\",\"0.5\"]\n",
    "print(aris)\n",
    "print(precision_scores)\n",
    "print(f1_scores)"
   ]
  },
  {
   "cell_type": "code",
   "execution_count": 8,
   "id": "f5f81b59",
   "metadata": {
    "execution": {
     "iopub.execute_input": "2024-04-30T12:01:13.204875Z",
     "iopub.status.busy": "2024-04-30T12:01:13.203866Z",
     "iopub.status.idle": "2024-04-30T12:01:13.453421Z",
     "shell.execute_reply": "2024-04-30T12:01:13.452386Z"
    },
    "papermill": {
     "duration": 0.257084,
     "end_time": "2024-04-30T12:01:13.455899",
     "exception": false,
     "start_time": "2024-04-30T12:01:13.198815",
     "status": "completed"
    },
    "tags": []
   },
   "outputs": [
    {
     "data": {
      "image/png": "[encoded data removed]",
      "text/plain": [
       "<Figure size 640x480 with 1 Axes>"
      ]
     },
     "metadata": {},
     "output_type": "display_data"
    }
   ],
   "source": [
    "# plotting precision scores\n",
    "\n",
    "fig = plt.figure()\n",
    "plt.bar(j1, precision_scores)\n",
    "plt.xlabel(\"Test Size\")\n",
    "plt.ylabel(\"precision scores\")\n",
    "plt.title(\"precision scores for different test size\")\n",
    "plt.show()"
   ]
  },
  {
   "cell_type": "code",
   "execution_count": 9,
   "id": "afabbcc3",
   "metadata": {
    "execution": {
     "iopub.execute_input": "2024-04-30T12:01:13.466794Z",
     "iopub.status.busy": "2024-04-30T12:01:13.465833Z",
     "iopub.status.idle": "2024-04-30T12:01:13.684961Z",
     "shell.execute_reply": "2024-04-30T12:01:13.683899Z"
    },
    "papermill": {
     "duration": 0.227112,
     "end_time": "2024-04-30T12:01:13.687439",
     "exception": false,
     "start_time": "2024-04-30T12:01:13.460327",
     "status": "completed"
    },
    "tags": []
   },
   "outputs": [
    {
     "data": {
      "image/png": "[encoded data removed]",
      "text/plain": [
       "<Figure size 640x480 with 1 Axes>"
      ]
     },
     "metadata": {},
     "output_type": "display_data"
    }
   ],
   "source": [
    "# plotting f1 scores\n",
    "\n",
    "fig = plt.figure()\n",
    "plt.bar(j1, f1_scores)\n",
    "plt.xlabel(\"Test Size\")\n",
    "plt.ylabel(\"f1 scores\")\n",
    "plt.title(\"f1 scores for different test size\")\n",
    "plt.show()"
   ]
  }
 ],
 "metadata": {
  "kaggle": {
   "accelerator": "none",
   "dataSources": [
    {
     "datasetId": 3684241,
     "sourceId": 6715567,
     "sourceType": "datasetVersion"
    }
   ],
   "dockerImageVersionId": 30698,
   "isGpuEnabled": false,
   "isInternetEnabled": true,
   "language": "python",
   "sourceType": "notebook"
  },
  "kernelspec": {
   "display_name": "Python 3",
   "language": "python",
   "name": "python3"
  },
  "language_info": {
   "codemirror_mode": {
    "name": "ipython",
    "version": 3
   },
   "file_extension": ".py",
   "mimetype": "text/x-python",
   "name": "python",
   "nbconvert_exporter": "python",
   "pygments_lexer": "ipython3",
   "version": "3.10.13"
  },
  "papermill": {
   "default_parameters": {},
   "duration": 6.171786,
   "end_time": "2024-04-30T12:01:14.312829",
   "environment_variables": {},
   "exception": null,
   "input_path": "__notebook__.ipynb",
   "output_path": "__notebook__.ipynb",
   "parameters": {},
   "start_time": "2024-04-30T12:01:08.141043",
   "version": "2.5.0"
  }
 },
 "nbformat": 4,
 "nbformat_minor": 5
}
