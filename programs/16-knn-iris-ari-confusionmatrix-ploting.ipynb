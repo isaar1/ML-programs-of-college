{
 "cells": [
  {
   "cell_type": "code",
   "execution_count": 1,
   "id": "61a96e73",
   "metadata": {
    "_cell_guid": "b1076dfc-b9ad-4769-8c92-a6c4dae69d19",
    "_uuid": "8f2839f25d086af736a60e9eeb907d3b93b6e0e5",
    "execution": {
     "iopub.execute_input": "2024-04-30T12:19:28.962893Z",
     "iopub.status.busy": "2024-04-30T12:19:28.962346Z",
     "iopub.status.idle": "2024-04-30T12:19:30.201318Z",
     "shell.execute_reply": "2024-04-30T12:19:30.200294Z"
    },
    "papermill": {
     "duration": 1.247565,
     "end_time": "2024-04-30T12:19:30.203988",
     "exception": false,
     "start_time": "2024-04-30T12:19:28.956423",
     "status": "completed"
    },
    "tags": []
   },
   "outputs": [],
   "source": [
    "# This Python 3 environment comes with many helpful analytics libraries installed\n",
    "# It is defined by the kaggle/python Docker image: https://github.com/kaggle/docker-python\n",
    "# For example, here's several helpful packages to load\n",
    "\n",
    "import numpy as np # linear algebra\n",
    "import pandas as pd # data processing, CSV file I/O (e.g. pd.read_csv)\n",
    "\n",
    "# Input data files are available in the read-only \"../input/\" directory\n",
    "# For example, running this (by clicking run or pressing Shift+Enter) will list all files under the input directory\n",
    "\n",
    "import os\n",
    "for dirname, _, filenames in os.walk('/kaggle/input'):\n",
    "    for filename in filenames:\n",
    "        print(os.path.join(dirname, filename))\n",
    "\n",
    "# You can write up to 20GB to the current directory (/kaggle/working/) that gets preserved as output when you create a version using \"Save & Run All\" \n",
    "# You can also write temporary files to /kaggle/temp/, but they won't be saved outside of the current session"
   ]
  },
  {
   "cell_type": "markdown",
   "id": "d74022f4",
   "metadata": {
    "papermill": {
     "duration": 0.003576,
     "end_time": "2024-04-30T12:19:30.212411",
     "exception": false,
     "start_time": "2024-04-30T12:19:30.208835",
     "status": "completed"
    },
    "tags": []
   },
   "source": [
    "# > ***Evaluation of K-Nearest Neighbours Classifier Performance on Iris Dataset with Adjusted Rand Index and Confusion Matrix Analysis and plotting the data***"
   ]
  },
  {
   "cell_type": "code",
   "execution_count": 2,
   "id": "e45c90f3",
   "metadata": {
    "execution": {
     "iopub.execute_input": "2024-04-30T12:19:30.222501Z",
     "iopub.status.busy": "2024-04-30T12:19:30.221626Z",
     "iopub.status.idle": "2024-04-30T12:19:32.516202Z",
     "shell.execute_reply": "2024-04-30T12:19:32.514868Z"
    },
    "papermill": {
     "duration": 2.302771,
     "end_time": "2024-04-30T12:19:32.519032",
     "exception": false,
     "start_time": "2024-04-30T12:19:30.216261",
     "status": "completed"
    },
    "tags": []
   },
   "outputs": [],
   "source": [
    "from sklearn.datasets import load_iris\n",
    "from sklearn.model_selection import train_test_split\n",
    "from sklearn.neighbors import KNeighborsClassifier\n",
    "from sklearn.metrics import confusion_matrix\n",
    "from sklearn.metrics.cluster import adjusted_rand_score\n",
    "import numpy as np\n",
    "import matplotlib.pyplot as plt"
   ]
  },
  {
   "cell_type": "code",
   "execution_count": 3,
   "id": "1957f9fc",
   "metadata": {
    "execution": {
     "iopub.execute_input": "2024-04-30T12:19:32.528509Z",
     "iopub.status.busy": "2024-04-30T12:19:32.528041Z",
     "iopub.status.idle": "2024-04-30T12:19:32.541996Z",
     "shell.execute_reply": "2024-04-30T12:19:32.540723Z"
    },
    "papermill": {
     "duration": 0.022488,
     "end_time": "2024-04-30T12:19:32.545308",
     "exception": false,
     "start_time": "2024-04-30T12:19:32.522820",
     "status": "completed"
    },
    "tags": []
   },
   "outputs": [],
   "source": [
    "iris = load_iris()\n",
    "# print(iris)"
   ]
  },
  {
   "cell_type": "code",
   "execution_count": 4,
   "id": "15476908",
   "metadata": {
    "execution": {
     "iopub.execute_input": "2024-04-30T12:19:32.554966Z",
     "iopub.status.busy": "2024-04-30T12:19:32.554488Z",
     "iopub.status.idle": "2024-04-30T12:19:32.561765Z",
     "shell.execute_reply": "2024-04-30T12:19:32.560369Z"
    },
    "papermill": {
     "duration": 0.0156,
     "end_time": "2024-04-30T12:19:32.564576",
     "exception": false,
     "start_time": "2024-04-30T12:19:32.548976",
     "status": "completed"
    },
    "tags": []
   },
   "outputs": [
    {
     "name": "stdout",
     "output_type": "stream",
     "text": [
      "(150, 4) 150\n"
     ]
    }
   ],
   "source": [
    "X, y = iris.data, iris.target\n",
    "\n",
    "print(X.shape, len(y))"
   ]
  },
  {
   "cell_type": "code",
   "execution_count": 5,
   "id": "bb37a269",
   "metadata": {
    "execution": {
     "iopub.execute_input": "2024-04-30T12:19:32.573434Z",
     "iopub.status.busy": "2024-04-30T12:19:32.573036Z",
     "iopub.status.idle": "2024-04-30T12:19:32.578757Z",
     "shell.execute_reply": "2024-04-30T12:19:32.577399Z"
    },
    "papermill": {
     "duration": 0.013075,
     "end_time": "2024-04-30T12:19:32.581296",
     "exception": false,
     "start_time": "2024-04-30T12:19:32.568221",
     "status": "completed"
    },
    "tags": []
   },
   "outputs": [],
   "source": [
    "j = [0.2,0.3,0.4,0.5] #test size\n",
    "\n",
    "k = [3,4] #nearest neighbor"
   ]
  },
  {
   "cell_type": "code",
   "execution_count": 6,
   "id": "686338fb",
   "metadata": {
    "execution": {
     "iopub.execute_input": "2024-04-30T12:19:32.592118Z",
     "iopub.status.busy": "2024-04-30T12:19:32.591720Z",
     "iopub.status.idle": "2024-04-30T12:19:33.263055Z",
     "shell.execute_reply": "2024-04-30T12:19:33.261782Z"
    },
    "papermill": {
     "duration": 0.680656,
     "end_time": "2024-04-30T12:19:33.265695",
     "exception": false,
     "start_time": "2024-04-30T12:19:32.585039",
     "status": "completed"
    },
    "tags": []
   },
   "outputs": [
    {
     "name": "stdout",
     "output_type": "stream",
     "text": [
      "(120, 4) (30, 4) 120 30\n",
      "[1 0 2 1 1 0 1 2 1 1 2 0 0 0 0 1 2 1 1 2 0 2 0 2 2 2 2 2 0 0] 30\n",
      "[1 0 2 1 1 0 1 2 1 1 2 0 0 0 0 1 2 1 1 2 0 2 0 2 2 2 2 2 0 0] 30\n",
      "ARI 1.0 for 0.2 test size and nearest neighbor is = 1\n",
      "for class 1: True Positive = 11 True Negative = 19 False Positive = 0 False Negative = 0\n",
      "True Positive Rate: 1.0, False Positive Rate: 0.0, Precision Value: 1.0, Recall Value: 1.0\n",
      "Confustion Matrix for Test Size 0.2 with Nearest Neighbor = 1\n",
      "[[10  0  0]\n",
      " [ 0  9  0]\n",
      " [ 0  0 11]]\n",
      "*************************************************************\n",
      "\n",
      "(105, 4) (45, 4) 105 45\n",
      "[1 0 2 1 1 0 1 2 1 1 2 0 0 0 0 1 2 1 1 2 0 2 0 2 2 2 2 2 0 0 0 0 1 0 0 2 1\n",
      " 0 0 0 2 1 1 0 0] 45\n",
      "[1 0 2 1 1 0 1 2 1 1 2 0 0 0 0 1 2 1 1 2 0 2 0 2 2 2 2 2 0 0 0 0 1 0 0 2 1\n",
      " 0 0 0 2 1 1 0 0] 45\n",
      "ARI 1.0 for 0.3 test size and nearest neighbor is = 1\n",
      "for class 1: True Positive = 13 True Negative = 32 False Positive = 0 False Negative = 0\n",
      "True Positive Rate: 1.0, False Positive Rate: 0.0, Precision Value: 1.0, Recall Value: 1.0\n",
      "Confustion Matrix for Test Size 0.3 with Nearest Neighbor = 1\n",
      "[[19  0  0]\n",
      " [ 0 13  0]\n",
      " [ 0  0 13]]\n",
      "*************************************************************\n",
      "\n",
      "(90, 4) (60, 4) 90 60\n",
      "[1 0 2 1 1 0 1 2 1 1 2 0 0 0 0 1 2 1 1 2 0 2 0 2 2 2 2 2 0 0 0 0 1 0 0 2 1\n",
      " 0 0 0 2 1 1 0 0 1 1 2 1 2 1 2 1 0 2 1 0 0 0 1] 60\n",
      "[1 0 2 1 1 0 1 2 1 1 2 0 0 0 0 1 2 1 1 2 0 2 0 2 2 2 2 2 0 0 0 0 1 0 0 2 1\n",
      " 0 0 0 2 1 1 0 0 1 2 2 1 2 1 2 1 0 2 1 0 0 0 1] 60\n",
      "ARI 0.9537575274646324 for 0.4 test size and nearest neighbor is = 1\n",
      "for class 1: True Positive = 17 True Negative = 42 False Positive = 0 False Negative = 1\n",
      "True Positive Rate: 0.9444444444444444, False Positive Rate: 0.0, Precision Value: 1.0, Recall Value: 0.9444444444444444\n",
      "Confustion Matrix for Test Size 0.4 with Nearest Neighbor = 1\n",
      "[[23  0  0]\n",
      " [ 0 19  1]\n",
      " [ 0  0 17]]\n",
      "*************************************************************\n",
      "\n",
      "(75, 4) (75, 4) 75 75\n",
      "[1 0 2 1 1 0 1 2 1 1 2 0 0 0 0 1 2 1 1 2 0 2 0 2 2 2 2 2 0 0 0 0 1 0 0 2 1\n",
      " 0 0 0 2 1 1 0 0 1 1 2 1 2 1 2 1 0 2 1 0 0 0 1 1 0 0 0 1 0 1 2 0 1 2 0 2 2\n",
      " 1] 75\n",
      "[1 0 2 1 1 0 1 2 1 1 2 0 0 0 0 1 2 1 1 2 0 2 0 2 2 2 2 2 0 0 0 0 1 0 0 2 1\n",
      " 0 0 0 2 1 1 0 0 1 2 2 1 2 1 2 1 0 2 1 0 0 0 1 2 0 0 0 1 0 1 2 0 1 2 0 2 2\n",
      " 1] 75\n",
      "ARI 0.928216922463694 for 0.5 test size and nearest neighbor is = 1\n",
      "for class 1: True Positive = 21 True Negative = 52 False Positive = 0 False Negative = 2\n",
      "True Positive Rate: 0.9130434782608695, False Positive Rate: 0.0, Precision Value: 1.0, Recall Value: 0.9130434782608695\n",
      "Confustion Matrix for Test Size 0.5 with Nearest Neighbor = 1\n",
      "[[29  0  0]\n",
      " [ 0 23  2]\n",
      " [ 0  0 21]]\n",
      "*************************************************************\n",
      "\n",
      "[1.0, 1.0, 0.9537575274646324, 0.928216922463694]\n"
     ]
    },
    {
     "data": {
      "image/png": "[encoded data removed]",
      "text/plain": [
       "<Figure size 640x480 with 1 Axes>"
      ]
     },
     "metadata": {},
     "output_type": "display_data"
    },
    {
     "name": "stdout",
     "output_type": "stream",
     "text": [
      "(120, 4) (30, 4) 120 30\n",
      "[1 0 2 1 1 0 1 2 1 1 2 0 0 0 0 1 2 1 1 2 0 2 0 2 2 2 2 2 0 0] 30\n",
      "[1 0 2 1 1 0 1 2 1 1 2 0 0 0 0 1 2 1 1 2 0 2 0 2 2 2 2 2 0 0] 30\n",
      "ARI 1.0 for 0.2 test size and nearest neighbor is = 1\n",
      "for class 1: True Positive = 11 True Negative = 19 False Positive = 0 False Negative = 0\n",
      "True Positive Rate: 1.0, False Positive Rate: 0.0, Precision Value: 1.0, Recall Value: 1.0\n",
      "Confustion Matrix for Test Size 0.2 with Nearest Neighbor = 1\n",
      "[[10  0  0]\n",
      " [ 0  9  0]\n",
      " [ 0  0 11]]\n",
      "*************************************************************\n",
      "\n",
      "(105, 4) (45, 4) 105 45\n",
      "[1 0 2 1 1 0 1 2 1 1 2 0 0 0 0 1 2 1 1 2 0 2 0 2 2 2 2 2 0 0 0 0 1 0 0 2 1\n",
      " 0 0 0 2 1 1 0 0] 45\n",
      "[1 0 2 1 1 0 1 2 1 1 2 0 0 0 0 1 2 1 1 2 0 2 0 2 2 2 2 2 0 0 0 0 1 0 0 2 1\n",
      " 0 0 0 2 1 1 0 0] 45\n",
      "ARI 1.0 for 0.3 test size and nearest neighbor is = 1\n",
      "for class 1: True Positive = 13 True Negative = 32 False Positive = 0 False Negative = 0\n",
      "True Positive Rate: 1.0, False Positive Rate: 0.0, Precision Value: 1.0, Recall Value: 1.0\n",
      "Confustion Matrix for Test Size 0.3 with Nearest Neighbor = 1\n",
      "[[19  0  0]\n",
      " [ 0 13  0]\n",
      " [ 0  0 13]]\n",
      "*************************************************************\n",
      "\n",
      "(90, 4) (60, 4) 90 60\n",
      "[1 0 2 1 1 0 1 2 1 1 2 0 0 0 0 1 2 1 1 2 0 2 0 2 2 2 2 2 0 0 0 0 1 0 0 2 1\n",
      " 0 0 0 2 1 1 0 0 1 1 2 1 2 1 2 1 0 2 1 0 0 0 1] 60\n",
      "[1 0 2 1 1 0 1 2 1 1 2 0 0 0 0 1 2 1 1 2 0 2 0 2 2 2 2 2 0 0 0 0 1 0 0 2 1\n",
      " 0 0 0 2 1 1 0 0 1 2 2 1 2 1 2 1 0 2 1 0 0 0 1] 60\n",
      "ARI 0.9537575274646324 for 0.4 test size and nearest neighbor is = 1\n",
      "for class 1: True Positive = 17 True Negative = 42 False Positive = 0 False Negative = 1\n",
      "True Positive Rate: 0.9444444444444444, False Positive Rate: 0.0, Precision Value: 1.0, Recall Value: 0.9444444444444444\n",
      "Confustion Matrix for Test Size 0.4 with Nearest Neighbor = 1\n",
      "[[23  0  0]\n",
      " [ 0 19  1]\n",
      " [ 0  0 17]]\n",
      "*************************************************************\n",
      "\n",
      "(75, 4) (75, 4) 75 75\n",
      "[1 0 2 1 1 0 1 2 1 1 2 0 0 0 0 1 2 1 1 2 0 1 0 2 2 2 2 2 0 0 0 0 1 0 0 1 1\n",
      " 0 0 0 2 1 1 0 0 1 1 2 1 2 1 2 1 0 2 1 0 0 0 1 1 0 0 0 1 0 1 2 0 1 2 0 1 2\n",
      " 1] 75\n",
      "[1 0 2 1 1 0 1 2 1 1 2 0 0 0 0 1 2 1 1 2 0 2 0 2 2 2 2 2 0 0 0 0 1 0 0 2 1\n",
      " 0 0 0 2 1 1 0 0 1 2 2 1 2 1 2 1 0 2 1 0 0 0 1 2 0 0 0 1 0 1 2 0 1 2 0 2 2\n",
      " 1] 75\n",
      "ARI 0.8337540076571787 for 0.5 test size and nearest neighbor is = 1\n",
      "for class 1: True Positive = 18 True Negative = 52 False Positive = 0 False Negative = 5\n",
      "True Positive Rate: 0.782608695652174, False Positive Rate: 0.0, Precision Value: 1.0, Recall Value: 0.782608695652174\n",
      "Confustion Matrix for Test Size 0.5 with Nearest Neighbor = 1\n",
      "[[29  0  0]\n",
      " [ 0 23  5]\n",
      " [ 0  0 18]]\n",
      "*************************************************************\n",
      "\n",
      "[1.0, 1.0, 0.9537575274646324, 0.8337540076571787]\n"
     ]
    },
    {
     "data": {
      "image/png": "[encoded data removed]",
      "text/plain": [
       "<Figure size 640x480 with 1 Axes>"
      ]
     },
     "metadata": {},
     "output_type": "display_data"
    }
   ],
   "source": [
    "for l in k:\n",
    "    clf = KNeighborsClassifier(n_neighbors = l)\n",
    "    adj_rand_scores = []\n",
    "    \n",
    "    for i in j:\n",
    "        X_train, test_x, y_train, test_lab = train_test_split(X, y, test_size = i, random_state = 42)\n",
    "        print(X_train.shape, test_x.shape, len(y_train), len(test_lab))\n",
    "        \n",
    "        clf = clf.fit(X_train, y_train)\n",
    "        test_pred_deci_tree = clf.predict(test_x)\n",
    "        \n",
    "        print(test_pred_deci_tree, len(test_pred_deci_tree))\n",
    "        print(test_lab, len(test_lab))\n",
    "        \n",
    "        print(f'ARI {adjusted_rand_score(test_pred_deci_tree, test_lab)} for {i} test size and nearest neighbor is = {1}')\n",
    "        \n",
    "        adj_rand_scores.append(adjusted_rand_score(test_pred_deci_tree, test_lab))\n",
    "        \n",
    "        y_pred = np.asarray(test_pred_deci_tree)\n",
    "        y_true = np.asarray(test_lab)\n",
    "        \n",
    "        FP = np.logical_and(y_true != y_pred, y_pred == 2).sum()\n",
    "        FN = np.logical_and(y_true != y_pred, y_pred != 2).sum()\n",
    "        TP = np.logical_and(y_true == y_pred, y_pred == 2).sum()\n",
    "        TN = np.logical_and(y_true == y_pred, y_pred != 2).sum()\n",
    "        print(f'for class 1: True Positive = {TP} True Negative = {TN} False Positive = {FP} False Negative = {FN}')\n",
    "        TPR = TP/(TP+FN)\n",
    "        FPR = FP/(FP+TN)\n",
    "        Prec = TP/(TP+FP)\n",
    "        Rec = TP/(TP+FN)\n",
    "        print(f'True Positive Rate: {TPR}, False Positive Rate: {FPR}, Precision Value: {Prec}, Recall Value: {Rec}')\n",
    "        \n",
    "        print(f'Confustion Matrix for Test Size {i} with Nearest Neighbor = {1}')\n",
    "        print(confusion_matrix(y_pred,y_true))\n",
    "        print(\"*************************************************************\")\n",
    "        print(\"\")\n",
    "    print(adj_rand_scores)\n",
    "    \n",
    "#   plotting\n",
    "    j1 = [\"0.2\",\"0.3\",\"0.4\",\"0.5\"]\n",
    "    plt.bar(j1, adj_rand_scores)\n",
    "    plt.xlabel(\"Test Size\")\n",
    "    plt.ylabel(\"ARI Score\")\n",
    "    plt.title(\"Adjusted Rand Index [ARI] Score vs. Test Size\")\n",
    "    plt.show()"
   ]
  }
 ],
 "metadata": {
  "kaggle": {
   "accelerator": "none",
   "dataSources": [],
   "dockerImageVersionId": 30698,
   "isGpuEnabled": false,
   "isInternetEnabled": true,
   "language": "python",
   "sourceType": "notebook"
  },
  "kernelspec": {
   "display_name": "Python 3",
   "language": "python",
   "name": "python3"
  },
  "language_info": {
   "codemirror_mode": {
    "name": "ipython",
    "version": 3
   },
   "file_extension": ".py",
   "mimetype": "text/x-python",
   "name": "python",
   "nbconvert_exporter": "python",
   "pygments_lexer": "ipython3",
   "version": "3.10.13"
  },
  "papermill": {
   "default_parameters": {},
   "duration": 9.047584,
   "end_time": "2024-04-30T12:19:33.993928",
   "environment_variables": {},
   "exception": null,
   "input_path": "__notebook__.ipynb",
   "output_path": "__notebook__.ipynb",
   "parameters": {},
   "start_time": "2024-04-30T12:19:24.946344",
   "version": "2.5.0"
  }
 },
 "nbformat": 4,
 "nbformat_minor": 5
}
