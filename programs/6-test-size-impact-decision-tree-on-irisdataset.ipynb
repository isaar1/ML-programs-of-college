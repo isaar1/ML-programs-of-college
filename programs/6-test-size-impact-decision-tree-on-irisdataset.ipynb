{
 "cells": [
  {
   "cell_type": "code",
   "execution_count": 1,
   "id": "92478806",
   "metadata": {
    "_cell_guid": "b1076dfc-b9ad-4769-8c92-a6c4dae69d19",
    "_uuid": "8f2839f25d086af736a60e9eeb907d3b93b6e0e5",
    "execution": {
     "iopub.execute_input": "2024-04-30T10:59:10.207647Z",
     "iopub.status.busy": "2024-04-30T10:59:10.207257Z",
     "iopub.status.idle": "2024-04-30T10:59:11.033212Z",
     "shell.execute_reply": "2024-04-30T10:59:11.031657Z"
    },
    "papermill": {
     "duration": 0.833793,
     "end_time": "2024-04-30T10:59:11.036025",
     "exception": false,
     "start_time": "2024-04-30T10:59:10.202232",
     "status": "completed"
    },
    "tags": []
   },
   "outputs": [
    {
     "name": "stdout",
     "output_type": "stream",
     "text": [
      "/kaggle/input/students-performance/StudentsPerformance_with_headers.csv\n",
      "/kaggle/input/students-performance/highereducationstudentsperformanceevaluation/DATA (1).csv\n"
     ]
    }
   ],
   "source": [
    "# This Python 3 environment comes with many helpful analytics libraries installed\n",
    "# It is defined by the kaggle/python Docker image: https://github.com/kaggle/docker-python\n",
    "# For example, here's several helpful packages to load\n",
    "\n",
    "import numpy as np # linear algebra\n",
    "import pandas as pd # data processing, CSV file I/O (e.g. pd.read_csv)\n",
    "\n",
    "# Input data files are available in the read-only \"../input/\" directory\n",
    "# For example, running this (by clicking run or pressing Shift+Enter) will list all files under the input directory\n",
    "\n",
    "import os\n",
    "for dirname, _, filenames in os.walk('/kaggle/input'):\n",
    "    for filename in filenames:\n",
    "        print(os.path.join(dirname, filename))\n",
    "\n",
    "# You can write up to 20GB to the current directory (/kaggle/working/) that gets preserved as output when you create a version using \"Save & Run All\" \n",
    "# You can also write temporary files to /kaggle/temp/, but they won't be saved outside of the current session"
   ]
  },
  {
   "cell_type": "markdown",
   "id": "f88e586f",
   "metadata": {
    "papermill": {
     "duration": 0.00282,
     "end_time": "2024-04-30T10:59:11.042735",
     "exception": false,
     "start_time": "2024-04-30T10:59:11.039915",
     "status": "completed"
    },
    "tags": []
   },
   "source": [
    "# > ***Exploring Test Size Impact on Decision Tree Performance on Sample Dataset using Adjusted Rand Index***"
   ]
  },
  {
   "cell_type": "code",
   "execution_count": 2,
   "id": "92b2d6b5",
   "metadata": {
    "execution": {
     "iopub.execute_input": "2024-04-30T10:59:11.050438Z",
     "iopub.status.busy": "2024-04-30T10:59:11.049952Z",
     "iopub.status.idle": "2024-04-30T10:59:12.423352Z",
     "shell.execute_reply": "2024-04-30T10:59:12.422320Z"
    },
    "papermill": {
     "duration": 1.380214,
     "end_time": "2024-04-30T10:59:12.425934",
     "exception": false,
     "start_time": "2024-04-30T10:59:11.045720",
     "status": "completed"
    },
    "tags": []
   },
   "outputs": [],
   "source": [
    "from sklearn.model_selection import train_test_split\n",
    "from sklearn import tree\n",
    "from sklearn.metrics.cluster import adjusted_rand_score\n",
    "import pandas as pd\n",
    "import numpy as np\n",
    "import matplotlib.pyplot as plt"
   ]
  },
  {
   "cell_type": "code",
   "execution_count": 3,
   "id": "83299c41",
   "metadata": {
    "execution": {
     "iopub.execute_input": "2024-04-30T10:59:12.433527Z",
     "iopub.status.busy": "2024-04-30T10:59:12.433135Z",
     "iopub.status.idle": "2024-04-30T10:59:12.478407Z",
     "shell.execute_reply": "2024-04-30T10:59:12.477323Z"
    },
    "papermill": {
     "duration": 0.051971,
     "end_time": "2024-04-30T10:59:12.481037",
     "exception": false,
     "start_time": "2024-04-30T10:59:12.429066",
     "status": "completed"
    },
    "tags": []
   },
   "outputs": [
    {
     "data": {
      "text/html": [
       "<div>\n",
       "<style scoped>\n",
       "    .dataframe tbody tr th:only-of-type {\n",
       "        vertical-align: middle;\n",
       "    }\n",
       "\n",
       "    .dataframe tbody tr th {\n",
       "        vertical-align: top;\n",
       "    }\n",
       "\n",
       "    .dataframe thead th {\n",
       "        text-align: right;\n",
       "    }\n",
       "</style>\n",
       "<table border=\"1\" class=\"dataframe\">\n",
       "  <thead>\n",
       "    <tr style=\"text-align: right;\">\n",
       "      <th></th>\n",
       "      <th>STUDENT ID</th>\n",
       "      <th>1</th>\n",
       "      <th>2</th>\n",
       "      <th>3</th>\n",
       "      <th>4</th>\n",
       "      <th>5</th>\n",
       "      <th>6</th>\n",
       "      <th>7</th>\n",
       "      <th>8</th>\n",
       "      <th>9</th>\n",
       "      <th>...</th>\n",
       "      <th>23</th>\n",
       "      <th>24</th>\n",
       "      <th>25</th>\n",
       "      <th>26</th>\n",
       "      <th>27</th>\n",
       "      <th>28</th>\n",
       "      <th>29</th>\n",
       "      <th>30</th>\n",
       "      <th>COURSE ID</th>\n",
       "      <th>GRADE</th>\n",
       "    </tr>\n",
       "  </thead>\n",
       "  <tbody>\n",
       "    <tr>\n",
       "      <th>0</th>\n",
       "      <td>STUDENT1</td>\n",
       "      <td>2</td>\n",
       "      <td>2</td>\n",
       "      <td>3</td>\n",
       "      <td>3</td>\n",
       "      <td>1</td>\n",
       "      <td>2</td>\n",
       "      <td>2</td>\n",
       "      <td>1</td>\n",
       "      <td>1</td>\n",
       "      <td>...</td>\n",
       "      <td>1</td>\n",
       "      <td>1</td>\n",
       "      <td>3</td>\n",
       "      <td>2</td>\n",
       "      <td>1</td>\n",
       "      <td>2</td>\n",
       "      <td>1</td>\n",
       "      <td>1</td>\n",
       "      <td>1</td>\n",
       "      <td>1</td>\n",
       "    </tr>\n",
       "    <tr>\n",
       "      <th>1</th>\n",
       "      <td>STUDENT2</td>\n",
       "      <td>2</td>\n",
       "      <td>2</td>\n",
       "      <td>3</td>\n",
       "      <td>3</td>\n",
       "      <td>1</td>\n",
       "      <td>2</td>\n",
       "      <td>2</td>\n",
       "      <td>1</td>\n",
       "      <td>1</td>\n",
       "      <td>...</td>\n",
       "      <td>1</td>\n",
       "      <td>1</td>\n",
       "      <td>3</td>\n",
       "      <td>2</td>\n",
       "      <td>3</td>\n",
       "      <td>2</td>\n",
       "      <td>2</td>\n",
       "      <td>3</td>\n",
       "      <td>1</td>\n",
       "      <td>1</td>\n",
       "    </tr>\n",
       "    <tr>\n",
       "      <th>2</th>\n",
       "      <td>STUDENT3</td>\n",
       "      <td>2</td>\n",
       "      <td>2</td>\n",
       "      <td>2</td>\n",
       "      <td>3</td>\n",
       "      <td>2</td>\n",
       "      <td>2</td>\n",
       "      <td>2</td>\n",
       "      <td>2</td>\n",
       "      <td>4</td>\n",
       "      <td>...</td>\n",
       "      <td>1</td>\n",
       "      <td>1</td>\n",
       "      <td>2</td>\n",
       "      <td>2</td>\n",
       "      <td>1</td>\n",
       "      <td>1</td>\n",
       "      <td>2</td>\n",
       "      <td>2</td>\n",
       "      <td>1</td>\n",
       "      <td>1</td>\n",
       "    </tr>\n",
       "    <tr>\n",
       "      <th>3</th>\n",
       "      <td>STUDENT4</td>\n",
       "      <td>1</td>\n",
       "      <td>1</td>\n",
       "      <td>1</td>\n",
       "      <td>3</td>\n",
       "      <td>1</td>\n",
       "      <td>2</td>\n",
       "      <td>1</td>\n",
       "      <td>2</td>\n",
       "      <td>1</td>\n",
       "      <td>...</td>\n",
       "      <td>1</td>\n",
       "      <td>2</td>\n",
       "      <td>3</td>\n",
       "      <td>2</td>\n",
       "      <td>2</td>\n",
       "      <td>1</td>\n",
       "      <td>3</td>\n",
       "      <td>2</td>\n",
       "      <td>1</td>\n",
       "      <td>1</td>\n",
       "    </tr>\n",
       "    <tr>\n",
       "      <th>4</th>\n",
       "      <td>STUDENT5</td>\n",
       "      <td>2</td>\n",
       "      <td>2</td>\n",
       "      <td>1</td>\n",
       "      <td>3</td>\n",
       "      <td>2</td>\n",
       "      <td>2</td>\n",
       "      <td>1</td>\n",
       "      <td>3</td>\n",
       "      <td>1</td>\n",
       "      <td>...</td>\n",
       "      <td>2</td>\n",
       "      <td>1</td>\n",
       "      <td>2</td>\n",
       "      <td>2</td>\n",
       "      <td>2</td>\n",
       "      <td>1</td>\n",
       "      <td>2</td>\n",
       "      <td>2</td>\n",
       "      <td>1</td>\n",
       "      <td>1</td>\n",
       "    </tr>\n",
       "  </tbody>\n",
       "</table>\n",
       "<p>5 rows × 33 columns</p>\n",
       "</div>"
      ],
      "text/plain": [
       "  STUDENT ID  1  2  3  4  5  6  7  8  9  ...  23  24  25  26  27  28  29  30  \\\n",
       "0   STUDENT1  2  2  3  3  1  2  2  1  1  ...   1   1   3   2   1   2   1   1   \n",
       "1   STUDENT2  2  2  3  3  1  2  2  1  1  ...   1   1   3   2   3   2   2   3   \n",
       "2   STUDENT3  2  2  2  3  2  2  2  2  4  ...   1   1   2   2   1   1   2   2   \n",
       "3   STUDENT4  1  1  1  3  1  2  1  2  1  ...   1   2   3   2   2   1   3   2   \n",
       "4   STUDENT5  2  2  1  3  2  2  1  3  1  ...   2   1   2   2   2   1   2   2   \n",
       "\n",
       "   COURSE ID  GRADE  \n",
       "0          1      1  \n",
       "1          1      1  \n",
       "2          1      1  \n",
       "3          1      1  \n",
       "4          1      1  \n",
       "\n",
       "[5 rows x 33 columns]"
      ]
     },
     "execution_count": 3,
     "metadata": {},
     "output_type": "execute_result"
    }
   ],
   "source": [
    "file = pd.read_csv(\"/kaggle/input/students-performance/highereducationstudentsperformanceevaluation/DATA (1).csv\")\n",
    "file.head()"
   ]
  },
  {
   "cell_type": "code",
   "execution_count": 4,
   "id": "e4a0f0cb",
   "metadata": {
    "execution": {
     "iopub.execute_input": "2024-04-30T10:59:12.489605Z",
     "iopub.status.busy": "2024-04-30T10:59:12.489215Z",
     "iopub.status.idle": "2024-04-30T10:59:12.511393Z",
     "shell.execute_reply": "2024-04-30T10:59:12.510385Z"
    },
    "papermill": {
     "duration": 0.028831,
     "end_time": "2024-04-30T10:59:12.513518",
     "exception": false,
     "start_time": "2024-04-30T10:59:12.484687",
     "status": "completed"
    },
    "tags": []
   },
   "outputs": [
    {
     "data": {
      "text/html": [
       "<div>\n",
       "<style scoped>\n",
       "    .dataframe tbody tr th:only-of-type {\n",
       "        vertical-align: middle;\n",
       "    }\n",
       "\n",
       "    .dataframe tbody tr th {\n",
       "        vertical-align: top;\n",
       "    }\n",
       "\n",
       "    .dataframe thead th {\n",
       "        text-align: right;\n",
       "    }\n",
       "</style>\n",
       "<table border=\"1\" class=\"dataframe\">\n",
       "  <thead>\n",
       "    <tr style=\"text-align: right;\">\n",
       "      <th></th>\n",
       "      <th>1</th>\n",
       "      <th>2</th>\n",
       "      <th>3</th>\n",
       "      <th>4</th>\n",
       "      <th>5</th>\n",
       "      <th>6</th>\n",
       "      <th>7</th>\n",
       "      <th>8</th>\n",
       "      <th>9</th>\n",
       "      <th>10</th>\n",
       "      <th>...</th>\n",
       "      <th>23</th>\n",
       "      <th>24</th>\n",
       "      <th>25</th>\n",
       "      <th>26</th>\n",
       "      <th>27</th>\n",
       "      <th>28</th>\n",
       "      <th>29</th>\n",
       "      <th>30</th>\n",
       "      <th>COURSE ID</th>\n",
       "      <th>GRADE</th>\n",
       "    </tr>\n",
       "  </thead>\n",
       "  <tbody>\n",
       "    <tr>\n",
       "      <th>104</th>\n",
       "      <td>1</td>\n",
       "      <td>1</td>\n",
       "      <td>2</td>\n",
       "      <td>3</td>\n",
       "      <td>2</td>\n",
       "      <td>2</td>\n",
       "      <td>2</td>\n",
       "      <td>1</td>\n",
       "      <td>2</td>\n",
       "      <td>2</td>\n",
       "      <td>...</td>\n",
       "      <td>1</td>\n",
       "      <td>1</td>\n",
       "      <td>2</td>\n",
       "      <td>3</td>\n",
       "      <td>2</td>\n",
       "      <td>2</td>\n",
       "      <td>1</td>\n",
       "      <td>1</td>\n",
       "      <td>7</td>\n",
       "      <td>3</td>\n",
       "    </tr>\n",
       "    <tr>\n",
       "      <th>57</th>\n",
       "      <td>2</td>\n",
       "      <td>2</td>\n",
       "      <td>2</td>\n",
       "      <td>3</td>\n",
       "      <td>1</td>\n",
       "      <td>1</td>\n",
       "      <td>2</td>\n",
       "      <td>1</td>\n",
       "      <td>1</td>\n",
       "      <td>1</td>\n",
       "      <td>...</td>\n",
       "      <td>1</td>\n",
       "      <td>1</td>\n",
       "      <td>3</td>\n",
       "      <td>2</td>\n",
       "      <td>3</td>\n",
       "      <td>1</td>\n",
       "      <td>5</td>\n",
       "      <td>4</td>\n",
       "      <td>1</td>\n",
       "      <td>4</td>\n",
       "    </tr>\n",
       "    <tr>\n",
       "      <th>58</th>\n",
       "      <td>3</td>\n",
       "      <td>2</td>\n",
       "      <td>2</td>\n",
       "      <td>3</td>\n",
       "      <td>2</td>\n",
       "      <td>2</td>\n",
       "      <td>1</td>\n",
       "      <td>3</td>\n",
       "      <td>1</td>\n",
       "      <td>1</td>\n",
       "      <td>...</td>\n",
       "      <td>1</td>\n",
       "      <td>1</td>\n",
       "      <td>3</td>\n",
       "      <td>2</td>\n",
       "      <td>2</td>\n",
       "      <td>2</td>\n",
       "      <td>5</td>\n",
       "      <td>4</td>\n",
       "      <td>1</td>\n",
       "      <td>3</td>\n",
       "    </tr>\n",
       "    <tr>\n",
       "      <th>33</th>\n",
       "      <td>2</td>\n",
       "      <td>1</td>\n",
       "      <td>2</td>\n",
       "      <td>3</td>\n",
       "      <td>1</td>\n",
       "      <td>2</td>\n",
       "      <td>1</td>\n",
       "      <td>1</td>\n",
       "      <td>1</td>\n",
       "      <td>1</td>\n",
       "      <td>...</td>\n",
       "      <td>1</td>\n",
       "      <td>1</td>\n",
       "      <td>1</td>\n",
       "      <td>3</td>\n",
       "      <td>2</td>\n",
       "      <td>2</td>\n",
       "      <td>2</td>\n",
       "      <td>3</td>\n",
       "      <td>1</td>\n",
       "      <td>2</td>\n",
       "    </tr>\n",
       "    <tr>\n",
       "      <th>28</th>\n",
       "      <td>3</td>\n",
       "      <td>2</td>\n",
       "      <td>2</td>\n",
       "      <td>3</td>\n",
       "      <td>2</td>\n",
       "      <td>2</td>\n",
       "      <td>1</td>\n",
       "      <td>1</td>\n",
       "      <td>4</td>\n",
       "      <td>2</td>\n",
       "      <td>...</td>\n",
       "      <td>1</td>\n",
       "      <td>1</td>\n",
       "      <td>3</td>\n",
       "      <td>2</td>\n",
       "      <td>3</td>\n",
       "      <td>3</td>\n",
       "      <td>5</td>\n",
       "      <td>4</td>\n",
       "      <td>1</td>\n",
       "      <td>3</td>\n",
       "    </tr>\n",
       "  </tbody>\n",
       "</table>\n",
       "<p>5 rows × 32 columns</p>\n",
       "</div>"
      ],
      "text/plain": [
       "     1  2  3  4  5  6  7  8  9  10  ...  23  24  25  26  27  28  29  30  \\\n",
       "104  1  1  2  3  2  2  2  1  2   2  ...   1   1   2   3   2   2   1   1   \n",
       "57   2  2  2  3  1  1  2  1  1   1  ...   1   1   3   2   3   1   5   4   \n",
       "58   3  2  2  3  2  2  1  3  1   1  ...   1   1   3   2   2   2   5   4   \n",
       "33   2  1  2  3  1  2  1  1  1   1  ...   1   1   1   3   2   2   2   3   \n",
       "28   3  2  2  3  2  2  1  1  4   2  ...   1   1   3   2   3   3   5   4   \n",
       "\n",
       "     COURSE ID  GRADE  \n",
       "104          7      3  \n",
       "57           1      4  \n",
       "58           1      3  \n",
       "33           1      2  \n",
       "28           1      3  \n",
       "\n",
       "[5 rows x 32 columns]"
      ]
     },
     "execution_count": 4,
     "metadata": {},
     "output_type": "execute_result"
    }
   ],
   "source": [
    "# Here, I've removed the column containing student IDs from the dataset.\n",
    "file.drop(\"STUDENT ID\",axis=1,inplace=True)\n",
    "file.sample(5)"
   ]
  },
  {
   "cell_type": "code",
   "execution_count": 5,
   "id": "04d64a95",
   "metadata": {
    "execution": {
     "iopub.execute_input": "2024-04-30T10:59:12.522851Z",
     "iopub.status.busy": "2024-04-30T10:59:12.522492Z",
     "iopub.status.idle": "2024-04-30T10:59:12.529293Z",
     "shell.execute_reply": "2024-04-30T10:59:12.528135Z"
    },
    "papermill": {
     "duration": 0.014118,
     "end_time": "2024-04-30T10:59:12.531694",
     "exception": false,
     "start_time": "2024-04-30T10:59:12.517576",
     "status": "completed"
    },
    "tags": []
   },
   "outputs": [
    {
     "name": "stdout",
     "output_type": "stream",
     "text": [
      "(145, 31) 145\n"
     ]
    }
   ],
   "source": [
    "f = np.array(file)\n",
    "X = file.iloc[:,:-1]\n",
    "y = list(file.iloc[:,-1])\n",
    "\n",
    "print(X.shape, len(y))"
   ]
  },
  {
   "cell_type": "code",
   "execution_count": 6,
   "id": "f1615293",
   "metadata": {
    "execution": {
     "iopub.execute_input": "2024-04-30T10:59:12.540617Z",
     "iopub.status.busy": "2024-04-30T10:59:12.540237Z",
     "iopub.status.idle": "2024-04-30T10:59:12.545352Z",
     "shell.execute_reply": "2024-04-30T10:59:12.544397Z"
    },
    "papermill": {
     "duration": 0.011989,
     "end_time": "2024-04-30T10:59:12.547447",
     "exception": false,
     "start_time": "2024-04-30T10:59:12.535458",
     "status": "completed"
    },
    "tags": []
   },
   "outputs": [],
   "source": [
    "clf = tree.DecisionTreeClassifier()\n",
    "\n",
    "j = [0.2,0.3,0.4,0.5]\n",
    "j1 = [\"0.2\",\"0.3\",\"0.4\",\"0.5\"]\n",
    "l2 = []"
   ]
  },
  {
   "cell_type": "code",
   "execution_count": 7,
   "id": "a4c397bf",
   "metadata": {
    "execution": {
     "iopub.execute_input": "2024-04-30T10:59:12.557015Z",
     "iopub.status.busy": "2024-04-30T10:59:12.556168Z",
     "iopub.status.idle": "2024-04-30T10:59:12.680538Z",
     "shell.execute_reply": "2024-04-30T10:59:12.679247Z"
    },
    "papermill": {
     "duration": 0.131605,
     "end_time": "2024-04-30T10:59:12.683007",
     "exception": false,
     "start_time": "2024-04-30T10:59:12.551402",
     "status": "completed"
    },
    "tags": []
   },
   "outputs": [
    {
     "name": "stdout",
     "output_type": "stream",
     "text": [
      "(116, 31) (29, 31)\n",
      "ARI for the iteration 1 for test size of 0.2 is:  0.018869864774538538\n",
      "[0.018869864774538538]\n",
      "\n",
      "(101, 31) (44, 31)\n",
      "ARI for the iteration 1 for test size of 0.3 is:  0.09502274870236276\n",
      "[0.018869864774538538, 0.09502274870236276]\n",
      "\n",
      "(87, 31) (58, 31)\n",
      "ARI for the iteration 1 for test size of 0.4 is:  0.04039524459884323\n",
      "[0.018869864774538538, 0.09502274870236276, 0.04039524459884323]\n",
      "\n",
      "(72, 31) (73, 31)\n",
      "ARI for the iteration 1 for test size of 0.5 is:  0.05118078504070283\n",
      "[0.018869864774538538, 0.09502274870236276, 0.04039524459884323, 0.05118078504070283]\n",
      "\n"
     ]
    }
   ],
   "source": [
    "for i in j:\n",
    "    X_train, test_x, y_train, y_test = train_test_split(X, y, test_size = i, random_state = 42)\n",
    "    print(X_train.shape, test_x.shape)\n",
    "    clf = clf.fit(X_train, y_train)\n",
    "    y_pred = clf.predict(test_x)\n",
    "    l2.append(adjusted_rand_score(y_test, y_pred), )\n",
    "    print(\"ARI for the iteration\", 1, \"for test size of\", i, \"is: \", adjusted_rand_score(y_test, y_pred))\n",
    "    print(l2)\n",
    "    print(\"\")"
   ]
  },
  {
   "cell_type": "code",
   "execution_count": 8,
   "id": "7ac6dfb1",
   "metadata": {
    "execution": {
     "iopub.execute_input": "2024-04-30T10:59:12.692728Z",
     "iopub.status.busy": "2024-04-30T10:59:12.692317Z",
     "iopub.status.idle": "2024-04-30T10:59:12.937584Z",
     "shell.execute_reply": "2024-04-30T10:59:12.936512Z"
    },
    "papermill": {
     "duration": 0.252741,
     "end_time": "2024-04-30T10:59:12.939871",
     "exception": false,
     "start_time": "2024-04-30T10:59:12.687130",
     "status": "completed"
    },
    "tags": []
   },
   "outputs": [
    {
     "data": {
      "image/png": "[encoded data removed]",
      "text/plain": [
       "<Figure size 640x480 with 1 Axes>"
      ]
     },
     "metadata": {},
     "output_type": "display_data"
    }
   ],
   "source": [
    "# plotting graph\n",
    "fig = plt.figure()\n",
    "plt.bar(j1, l2)\n",
    "plt.title(\"Adjusted Rand Index Score for different test sizes\")\n",
    "plt.xlabel(\"Test Sizes\")\n",
    "plt.ylabel(\"Adjusted Rand Scores\")\n",
    "plt.show()"
   ]
  }
 ],
 "metadata": {
  "kaggle": {
   "accelerator": "none",
   "dataSources": [
    {
     "datasetId": 3684241,
     "sourceId": 6715567,
     "sourceType": "datasetVersion"
    }
   ],
   "dockerImageVersionId": 30698,
   "isGpuEnabled": false,
   "isInternetEnabled": true,
   "language": "python",
   "sourceType": "notebook"
  },
  "kernelspec": {
   "display_name": "Python 3",
   "language": "python",
   "name": "python3"
  },
  "language_info": {
   "codemirror_mode": {
    "name": "ipython",
    "version": 3
   },
   "file_extension": ".py",
   "mimetype": "text/x-python",
   "name": "python",
   "nbconvert_exporter": "python",
   "pygments_lexer": "ipython3",
   "version": "3.10.13"
  },
  "papermill": {
   "default_parameters": {},
   "duration": 5.982112,
   "end_time": "2024-04-30T10:59:13.464444",
   "environment_variables": {},
   "exception": null,
   "input_path": "__notebook__.ipynb",
   "output_path": "__notebook__.ipynb",
   "parameters": {},
   "start_time": "2024-04-30T10:59:07.482332",
   "version": "2.5.0"
  }
 },
 "nbformat": 4,
 "nbformat_minor": 5
}
