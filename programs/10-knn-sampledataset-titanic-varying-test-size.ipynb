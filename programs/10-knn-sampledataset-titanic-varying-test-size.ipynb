{
 "cells": [
  {
   "cell_type": "code",
   "execution_count": 1,
   "id": "93b4a8ca",
   "metadata": {
    "_cell_guid": "b1076dfc-b9ad-4769-8c92-a6c4dae69d19",
    "_uuid": "8f2839f25d086af736a60e9eeb907d3b93b6e0e5",
    "execution": {
     "iopub.execute_input": "2024-04-30T11:54:00.522381Z",
     "iopub.status.busy": "2024-04-30T11:54:00.522067Z",
     "iopub.status.idle": "2024-04-30T11:54:01.556229Z",
     "shell.execute_reply": "2024-04-30T11:54:01.555198Z"
    },
    "papermill": {
     "duration": 1.041937,
     "end_time": "2024-04-30T11:54:01.558709",
     "exception": false,
     "start_time": "2024-04-30T11:54:00.516772",
     "status": "completed"
    },
    "tags": []
   },
   "outputs": [
    {
     "name": "stdout",
     "output_type": "stream",
     "text": [
      "/kaggle/input/students-performance/StudentsPerformance_with_headers.csv\n",
      "/kaggle/input/students-performance/highereducationstudentsperformanceevaluation/DATA (1).csv\n"
     ]
    }
   ],
   "source": [
    "# This Python 3 environment comes with many helpful analytics libraries installed\n",
    "# It is defined by the kaggle/python Docker image: https://github.com/kaggle/docker-python\n",
    "# For example, here's several helpful packages to load\n",
    "\n",
    "import numpy as np # linear algebra\n",
    "import pandas as pd # data processing, CSV file I/O (e.g. pd.read_csv)\n",
    "\n",
    "# Input data files are available in the read-only \"../input/\" directory\n",
    "# For example, running this (by clicking run or pressing Shift+Enter) will list all files under the input directory\n",
    "\n",
    "import os\n",
    "for dirname, _, filenames in os.walk('/kaggle/input'):\n",
    "    for filename in filenames:\n",
    "        print(os.path.join(dirname, filename))\n",
    "\n",
    "# You can write up to 20GB to the current directory (/kaggle/working/) that gets preserved as output when you create a version using \"Save & Run All\" \n",
    "# You can also write temporary files to /kaggle/temp/, but they won't be saved outside of the current session"
   ]
  },
  {
   "cell_type": "markdown",
   "id": "8474a0f1",
   "metadata": {
    "papermill": {
     "duration": 0.00253,
     "end_time": "2024-04-30T11:54:01.564655",
     "exception": false,
     "start_time": "2024-04-30T11:54:01.562125",
     "status": "completed"
    },
    "tags": []
   },
   "source": [
    "# > ***10)\tEvaluation of K-Nearest Neighbours classifier performance on Sample Dataset with varying test size***"
   ]
  },
  {
   "cell_type": "code",
   "execution_count": 2,
   "id": "f21958be",
   "metadata": {
    "execution": {
     "iopub.execute_input": "2024-04-30T11:54:01.572499Z",
     "iopub.status.busy": "2024-04-30T11:54:01.571173Z",
     "iopub.status.idle": "2024-04-30T11:54:03.298907Z",
     "shell.execute_reply": "2024-04-30T11:54:03.298012Z"
    },
    "papermill": {
     "duration": 1.733957,
     "end_time": "2024-04-30T11:54:03.301269",
     "exception": false,
     "start_time": "2024-04-30T11:54:01.567312",
     "status": "completed"
    },
    "tags": []
   },
   "outputs": [],
   "source": [
    "from sklearn.model_selection import train_test_split\n",
    "from sklearn.neighbors import KNeighborsClassifier\n",
    "from sklearn.metrics.cluster import adjusted_rand_score\n",
    "import pandas as pd\n",
    "import numpy as np\n",
    "import matplotlib.pyplot as plt"
   ]
  },
  {
   "cell_type": "code",
   "execution_count": 3,
   "id": "8499653c",
   "metadata": {
    "execution": {
     "iopub.execute_input": "2024-04-30T11:54:03.308946Z",
     "iopub.status.busy": "2024-04-30T11:54:03.308206Z",
     "iopub.status.idle": "2024-04-30T11:54:03.357744Z",
     "shell.execute_reply": "2024-04-30T11:54:03.355974Z"
    },
    "papermill": {
     "duration": 0.055909,
     "end_time": "2024-04-30T11:54:03.360061",
     "exception": false,
     "start_time": "2024-04-30T11:54:03.304152",
     "status": "completed"
    },
    "tags": []
   },
   "outputs": [
    {
     "data": {
      "text/html": [
       "<div>\n",
       "<style scoped>\n",
       "    .dataframe tbody tr th:only-of-type {\n",
       "        vertical-align: middle;\n",
       "    }\n",
       "\n",
       "    .dataframe tbody tr th {\n",
       "        vertical-align: top;\n",
       "    }\n",
       "\n",
       "    .dataframe thead th {\n",
       "        text-align: right;\n",
       "    }\n",
       "</style>\n",
       "<table border=\"1\" class=\"dataframe\">\n",
       "  <thead>\n",
       "    <tr style=\"text-align: right;\">\n",
       "      <th></th>\n",
       "      <th>STUDENT ID</th>\n",
       "      <th>1</th>\n",
       "      <th>2</th>\n",
       "      <th>3</th>\n",
       "      <th>4</th>\n",
       "      <th>5</th>\n",
       "      <th>6</th>\n",
       "      <th>7</th>\n",
       "      <th>8</th>\n",
       "      <th>9</th>\n",
       "      <th>...</th>\n",
       "      <th>23</th>\n",
       "      <th>24</th>\n",
       "      <th>25</th>\n",
       "      <th>26</th>\n",
       "      <th>27</th>\n",
       "      <th>28</th>\n",
       "      <th>29</th>\n",
       "      <th>30</th>\n",
       "      <th>COURSE ID</th>\n",
       "      <th>GRADE</th>\n",
       "    </tr>\n",
       "  </thead>\n",
       "  <tbody>\n",
       "    <tr>\n",
       "      <th>0</th>\n",
       "      <td>STUDENT1</td>\n",
       "      <td>2</td>\n",
       "      <td>2</td>\n",
       "      <td>3</td>\n",
       "      <td>3</td>\n",
       "      <td>1</td>\n",
       "      <td>2</td>\n",
       "      <td>2</td>\n",
       "      <td>1</td>\n",
       "      <td>1</td>\n",
       "      <td>...</td>\n",
       "      <td>1</td>\n",
       "      <td>1</td>\n",
       "      <td>3</td>\n",
       "      <td>2</td>\n",
       "      <td>1</td>\n",
       "      <td>2</td>\n",
       "      <td>1</td>\n",
       "      <td>1</td>\n",
       "      <td>1</td>\n",
       "      <td>1</td>\n",
       "    </tr>\n",
       "    <tr>\n",
       "      <th>1</th>\n",
       "      <td>STUDENT2</td>\n",
       "      <td>2</td>\n",
       "      <td>2</td>\n",
       "      <td>3</td>\n",
       "      <td>3</td>\n",
       "      <td>1</td>\n",
       "      <td>2</td>\n",
       "      <td>2</td>\n",
       "      <td>1</td>\n",
       "      <td>1</td>\n",
       "      <td>...</td>\n",
       "      <td>1</td>\n",
       "      <td>1</td>\n",
       "      <td>3</td>\n",
       "      <td>2</td>\n",
       "      <td>3</td>\n",
       "      <td>2</td>\n",
       "      <td>2</td>\n",
       "      <td>3</td>\n",
       "      <td>1</td>\n",
       "      <td>1</td>\n",
       "    </tr>\n",
       "    <tr>\n",
       "      <th>2</th>\n",
       "      <td>STUDENT3</td>\n",
       "      <td>2</td>\n",
       "      <td>2</td>\n",
       "      <td>2</td>\n",
       "      <td>3</td>\n",
       "      <td>2</td>\n",
       "      <td>2</td>\n",
       "      <td>2</td>\n",
       "      <td>2</td>\n",
       "      <td>4</td>\n",
       "      <td>...</td>\n",
       "      <td>1</td>\n",
       "      <td>1</td>\n",
       "      <td>2</td>\n",
       "      <td>2</td>\n",
       "      <td>1</td>\n",
       "      <td>1</td>\n",
       "      <td>2</td>\n",
       "      <td>2</td>\n",
       "      <td>1</td>\n",
       "      <td>1</td>\n",
       "    </tr>\n",
       "    <tr>\n",
       "      <th>3</th>\n",
       "      <td>STUDENT4</td>\n",
       "      <td>1</td>\n",
       "      <td>1</td>\n",
       "      <td>1</td>\n",
       "      <td>3</td>\n",
       "      <td>1</td>\n",
       "      <td>2</td>\n",
       "      <td>1</td>\n",
       "      <td>2</td>\n",
       "      <td>1</td>\n",
       "      <td>...</td>\n",
       "      <td>1</td>\n",
       "      <td>2</td>\n",
       "      <td>3</td>\n",
       "      <td>2</td>\n",
       "      <td>2</td>\n",
       "      <td>1</td>\n",
       "      <td>3</td>\n",
       "      <td>2</td>\n",
       "      <td>1</td>\n",
       "      <td>1</td>\n",
       "    </tr>\n",
       "    <tr>\n",
       "      <th>4</th>\n",
       "      <td>STUDENT5</td>\n",
       "      <td>2</td>\n",
       "      <td>2</td>\n",
       "      <td>1</td>\n",
       "      <td>3</td>\n",
       "      <td>2</td>\n",
       "      <td>2</td>\n",
       "      <td>1</td>\n",
       "      <td>3</td>\n",
       "      <td>1</td>\n",
       "      <td>...</td>\n",
       "      <td>2</td>\n",
       "      <td>1</td>\n",
       "      <td>2</td>\n",
       "      <td>2</td>\n",
       "      <td>2</td>\n",
       "      <td>1</td>\n",
       "      <td>2</td>\n",
       "      <td>2</td>\n",
       "      <td>1</td>\n",
       "      <td>1</td>\n",
       "    </tr>\n",
       "  </tbody>\n",
       "</table>\n",
       "<p>5 rows × 33 columns</p>\n",
       "</div>"
      ],
      "text/plain": [
       "  STUDENT ID  1  2  3  4  5  6  7  8  9  ...  23  24  25  26  27  28  29  30  \\\n",
       "0   STUDENT1  2  2  3  3  1  2  2  1  1  ...   1   1   3   2   1   2   1   1   \n",
       "1   STUDENT2  2  2  3  3  1  2  2  1  1  ...   1   1   3   2   3   2   2   3   \n",
       "2   STUDENT3  2  2  2  3  2  2  2  2  4  ...   1   1   2   2   1   1   2   2   \n",
       "3   STUDENT4  1  1  1  3  1  2  1  2  1  ...   1   2   3   2   2   1   3   2   \n",
       "4   STUDENT5  2  2  1  3  2  2  1  3  1  ...   2   1   2   2   2   1   2   2   \n",
       "\n",
       "   COURSE ID  GRADE  \n",
       "0          1      1  \n",
       "1          1      1  \n",
       "2          1      1  \n",
       "3          1      1  \n",
       "4          1      1  \n",
       "\n",
       "[5 rows x 33 columns]"
      ]
     },
     "execution_count": 3,
     "metadata": {},
     "output_type": "execute_result"
    }
   ],
   "source": [
    "file = pd.read_csv(\"/kaggle/input/students-performance/highereducationstudentsperformanceevaluation/DATA (1).csv\")\n",
    "file.head()"
   ]
  },
  {
   "cell_type": "code",
   "execution_count": 4,
   "id": "f7120a4d",
   "metadata": {
    "execution": {
     "iopub.execute_input": "2024-04-30T11:54:03.368696Z",
     "iopub.status.busy": "2024-04-30T11:54:03.368240Z",
     "iopub.status.idle": "2024-04-30T11:54:03.391804Z",
     "shell.execute_reply": "2024-04-30T11:54:03.390743Z"
    },
    "papermill": {
     "duration": 0.03059,
     "end_time": "2024-04-30T11:54:03.393924",
     "exception": false,
     "start_time": "2024-04-30T11:54:03.363334",
     "status": "completed"
    },
    "tags": []
   },
   "outputs": [
    {
     "data": {
      "text/html": [
       "<div>\n",
       "<style scoped>\n",
       "    .dataframe tbody tr th:only-of-type {\n",
       "        vertical-align: middle;\n",
       "    }\n",
       "\n",
       "    .dataframe tbody tr th {\n",
       "        vertical-align: top;\n",
       "    }\n",
       "\n",
       "    .dataframe thead th {\n",
       "        text-align: right;\n",
       "    }\n",
       "</style>\n",
       "<table border=\"1\" class=\"dataframe\">\n",
       "  <thead>\n",
       "    <tr style=\"text-align: right;\">\n",
       "      <th></th>\n",
       "      <th>1</th>\n",
       "      <th>2</th>\n",
       "      <th>3</th>\n",
       "      <th>4</th>\n",
       "      <th>5</th>\n",
       "      <th>6</th>\n",
       "      <th>7</th>\n",
       "      <th>8</th>\n",
       "      <th>9</th>\n",
       "      <th>10</th>\n",
       "      <th>...</th>\n",
       "      <th>23</th>\n",
       "      <th>24</th>\n",
       "      <th>25</th>\n",
       "      <th>26</th>\n",
       "      <th>27</th>\n",
       "      <th>28</th>\n",
       "      <th>29</th>\n",
       "      <th>30</th>\n",
       "      <th>COURSE ID</th>\n",
       "      <th>GRADE</th>\n",
       "    </tr>\n",
       "  </thead>\n",
       "  <tbody>\n",
       "    <tr>\n",
       "      <th>116</th>\n",
       "      <td>2</td>\n",
       "      <td>1</td>\n",
       "      <td>2</td>\n",
       "      <td>5</td>\n",
       "      <td>2</td>\n",
       "      <td>2</td>\n",
       "      <td>2</td>\n",
       "      <td>1</td>\n",
       "      <td>1</td>\n",
       "      <td>1</td>\n",
       "      <td>...</td>\n",
       "      <td>1</td>\n",
       "      <td>1</td>\n",
       "      <td>3</td>\n",
       "      <td>3</td>\n",
       "      <td>3</td>\n",
       "      <td>1</td>\n",
       "      <td>2</td>\n",
       "      <td>3</td>\n",
       "      <td>8</td>\n",
       "      <td>1</td>\n",
       "    </tr>\n",
       "    <tr>\n",
       "      <th>8</th>\n",
       "      <td>2</td>\n",
       "      <td>1</td>\n",
       "      <td>3</td>\n",
       "      <td>3</td>\n",
       "      <td>2</td>\n",
       "      <td>1</td>\n",
       "      <td>1</td>\n",
       "      <td>1</td>\n",
       "      <td>1</td>\n",
       "      <td>3</td>\n",
       "      <td>...</td>\n",
       "      <td>1</td>\n",
       "      <td>1</td>\n",
       "      <td>3</td>\n",
       "      <td>2</td>\n",
       "      <td>2</td>\n",
       "      <td>2</td>\n",
       "      <td>4</td>\n",
       "      <td>3</td>\n",
       "      <td>1</td>\n",
       "      <td>5</td>\n",
       "    </tr>\n",
       "    <tr>\n",
       "      <th>138</th>\n",
       "      <td>1</td>\n",
       "      <td>1</td>\n",
       "      <td>2</td>\n",
       "      <td>4</td>\n",
       "      <td>1</td>\n",
       "      <td>1</td>\n",
       "      <td>1</td>\n",
       "      <td>5</td>\n",
       "      <td>2</td>\n",
       "      <td>3</td>\n",
       "      <td>...</td>\n",
       "      <td>2</td>\n",
       "      <td>1</td>\n",
       "      <td>3</td>\n",
       "      <td>2</td>\n",
       "      <td>3</td>\n",
       "      <td>1</td>\n",
       "      <td>1</td>\n",
       "      <td>3</td>\n",
       "      <td>9</td>\n",
       "      <td>0</td>\n",
       "    </tr>\n",
       "    <tr>\n",
       "      <th>57</th>\n",
       "      <td>2</td>\n",
       "      <td>2</td>\n",
       "      <td>2</td>\n",
       "      <td>3</td>\n",
       "      <td>1</td>\n",
       "      <td>1</td>\n",
       "      <td>2</td>\n",
       "      <td>1</td>\n",
       "      <td>1</td>\n",
       "      <td>1</td>\n",
       "      <td>...</td>\n",
       "      <td>1</td>\n",
       "      <td>1</td>\n",
       "      <td>3</td>\n",
       "      <td>2</td>\n",
       "      <td>3</td>\n",
       "      <td>1</td>\n",
       "      <td>5</td>\n",
       "      <td>4</td>\n",
       "      <td>1</td>\n",
       "      <td>4</td>\n",
       "    </tr>\n",
       "    <tr>\n",
       "      <th>120</th>\n",
       "      <td>2</td>\n",
       "      <td>1</td>\n",
       "      <td>1</td>\n",
       "      <td>3</td>\n",
       "      <td>1</td>\n",
       "      <td>1</td>\n",
       "      <td>1</td>\n",
       "      <td>2</td>\n",
       "      <td>2</td>\n",
       "      <td>3</td>\n",
       "      <td>...</td>\n",
       "      <td>2</td>\n",
       "      <td>1</td>\n",
       "      <td>3</td>\n",
       "      <td>3</td>\n",
       "      <td>3</td>\n",
       "      <td>2</td>\n",
       "      <td>2</td>\n",
       "      <td>2</td>\n",
       "      <td>8</td>\n",
       "      <td>1</td>\n",
       "    </tr>\n",
       "  </tbody>\n",
       "</table>\n",
       "<p>5 rows × 32 columns</p>\n",
       "</div>"
      ],
      "text/plain": [
       "     1  2  3  4  5  6  7  8  9  10  ...  23  24  25  26  27  28  29  30  \\\n",
       "116  2  1  2  5  2  2  2  1  1   1  ...   1   1   3   3   3   1   2   3   \n",
       "8    2  1  3  3  2  1  1  1  1   3  ...   1   1   3   2   2   2   4   3   \n",
       "138  1  1  2  4  1  1  1  5  2   3  ...   2   1   3   2   3   1   1   3   \n",
       "57   2  2  2  3  1  1  2  1  1   1  ...   1   1   3   2   3   1   5   4   \n",
       "120  2  1  1  3  1  1  1  2  2   3  ...   2   1   3   3   3   2   2   2   \n",
       "\n",
       "     COURSE ID  GRADE  \n",
       "116          8      1  \n",
       "8            1      5  \n",
       "138          9      0  \n",
       "57           1      4  \n",
       "120          8      1  \n",
       "\n",
       "[5 rows x 32 columns]"
      ]
     },
     "execution_count": 4,
     "metadata": {},
     "output_type": "execute_result"
    }
   ],
   "source": [
    "# Here, I've removed the column containing student IDs from the dataset.\n",
    "file.drop(\"STUDENT ID\",axis=1,inplace=True)\n",
    "file.sample(5)"
   ]
  },
  {
   "cell_type": "code",
   "execution_count": 5,
   "id": "3866e7ba",
   "metadata": {
    "execution": {
     "iopub.execute_input": "2024-04-30T11:54:03.402456Z",
     "iopub.status.busy": "2024-04-30T11:54:03.402072Z",
     "iopub.status.idle": "2024-04-30T11:54:03.408320Z",
     "shell.execute_reply": "2024-04-30T11:54:03.406943Z"
    },
    "papermill": {
     "duration": 0.013367,
     "end_time": "2024-04-30T11:54:03.410692",
     "exception": false,
     "start_time": "2024-04-30T11:54:03.397325",
     "status": "completed"
    },
    "tags": []
   },
   "outputs": [
    {
     "name": "stdout",
     "output_type": "stream",
     "text": [
      "(145, 31) 145\n"
     ]
    }
   ],
   "source": [
    "f = np.array(file)\n",
    "X = file.iloc[:,:-1].values\n",
    "y = file.iloc[:,-1].values\n",
    "\n",
    "print(X.shape, len(y))"
   ]
  },
  {
   "cell_type": "code",
   "execution_count": 6,
   "id": "a9dc12e2",
   "metadata": {
    "execution": {
     "iopub.execute_input": "2024-04-30T11:54:03.419485Z",
     "iopub.status.busy": "2024-04-30T11:54:03.419165Z",
     "iopub.status.idle": "2024-04-30T11:54:03.424229Z",
     "shell.execute_reply": "2024-04-30T11:54:03.422542Z"
    },
    "papermill": {
     "duration": 0.01236,
     "end_time": "2024-04-30T11:54:03.426519",
     "exception": false,
     "start_time": "2024-04-30T11:54:03.414159",
     "status": "completed"
    },
    "tags": []
   },
   "outputs": [],
   "source": [
    "clf = KNeighborsClassifier(n_neighbors = 3)\n",
    "\n",
    "aris = []\n",
    "\n",
    "j = [0.2,0.3,0.4,0.5]"
   ]
  },
  {
   "cell_type": "code",
   "execution_count": 7,
   "id": "fbabda16",
   "metadata": {
    "execution": {
     "iopub.execute_input": "2024-04-30T11:54:03.435338Z",
     "iopub.status.busy": "2024-04-30T11:54:03.434935Z",
     "iopub.status.idle": "2024-04-30T11:54:03.489102Z",
     "shell.execute_reply": "2024-04-30T11:54:03.488041Z"
    },
    "papermill": {
     "duration": 0.060801,
     "end_time": "2024-04-30T11:54:03.491065",
     "exception": false,
     "start_time": "2024-04-30T11:54:03.430264",
     "status": "completed"
    },
    "tags": []
   },
   "outputs": [
    {
     "name": "stdout",
     "output_type": "stream",
     "text": [
      "(116, 31) (29, 31) 116 29\n",
      "[5 5 1 3 1 1 3 6 7 2 0 3 0 4 6 2 2 3 6 7 6 0 0 5 3 3 4 4 2] 29\n",
      "[1 1 1 1 1 1 3 2 3 1 1 5 0 3 5 1 1 2 7 1 3 1 2 5 1 5 1 7 2] 29\n",
      "ARI for 3 -0.02544722549280261\n",
      "******************************************************\n",
      "\n",
      "(101, 31) (44, 31) 101 44\n",
      "[5 5 1 3 1 1 3 6 7 2 0 3 0 4 6 2 2 3 6 7 6 0 0 5 3 3 4 4 2 0 1 1 1 2 1 2 1\n",
      " 2 1 7 2 6 2 1] 44\n",
      "[1 1 1 1 1 1 3 7 3 1 4 5 0 3 5 1 1 2 7 7 3 0 2 5 1 5 1 7 2 1 1 1 0 1 1 2 1\n",
      " 2 1 7 7 1 1 3] 44\n",
      "ARI for 3 0.10822655577452564\n",
      "******************************************************\n",
      "\n",
      "(87, 31) (58, 31) 87 58\n",
      "[5 5 1 3 1 1 3 6 7 2 0 3 0 4 6 2 2 3 6 7 6 0 0 5 3 3 4 4 2 0 1 1 1 2 1 2 1\n",
      " 2 1 7 2 6 2 1 2 3 1 4 2 3 1 4 5 1 2 7 1 5] 58\n",
      "[1 1 1 1 1 1 3 7 3 1 4 5 0 6 3 1 1 2 1 3 3 0 2 5 1 5 1 7 2 1 2 1 0 1 1 1 1\n",
      " 2 1 7 7 1 1 2 1 1 2 7 1 1 1 3 3 5 1 1 1 5] 58\n",
      "ARI for 3 0.08478750620489518\n",
      "******************************************************\n",
      "\n",
      "(72, 31) (73, 31) 72 73\n",
      "[5 5 1 3 1 1 3 6 7 2 0 3 0 4 6 2 2 3 6 7 6 0 0 5 3 3 4 4 2 0 1 1 1 2 1 2 1\n",
      " 2 1 7 2 6 2 1 2 3 1 4 2 3 1 4 5 1 2 7 1 5 3 3 3 1 3 5 6 3 2 7 4 3 5 2 5] 73\n",
      "[1 1 1 1 1 1 3 7 3 1 4 1 0 6 5 1 1 1 1 3 3 0 2 5 1 5 1 7 2 1 2 1 0 1 1 1 1\n",
      " 2 1 7 7 1 1 1 1 1 2 3 1 1 1 6 3 5 1 3 1 5 1 1 6 1 1 1 6 2 1 6 1 1 2 1 1] 73\n",
      "ARI for 3 0.09370352007932573\n",
      "******************************************************\n",
      "\n"
     ]
    }
   ],
   "source": [
    "for i in j:\n",
    "    X_train, test_x, y_train, test_lab = train_test_split(X, y, test_size = i, random_state = 42)\n",
    "    print(X_train.shape, test_x.shape, len(y_train), len(test_lab))\n",
    "    \n",
    "    clf = clf.fit(X_train, y_train)\n",
    "    test_pred_deci_tree = clf.predict(test_x)\n",
    "    \n",
    "    print(test_lab, len(test_lab))\n",
    "    print(test_pred_deci_tree, len(test_pred_deci_tree))\n",
    "    \n",
    "    print(\"ARI for 3\", adjusted_rand_score(test_pred_deci_tree, test_lab))\n",
    "    print(\"******************************************************\")\n",
    "    \n",
    "    print(\"\")\n",
    "    aris.append(adjusted_rand_score(test_pred_deci_tree, test_lab))"
   ]
  },
  {
   "cell_type": "code",
   "execution_count": 8,
   "id": "52e21bf0",
   "metadata": {
    "execution": {
     "iopub.execute_input": "2024-04-30T11:54:03.500442Z",
     "iopub.status.busy": "2024-04-30T11:54:03.499239Z",
     "iopub.status.idle": "2024-04-30T11:54:03.786654Z",
     "shell.execute_reply": "2024-04-30T11:54:03.785216Z"
    },
    "papermill": {
     "duration": 0.294806,
     "end_time": "2024-04-30T11:54:03.789506",
     "exception": false,
     "start_time": "2024-04-30T11:54:03.494700",
     "status": "completed"
    },
    "tags": []
   },
   "outputs": [
    {
     "name": "stdout",
     "output_type": "stream",
     "text": [
      "[-0.02544722549280261, 0.10822655577452564, 0.08478750620489518, 0.09370352007932573]\n",
      "[0.2, 0.3, 0.4, 0.5]\n"
     ]
    },
    {
     "data": {
      "image/png": "[encoded data removed]",
      "text/plain": [
       "<Figure size 640x480 with 1 Axes>"
      ]
     },
     "metadata": {},
     "output_type": "display_data"
    }
   ],
   "source": [
    "# plotting\n",
    "j1 = [\"0.2\",\"0.3\",\"0.4\",\"0.5\"]\n",
    "print(aris)\n",
    "print(j)\n",
    "\n",
    "fig = plt.figure()\n",
    "plt.bar(j1, aris)\n",
    "plt.xlabel(\"Test Size\")\n",
    "plt.ylabel(\"Adjusted Rand Index [ARI]\")\n",
    "plt.title(\"Adjusted Rand Index vs. Test Size for K-Nearest Classifier\")\n",
    "plt.show()"
   ]
  }
 ],
 "metadata": {
  "kaggle": {
   "accelerator": "none",
   "dataSources": [
    {
     "datasetId": 3684241,
     "sourceId": 6715567,
     "sourceType": "datasetVersion"
    }
   ],
   "dockerImageVersionId": 30698,
   "isGpuEnabled": false,
   "isInternetEnabled": true,
   "language": "python",
   "sourceType": "notebook"
  },
  "kernelspec": {
   "display_name": "Python 3",
   "language": "python",
   "name": "python3"
  },
  "language_info": {
   "codemirror_mode": {
    "name": "ipython",
    "version": 3
   },
   "file_extension": ".py",
   "mimetype": "text/x-python",
   "name": "python",
   "nbconvert_exporter": "python",
   "pygments_lexer": "ipython3",
   "version": "3.10.13"
  },
  "papermill": {
   "default_parameters": {},
   "duration": 7.159182,
   "end_time": "2024-04-30T11:54:04.414622",
   "environment_variables": {},
   "exception": null,
   "input_path": "__notebook__.ipynb",
   "output_path": "__notebook__.ipynb",
   "parameters": {},
   "start_time": "2024-04-30T11:53:57.255440",
   "version": "2.5.0"
  }
 },
 "nbformat": 4,
 "nbformat_minor": 5
}
